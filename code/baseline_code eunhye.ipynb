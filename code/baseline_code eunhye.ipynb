{
  "cells": [
    {
      "cell_type": "markdown",
      "metadata": {
        "id": "2-DJzJjvO88V"
      },
      "source": [
        "## 1. Library Import\n",
        "- 필요한 라이브러리를 불러옵니다."
      ]
    },
    {
      "cell_type": "code",
      "execution_count": 4,
      "metadata": {
        "colab": {
          "base_uri": "https://localhost:8080/"
        },
        "id": "PKs1Mj7OcWU0",
        "outputId": "d142df48-acc5-4bca-c9be-18575aa6a6dc"
      },
      "outputs": [
        {
          "name": "stdout",
          "output_type": "stream",
          "text": [
            "Requirement already satisfied: eli5==0.13.0 in /home/realtheai/documents/upstage-ml-regression-sigma7/regression/lib/python3.11/site-packages (0.13.0)\n",
            "Requirement already satisfied: attrs>17.1.0 in /home/realtheai/documents/upstage-ml-regression-sigma7/regression/lib/python3.11/site-packages (from eli5==0.13.0) (25.3.0)\n",
            "Requirement already satisfied: jinja2>=3.0.0 in /home/realtheai/documents/upstage-ml-regression-sigma7/regression/lib/python3.11/site-packages (from eli5==0.13.0) (3.1.6)\n",
            "Requirement already satisfied: numpy>=1.9.0 in /home/realtheai/documents/upstage-ml-regression-sigma7/regression/lib/python3.11/site-packages (from eli5==0.13.0) (1.23.5)\n",
            "Requirement already satisfied: scipy in /home/realtheai/documents/upstage-ml-regression-sigma7/regression/lib/python3.11/site-packages (from eli5==0.13.0) (1.11.3)\n",
            "Requirement already satisfied: six in /home/realtheai/documents/upstage-ml-regression-sigma7/regression/lib/python3.11/site-packages (from eli5==0.13.0) (1.17.0)\n",
            "Requirement already satisfied: scikit-learn>=0.20 in /home/realtheai/documents/upstage-ml-regression-sigma7/regression/lib/python3.11/site-packages (from eli5==0.13.0) (1.2.2)\n",
            "Requirement already satisfied: graphviz in /home/realtheai/documents/upstage-ml-regression-sigma7/regression/lib/python3.11/site-packages (from eli5==0.13.0) (0.21)\n",
            "Requirement already satisfied: tabulate>=0.7.7 in /home/realtheai/documents/upstage-ml-regression-sigma7/regression/lib/python3.11/site-packages (from eli5==0.13.0) (0.9.0)\n",
            "Requirement already satisfied: MarkupSafe>=2.0 in /home/realtheai/documents/upstage-ml-regression-sigma7/regression/lib/python3.11/site-packages (from jinja2>=3.0.0->eli5==0.13.0) (3.0.2)\n",
            "Requirement already satisfied: joblib>=1.1.1 in /home/realtheai/documents/upstage-ml-regression-sigma7/regression/lib/python3.11/site-packages (from scikit-learn>=0.20->eli5==0.13.0) (1.5.2)\n",
            "Requirement already satisfied: threadpoolctl>=2.0.0 in /home/realtheai/documents/upstage-ml-regression-sigma7/regression/lib/python3.11/site-packages (from scikit-learn>=0.20->eli5==0.13.0) (3.6.0)\n",
            "E: Could not open lock file /var/lib/dpkg/lock-frontend - open (13: Permission denied)\n",
            "E: Unable to acquire the dpkg frontend lock (/var/lib/dpkg/lock-frontend), are you root?\n"
          ]
        }
      ],
      "source": [
        "!pip install eli5==0.13.0\n",
        "\n",
        "# 한글 폰트 사용을 위한 라이브러리입니다.\n",
        "!apt-get install -y fonts-nanum"
      ]
    },
    {
      "cell_type": "code",
      "execution_count": 5,
      "metadata": {
        "id": "d-NiCLGs4ZpM"
      },
      "outputs": [],
      "source": [
        "# visualization\n",
        "import matplotlib.pyplot as plt\n",
        "import matplotlib.font_manager as fm\n",
        "fe = fm.FontEntry(\n",
        "    fname=r'/usr/share/fonts/truetype/nanum/NanumGothic.ttf', # ttf 파일이 저장되어 있는 경로\n",
        "    name='NanumBarunGothic')                        # 이 폰트의 원하는 이름 설정\n",
        "fm.fontManager.ttflist.insert(0, fe)              # Matplotlib에 폰트 추가\n",
        "plt.rcParams.update({'font.size': 10, 'font.family': 'NanumBarunGothic'}) # 폰트 설정\n",
        "plt.rc('font', family='NanumBarunGothic')\n",
        "import seaborn as sns\n",
        "\n",
        "# utils\n",
        "import pandas as pd\n",
        "import numpy as np\n",
        "from tqdm import tqdm\n",
        "import pickle\n",
        "import warnings;warnings.filterwarnings('ignore')\n",
        "\n",
        "# Model\n",
        "from sklearn.preprocessing import LabelEncoder\n",
        "from sklearn.model_selection import train_test_split\n",
        "from sklearn.metrics import mean_squared_error\n",
        "from sklearn.ensemble import RandomForestRegressor\n",
        "from sklearn import metrics\n",
        "\n",
        "import eli5\n",
        "from eli5.sklearn import PermutationImportance"
      ]
    },
    {
      "cell_type": "markdown",
      "metadata": {
        "id": "OPJvYT0OPAWS"
      },
      "source": [
        "## 2. Data Load"
      ]
    },
    {
      "cell_type": "markdown",
      "metadata": {
        "id": "vvwnwnpNJeR1"
      },
      "source": [
        "#### 2.1. 데이터 로드"
      ]
    },
    {
      "cell_type": "code",
      "execution_count": 6,
      "metadata": {
        "id": "hx6nk3N_4_Tk"
      },
      "outputs": [
        {
          "name": "stdout",
          "output_type": "stream",
          "text": [
            "Train data shape :  (1118822, 52) Test data shape :  (9272, 51)\n"
          ]
        }
      ],
      "source": [
        "# 필요한 데이터를 Load 하겠습니다. 경로는 환경에 맞게 지정해주세요 합니다.\n",
        "train_path = \"/home/realtheai/documents/upstage-ml-regression-sigma7/train.csv\"\n",
        "test_path = \"/home/realtheai/documents/upstage-ml-regression-sigma7/test.csv\"\n",
        "\n",
        "dt_train = pd.read_csv(train_path)  # train 데이터\n",
        "dt_test = pd.read_csv(test_path)    # test 데이터\n",
        "\n",
        "# Train data와 Test data shape을 이렇게 확인합니다.\n",
        "print('Train data shape : ', dt_train.shape, 'Test data shape : ', dt_test.shape)"
      ]
    },
    {
      "cell_type": "code",
      "execution_count": 7,
      "metadata": {
        "colab": {
          "base_uri": "https://localhost:8080/"
        },
        "id": "O6tWMND66vT8",
        "outputId": "e0ba702b-6662-4723-c5a1-600d7236e597"
      },
      "outputs": [
        {
          "name": "stdout",
          "output_type": "stream",
          "text": [
            "Train data shape :  (1118822, 52) Test data shape :  (9272, 51)\n"
          ]
        }
      ],
      "source": [
        "# Train data와 Test data shape은 아래와 같습니다.\n",
        "print('Train data shape : ', dt_train.shape, 'Test data shape : ', dt_test.shape)"
      ]
    },
    {
      "cell_type": "markdown",
      "metadata": {
        "id": "KVjw5Cnz24nz"
      },
      "source": [
        "## 3. Data Preprocessing"
      ]
    },
    {
      "cell_type": "markdown",
      "metadata": {
        "id": "X24Y1OIR2_oa"
      },
      "source": [
        "- 모델링 전에 데이터 내 결측치, 이상치 등을 제거하고 범주형과 연속형 변수를 살펴보도록 하겠습니다!\n",
        "- 먼저, 용이한 전처리를 위해 train과 test data를 합친 하나의 데이터로 진행하도록 하겠습니다."
      ]
    },
    {
      "cell_type": "code",
      "execution_count": 8,
      "metadata": {
        "id": "vltXVoeRhZiI"
      },
      "outputs": [],
      "source": [
        "# train/test 구분을 위한 칼럼을 하나 만들어 줍니다.\n",
        "dt_train['is_test'] = 0\n",
        "dt_test['is_test'] = 1\n",
        "concat = pd.concat([dt_train, dt_test])     # 하나의 데이터로 만들어줍니다."
      ]
    },
    {
      "cell_type": "code",
      "execution_count": 8,
      "metadata": {},
      "outputs": [],
      "source": [
        "# train/test 구분을 위한 칼럼을 하나 만들어 줍니다.\n",
        "dt_train['is_test'] = 0\n",
        "dt_test['is_test'] = 1\n",
        "concat = pd.concat([dt_train, dt_test])     # 하나의 데이터로 만들어줍니다."
      ]
    },
    {
      "cell_type": "code",
      "execution_count": 9,
      "metadata": {
        "colab": {
          "base_uri": "https://localhost:8080/"
        },
        "id": "e-iZAY9WxQLK",
        "outputId": "ee049806-cb94-4336-f376-6a5c6947f79a"
      },
      "outputs": [
        {
          "data": {
            "text/plain": [
              "0    1118822\n",
              "1       9272\n",
              "Name: is_test, dtype: int64"
            ]
          },
          "execution_count": 9,
          "metadata": {},
          "output_type": "execute_result"
        }
      ],
      "source": [
        "concat['is_test'].value_counts()      # train과 test data가 하나로 합쳐진 것을 확인할 수 있습니다."
      ]
    },
    {
      "cell_type": "code",
      "execution_count": 10,
      "metadata": {
        "id": "ZTc6lhBhOAhu"
      },
      "outputs": [],
      "source": [
        "# 칼럼 이름을 쉽게 바꿔주겠습니다. 다른 칼럼도 사용에 따라 바꿔주셔도 됩니다!\n",
        "concat = concat.rename(columns={'전용면적(㎡)':'전용면적'})\n"
      ]
    },
    {
      "cell_type": "code",
      "execution_count": 11,
      "metadata": {
        "colab": {
          "base_uri": "https://localhost:8080/",
          "height": 232
        },
        "id": "MEHdKgjWZ8lz",
        "outputId": "a1a85968-3d94-4681-e723-e86416c1f551"
      },
      "outputs": [
        {
          "data": {
            "text/plain": [
              "            1111271\n",
              "20230630        585\n",
              "20230831        496\n",
              "20230428        394\n",
              "20230731        374\n",
              "             ...   \n",
              "20230105          3\n",
              "20230125          3\n",
              "20230109          1\n",
              "20230102          1\n",
              "20230104          1\n",
              "Name: 등기신청일자, Length: 182, dtype: int64"
            ]
          },
          "metadata": {},
          "output_type": "display_data"
        }
      ],
      "source": [
        "# 실제로 결측치라고 표시는 안되어있지만 아무 의미도 갖지 않는 element들이 아래와 같이 존재합니다.\n",
        "# 아래 3가지의 경우 모두 아무 의미도 갖지 않는 element가 포함되어 있습니다.\n",
        "display(concat['등기신청일자'].value_counts())"
      ]
    },
    {
      "cell_type": "code",
      "execution_count": 12,
      "metadata": {
        "colab": {
          "base_uri": "https://localhost:8080/",
          "height": 89
        },
        "id": "OmquYhmsaZhS",
        "outputId": "b9936049-27f9-454f-d88f-07683d6163d6"
      },
      "outputs": [
        {
          "data": {
            "text/plain": [
              "-       1086451\n",
              "중개거래      38123\n",
              "직거래        3520\n",
              "Name: 거래유형, dtype: int64"
            ]
          },
          "metadata": {},
          "output_type": "display_data"
        }
      ],
      "source": [
        "display(concat['거래유형'].value_counts())"
      ]
    },
    {
      "cell_type": "code",
      "execution_count": 13,
      "metadata": {
        "colab": {
          "base_uri": "https://localhost:8080/",
          "height": 232
        },
        "id": "kDezmZgQaaXT",
        "outputId": "709b3873-a614-448d-f5fd-1f20ffbba1de"
      },
      "outputs": [
        {
          "data": {
            "text/plain": [
              "-                    1090013\n",
              "서울 노원구                  2627\n",
              "서울 송파구                  2540\n",
              "서울 강남구                  2508\n",
              "서울 강동구                  2038\n",
              "                      ...   \n",
              "서울 강북구, 서울 양천구             1\n",
              "경기 남양주시, 경기 성남수정구          1\n",
              "서울 송파구, 인천 계양구             1\n",
              "경기 연천군, 서울 송파구             1\n",
              "서울 중랑구, 인천 부평구             1\n",
              "Name: 중개사소재지, Length: 739, dtype: int64"
            ]
          },
          "metadata": {},
          "output_type": "display_data"
        }
      ],
      "source": [
        "display(concat['중개사소재지'].value_counts())"
      ]
    },
    {
      "cell_type": "code",
      "execution_count": 15,
      "metadata": {
        "id": "PSC14w1WZ-5I"
      },
      "outputs": [],
      "source": [
        "# 위 처럼 아무 의미도 갖지 않는 칼럼은 결측치와 같은 역할을 하므로, np.nan으로 채워 결측치로 인식되도록 합니다.\n",
        "concat['등기신청일자'] = concat['등기신청일자'].replace(' ', np.nan)\n",
        "concat['거래유형'] = concat['거래유형'].replace('-', np.nan)\n",
        "concat['중개사소재지'] = concat['중개사소재지'].replace('-', np.nan)"
      ]
    },
    {
      "cell_type": "code",
      "execution_count": 14,
      "metadata": {
        "colab": {
          "base_uri": "https://localhost:8080/"
        },
        "id": "msOiDlOPQ8hS",
        "outputId": "4ab60461-ef7e-4037-e6f4-5de494eed5bd"
      },
      "outputs": [
        {
          "data": {
            "text/plain": [
              "시군구                             0\n",
              "번지                            227\n",
              "본번                             75\n",
              "부번                             75\n",
              "아파트명                         2136\n",
              "전용면적                            0\n",
              "계약년월                            0\n",
              "계약일                             0\n",
              "층                               0\n",
              "건축년도                            0\n",
              "도로명                             0\n",
              "해제사유발생일                   1121899\n",
              "등기신청일자                          0\n",
              "거래유형                            0\n",
              "중개사소재지                          0\n",
              "k-단지분류(아파트,주상복합등등)         877273\n",
              "k-전화번호                     876850\n",
              "k-팩스번호                     879348\n",
              "단지소개기존clob                1058958\n",
              "k-세대타입(분양형태)               876125\n",
              "k-관리방식                     876125\n",
              "k-복도유형                     876454\n",
              "k-난방방식                     876125\n",
              "k-전체동수                     877207\n",
              "k-전체세대수                    876125\n",
              "k-건설사(시공사)                 877637\n",
              "k-시행사                      877834\n",
              "k-사용검사일-사용승인일              876259\n",
              "k-연면적                      876125\n",
              "k-주거전용면적                   876170\n",
              "k-관리비부과면적                  876125\n",
              "k-전용면적별세대현황(60㎡이하)         876170\n",
              "k-전용면적별세대현황(60㎡~85㎡이하)     876170\n",
              "k-85㎡~135㎡이하               876170\n",
              "k-135㎡초과                  1127765\n",
              "k-홈페이지                    1013523\n",
              "k-등록일자                    1116386\n",
              "k-수정일자                     876170\n",
              "고용보험관리번호                   920757\n",
              "경비비관리형태                    877561\n",
              "세대전기계약방법                   885389\n",
              "청소비관리형태                    877751\n",
              "건축면적                       876279\n",
              "주차대수                       876277\n",
              "기타/의무/임대/임의=1/2/3/4        876125\n",
              "단지승인일                      876854\n",
              "사용허가여부                     876125\n",
              "관리비 업로드                    876125\n",
              "좌표X                        876232\n",
              "좌표Y                        876232\n",
              "단지신청일                      876187\n",
              "target                       9272\n",
              "is_test                         0\n",
              "dtype: int64"
            ]
          },
          "execution_count": 14,
          "metadata": {},
          "output_type": "execute_result"
        }
      ],
      "source": [
        "# EDA에 앞서 결측치를 확인해보겠습니다.\n",
        "concat.isnull().sum()"
      ]
    },
    {
      "cell_type": "code",
      "execution_count": 15,
      "metadata": {
        "colab": {
          "base_uri": "https://localhost:8080/",
          "height": 452
        },
        "id": "WcJKURyma8MS",
        "outputId": "e181a5dc-04b9-41b8-be43-ad6f777048f1"
      },
      "outputs": [
        {
          "data": {
            "image/png": "[encoded data removed]",
            "text/plain": [
              "<Figure size 1300x200 with 1 Axes>"
            ]
          },
          "metadata": {},
          "output_type": "display_data"
        }
      ],
      "source": [
        "# 변수별 결측치의 비율을 plot으로 그려보면 아래와 같습니다.\n",
        "fig = plt.figure(figsize=(13, 2))\n",
        "missing = concat.isnull().sum() / concat.shape[0]\n",
        "missing = missing[missing > 0]\n",
        "missing.sort_values(inplace=True)\n",
        "missing.plot.bar(color='orange')\n",
        "plt.title('변수별 결측치 비율')\n",
        "plt.show()"
      ]
    },
    {
      "cell_type": "markdown",
      "metadata": {
        "id": "yLNXVw1dysm-"
      },
      "source": [
        "- 위 그래프에서 볼 수 있다시피 결측치가 100만개 이상인 칼럼들은 결측치가 해당 칼럼의 element 중 90% 이상을 차지하는 상황이 됩니다.\n",
        "- 따라서 본 Baseline 에서는 이 칼럼은 예측에 도움이 되지 않는다고 판단해 삭제해주도록 하겠습니다."
      ]
    },
    {
      "cell_type": "code",
      "execution_count": 16,
      "metadata": {
        "colab": {
          "base_uri": "https://localhost:8080/"
        },
        "id": "41uYYfXhTWYB",
        "outputId": "e3c4d33e-56fb-4284-b1ea-3a53251c5a2c"
      },
      "outputs": [
        {
          "name": "stdout",
          "output_type": "stream",
          "text": [
            "* 결측치가 100만개 이하인 변수들 : ['시군구', '번지', '본번', '부번', '아파트명', '전용면적', '계약년월', '계약일', '층', '건축년도', '도로명', '등기신청일자', '거래유형', '중개사소재지', 'k-단지분류(아파트,주상복합등등)', 'k-전화번호', 'k-팩스번호', 'k-세대타입(분양형태)', 'k-관리방식', 'k-복도유형', 'k-난방방식', 'k-전체동수', 'k-전체세대수', 'k-건설사(시공사)', 'k-시행사', 'k-사용검사일-사용승인일', 'k-연면적', 'k-주거전용면적', 'k-관리비부과면적', 'k-전용면적별세대현황(60㎡이하)', 'k-전용면적별세대현황(60㎡~85㎡이하)', 'k-85㎡~135㎡이하', 'k-수정일자', '고용보험관리번호', '경비비관리형태', '세대전기계약방법', '청소비관리형태', '건축면적', '주차대수', '기타/의무/임대/임의=1/2/3/4', '단지승인일', '사용허가여부', '관리비 업로드', '좌표X', '좌표Y', '단지신청일', 'target', 'is_test']\n",
            "* 결측치가 100만개 이상인 변수들 : ['해제사유발생일', '단지소개기존clob', 'k-135㎡초과', 'k-홈페이지', 'k-등록일자']\n"
          ]
        }
      ],
      "source": [
        "# Null값이 100만개 이상인 칼럼은 삭제해보도록 하겠습니다.\n",
        "print('* 결측치가 100만개 이하인 변수들 :', list(concat.columns[concat.isnull().sum() <= 1000000]))     # 남겨질 변수들은 아래와 같습니다.\n",
        "print('* 결측치가 100만개 이상인 변수들 :', list(concat.columns[concat.isnull().sum() >= 1000000]))"
      ]
    },
    {
      "cell_type": "code",
      "execution_count": 17,
      "metadata": {},
      "outputs": [],
      "source": [
        "# 위에서 결측치가 100만개 이하인 변수들만 골라 새로운 concat_select 객체로 저장해줍니다.\n",
        "selected = list(concat.columns[concat.isnull().sum() <= 1000000])\n",
        "concat_select = concat[selected]"
      ]
    },
    {
      "cell_type": "code",
      "execution_count": 18,
      "metadata": {
        "colab": {
          "base_uri": "https://localhost:8080/"
        },
        "id": "cOvWhZncQrO_",
        "outputId": "f73f7b51-b5dc-4635-ad5c-6a9eaa5ef1a0"
      },
      "outputs": [
        {
          "data": {
            "text/plain": [
              "시군구                            0\n",
              "번지                           227\n",
              "본번                            75\n",
              "부번                            75\n",
              "아파트명                        2136\n",
              "전용면적                           0\n",
              "계약년월                           0\n",
              "계약일                            0\n",
              "층                              0\n",
              "건축년도                           0\n",
              "도로명                            0\n",
              "등기신청일자                         0\n",
              "거래유형                           0\n",
              "중개사소재지                         0\n",
              "k-단지분류(아파트,주상복합등등)        877273\n",
              "k-전화번호                    876850\n",
              "k-팩스번호                    879348\n",
              "k-세대타입(분양형태)              876125\n",
              "k-관리방식                    876125\n",
              "k-복도유형                    876454\n",
              "k-난방방식                    876125\n",
              "k-전체동수                    877207\n",
              "k-전체세대수                   876125\n",
              "k-건설사(시공사)                877637\n",
              "k-시행사                     877834\n",
              "k-사용검사일-사용승인일             876259\n",
              "k-연면적                     876125\n",
              "k-주거전용면적                  876170\n",
              "k-관리비부과면적                 876125\n",
              "k-전용면적별세대현황(60㎡이하)        876170\n",
              "k-전용면적별세대현황(60㎡~85㎡이하)    876170\n",
              "k-85㎡~135㎡이하              876170\n",
              "k-수정일자                    876170\n",
              "고용보험관리번호                  920757\n",
              "경비비관리형태                   877561\n",
              "세대전기계약방법                  885389\n",
              "청소비관리형태                   877751\n",
              "건축면적                      876279\n",
              "주차대수                      876277\n",
              "기타/의무/임대/임의=1/2/3/4       876125\n",
              "단지승인일                     876854\n",
              "사용허가여부                    876125\n",
              "관리비 업로드                   876125\n",
              "좌표X                       876232\n",
              "좌표Y                       876232\n",
              "단지신청일                     876187\n",
              "target                      9272\n",
              "is_test                        0\n",
              "dtype: int64"
            ]
          },
          "execution_count": 18,
          "metadata": {},
          "output_type": "execute_result"
        }
      ],
      "source": [
        "concat_select.isnull().sum()     # 결측치가 100만개 초과인 칼럼이 제거된 모습은 아래와 같습니다.\n",
        "# target변수는 test dataset 개수만큼(9272) 결측치가 존재함을 확인할 수 있습니다."
      ]
    },
    {
      "cell_type": "code",
      "execution_count": 19,
      "metadata": {
        "colab": {
          "base_uri": "https://localhost:8080/"
        },
        "id": "OAtKbkR3zTtR",
        "outputId": "5b161b68-f329-4e3a-eaf2-3d076f7f19c7"
      },
      "outputs": [
        {
          "name": "stdout",
          "output_type": "stream",
          "text": [
            "<class 'pandas.core.frame.DataFrame'>\n",
            "Int64Index: 1128094 entries, 0 to 9271\n",
            "Data columns (total 48 columns):\n",
            " #   Column                  Non-Null Count    Dtype  \n",
            "---  ------                  --------------    -----  \n",
            " 0   시군구                     1128094 non-null  object \n",
            " 1   번지                      1127867 non-null  object \n",
            " 2   본번                      1128019 non-null  float64\n",
            " 3   부번                      1128019 non-null  float64\n",
            " 4   아파트명                    1125958 non-null  object \n",
            " 5   전용면적                    1128094 non-null  float64\n",
            " 6   계약년월                    1128094 non-null  int64  \n",
            " 7   계약일                     1128094 non-null  int64  \n",
            " 8   층                       1128094 non-null  int64  \n",
            " 9   건축년도                    1128094 non-null  int64  \n",
            " 10  도로명                     1128094 non-null  object \n",
            " 11  등기신청일자                  1128094 non-null  object \n",
            " 12  거래유형                    1128094 non-null  object \n",
            " 13  중개사소재지                  1128094 non-null  object \n",
            " 14  k-단지분류(아파트,주상복합등등)      250821 non-null   object \n",
            " 15  k-전화번호                  251244 non-null   object \n",
            " 16  k-팩스번호                  248746 non-null   object \n",
            " 17  k-세대타입(분양형태)            251969 non-null   object \n",
            " 18  k-관리방식                  251969 non-null   object \n",
            " 19  k-복도유형                  251640 non-null   object \n",
            " 20  k-난방방식                  251969 non-null   object \n",
            " 21  k-전체동수                  250887 non-null   float64\n",
            " 22  k-전체세대수                 251969 non-null   float64\n",
            " 23  k-건설사(시공사)              250457 non-null   object \n",
            " 24  k-시행사                   250260 non-null   object \n",
            " 25  k-사용검사일-사용승인일           251835 non-null   object \n",
            " 26  k-연면적                   251969 non-null   float64\n",
            " 27  k-주거전용면적                251924 non-null   float64\n",
            " 28  k-관리비부과면적               251969 non-null   float64\n",
            " 29  k-전용면적별세대현황(60㎡이하)      251924 non-null   float64\n",
            " 30  k-전용면적별세대현황(60㎡~85㎡이하)  251924 non-null   float64\n",
            " 31  k-85㎡~135㎡이하            251924 non-null   float64\n",
            " 32  k-수정일자                  251924 non-null   object \n",
            " 33  고용보험관리번호                207337 non-null   object \n",
            " 34  경비비관리형태                 250533 non-null   object \n",
            " 35  세대전기계약방법                242705 non-null   object \n",
            " 36  청소비관리형태                 250343 non-null   object \n",
            " 37  건축면적                    251815 non-null   float64\n",
            " 38  주차대수                    251817 non-null   float64\n",
            " 39  기타/의무/임대/임의=1/2/3/4     251969 non-null   object \n",
            " 40  단지승인일                   251240 non-null   object \n",
            " 41  사용허가여부                  251969 non-null   object \n",
            " 42  관리비 업로드                 251969 non-null   object \n",
            " 43  좌표X                     251862 non-null   float64\n",
            " 44  좌표Y                     251862 non-null   float64\n",
            " 45  단지신청일                   251907 non-null   object \n",
            " 46  target                  1118822 non-null  float64\n",
            " 47  is_test                 1128094 non-null  int64  \n",
            "dtypes: float64(16), int64(5), object(27)\n",
            "memory usage: 421.7+ MB\n"
          ]
        }
      ],
      "source": [
        "# 연속형 변수는 선형보간을 해주고, 범주형변수는 알수없기에 “unknown”이라고 임의로 보간해 주겠습니다.\n",
        "concat_select.info()"
      ]
    },
    {
      "cell_type": "code",
      "execution_count": 20,
      "metadata": {
        "id": "-qTUlvcP42in"
      },
      "outputs": [],
      "source": [
        "# 본번, 부번의 경우 float로 되어있지만 범주형 변수의 의미를 가지므로 object(string) 형태로 바꾸어주고 아래 작업을 진행하겠습니다.\n",
        "concat_select['본번'] = concat_select['본번'].astype('str')\n",
        "concat_select['부번'] = concat_select['부번'].astype('str')"
      ]
    },
    {
      "cell_type": "code",
      "execution_count": 21,
      "metadata": {
        "colab": {
          "base_uri": "https://localhost:8080/"
        },
        "id": "wVdU-Ge00OGM",
        "outputId": "6bd1a10a-689a-46ef-c0af-c879be59f715"
      },
      "outputs": [
        {
          "name": "stdout",
          "output_type": "stream",
          "text": [
            "연속형 변수: ['전용면적', '계약년월', '계약일', '층', '건축년도', 'k-전체동수', 'k-전체세대수', 'k-연면적', 'k-주거전용면적', 'k-관리비부과면적', 'k-전용면적별세대현황(60㎡이하)', 'k-전용면적별세대현황(60㎡~85㎡이하)', 'k-85㎡~135㎡이하', '건축면적', '주차대수', '좌표X', '좌표Y', 'target', 'is_test']\n",
            "범주형 변수: ['시군구', '번지', '본번', '부번', '아파트명', '도로명', '등기신청일자', '거래유형', '중개사소재지', 'k-단지분류(아파트,주상복합등등)', 'k-전화번호', 'k-팩스번호', 'k-세대타입(분양형태)', 'k-관리방식', 'k-복도유형', 'k-난방방식', 'k-건설사(시공사)', 'k-시행사', 'k-사용검사일-사용승인일', 'k-수정일자', '고용보험관리번호', '경비비관리형태', '세대전기계약방법', '청소비관리형태', '기타/의무/임대/임의=1/2/3/4', '단지승인일', '사용허가여부', '관리비 업로드', '단지신청일']\n"
          ]
        }
      ],
      "source": [
        "# 먼저, 연속형 변수와 범주형 변수를 위 info에 따라 분리해주겠습니다.\n",
        "continuous_columns = []\n",
        "categorical_columns = []\n",
        "\n",
        "for column in concat_select.columns:\n",
        "    if pd.api.types.is_numeric_dtype(concat_select[column]):\n",
        "        continuous_columns.append(column)\n",
        "    else:\n",
        "        categorical_columns.append(column)\n",
        "\n",
        "print(\"연속형 변수:\", continuous_columns)\n",
        "print(\"범주형 변수:\", categorical_columns)"
      ]
    },
    {
      "cell_type": "markdown",
      "metadata": {
        "id": "pVtoElzZ5Y_z"
      },
      "source": [
        "- 연속형 변수와 범주형 변수가 알맞게 나누어졌는지 확인해보고, 이제 각각 보간을 진행합니다."
      ]
    },
    {
      "cell_type": "code",
      "execution_count": 22,
      "metadata": {
        "id": "193c8GTdzzOX"
      },
      "outputs": [],
      "source": [
        "# 개선된 결측치 처리 방법\n",
        "# 범주형 변수의 결측치를 최빈값으로 대체 (좀더 유의미)\n",
        "for col in categorical_columns:\n",
        "    if concat_select[col].isnull().sum() > 0:\n",
        "        mode_value = concat_select[col].mode()\n",
        "        if len(mode_value) > 0:\n",
        "            concat_select[col].fillna(mode_value[0], inplace=True)\n",
        "        else:\n",
        "            # 최빈값이 없는 경우에만 'NULL'로 대체\n",
        "            concat_select[col].fillna('NULL', inplace=True)\n",
        "\n",
        "# 연속형 변수의 결측치를 그룹별 평균/중앙값으로 대체 (좀더 정확)\n",
        "for col in continuous_columns:\n",
        "    if concat_select[col].isnull().sum() > 0:\n",
        "        # 시군구별 그룹 평균으로 대체 (지역별 특성 반영)\n",
        "        if '시군구' in concat_select.columns:\n",
        "            concat_select[col] = concat_select.groupby('시군구')[col].transform(\n",
        "                lambda x: x.fillna(x.median())\n",
        "            )\n",
        "        # 여전히 결측값이 있다면 전체 중앙값으로 대체\n",
        "        if concat_select[col].isnull().sum() > 0:\n",
        "            concat_select[col].fillna(concat_select[col].median(), inplace=True)"
      ]
    },
    {
      "cell_type": "code",
      "execution_count": 23,
      "metadata": {
        "colab": {
          "base_uri": "https://localhost:8080/"
        },
        "id": "tTJHspKl0mhM",
        "outputId": "d212330d-6c07-4b68-cc0f-d626eb733bc9"
      },
      "outputs": [
        {
          "data": {
            "text/plain": [
              "시군구                       0\n",
              "번지                        0\n",
              "본번                        0\n",
              "부번                        0\n",
              "아파트명                      0\n",
              "전용면적                      0\n",
              "계약년월                      0\n",
              "계약일                       0\n",
              "층                         0\n",
              "건축년도                      0\n",
              "도로명                       0\n",
              "등기신청일자                    0\n",
              "거래유형                      0\n",
              "중개사소재지                    0\n",
              "k-단지분류(아파트,주상복합등등)        0\n",
              "k-전화번호                    0\n",
              "k-팩스번호                    0\n",
              "k-세대타입(분양형태)              0\n",
              "k-관리방식                    0\n",
              "k-복도유형                    0\n",
              "k-난방방식                    0\n",
              "k-전체동수                    0\n",
              "k-전체세대수                   0\n",
              "k-건설사(시공사)                0\n",
              "k-시행사                     0\n",
              "k-사용검사일-사용승인일             0\n",
              "k-연면적                     0\n",
              "k-주거전용면적                  0\n",
              "k-관리비부과면적                 0\n",
              "k-전용면적별세대현황(60㎡이하)        0\n",
              "k-전용면적별세대현황(60㎡~85㎡이하)    0\n",
              "k-85㎡~135㎡이하              0\n",
              "k-수정일자                    0\n",
              "고용보험관리번호                  0\n",
              "경비비관리형태                   0\n",
              "세대전기계약방법                  0\n",
              "청소비관리형태                   0\n",
              "건축면적                      0\n",
              "주차대수                      0\n",
              "기타/의무/임대/임의=1/2/3/4       0\n",
              "단지승인일                     0\n",
              "사용허가여부                    0\n",
              "관리비 업로드                   0\n",
              "좌표X                       0\n",
              "좌표Y                       0\n",
              "단지신청일                     0\n",
              "target                    0\n",
              "is_test                   0\n",
              "dtype: int64"
            ]
          },
          "execution_count": 23,
          "metadata": {},
          "output_type": "execute_result"
        }
      ],
      "source": [
        "concat_select.isnull().sum()         # 결측치가 보간된 모습을 확인해봅니다."
      ]
    },
    {
      "cell_type": "raw",
      "metadata": {
        "vscode": {
          "languageId": "raw"
        }
      },
      "source": [
        "### 결측치 처리 개선 사항\n",
        "\n",
        "위의 개선된 결측치 처리 방법은 다음과 같은 장점이 있습니다:\n",
        "\n",
        "1. **범주형 변수 처리 개선**:\n",
        "   - 단순히 'NULL'로 대체하는 대신 최빈값(mode)으로 대체\n",
        "   - 데이터의 실제 분포를 더 잘 반영하여 모델 성능 향상\n",
        "\n",
        "2. **연속형 변수 처리 개선**:\n",
        "   - 단순한 선형보간 대신 지역별(시군구별) 그룹 중앙값으로 대체\n",
        "   - 지역적 특성을 반영하여 더 정확한 대체값 사용\n",
        "   - 이상치에 덜 민감한 중앙값(median) 사용\n",
        "\n",
        "이러한 개선을 통해 결측치 처리가 더욱 정교해지고, 모델의 예측 성능 향상을 기대할 수 있습니다.\n"
      ]
    },
    {
      "cell_type": "markdown",
      "metadata": {
        "id": "4fU1E4SUafVU"
      },
      "source": [
        "- Baseline에서는 단순 결측치들을 제거하거나 보간했지만,\n",
        "EDA를 통해 변수들의 흐름을 조금 더 파악하고 더 나은 interpolation 등의 방법을 고려해볼 수 있을 것 같습니다."
      ]
    },
    {
      "cell_type": "markdown",
      "metadata": {
        "id": "zPm7QkS03RCZ"
      },
      "source": [
        "### 3.2. 이상치 처리\n",
        "- 이번엔 이상치를 처리해봅시다.\n",
        "- 이상치를 처리하는 방법은 IQR, Z-score 등 다양한 방법이 있습니다. 가장 쉽고 직관적으로 접근하는 방법은 기본 통계치를 이용하는 것입니다.\n",
        "- 본 baseline에서는 IQR를 이용한 방법을 사용하겠습니다."
      ]
    },
    {
      "cell_type": "code",
      "execution_count": 24,
      "metadata": {
        "colab": {
          "base_uri": "https://localhost:8080/"
        },
        "id": "t7omvXsd9GP1",
        "outputId": "83808c7b-df9a-46ee-d86a-966e7eff3248"
      },
      "outputs": [
        {
          "name": "stdout",
          "output_type": "stream",
          "text": [
            "(1128094, 48)\n"
          ]
        }
      ],
      "source": [
        "# 이상치 제거 이전의 shape은 아래와 같습니다.\n",
        "print(concat_select.shape)"
      ]
    },
    {
      "cell_type": "raw",
      "metadata": {
        "vscode": {
          "languageId": "raw"
        }
      },
      "source": [
        "### 3.3. 데이터 변환 기법 적용\n",
        "\n",
        "데이터의 분포를 개선하고 모델 성능을 향상시키기 위해 다양한 변환 기법을 적용합니다.\n",
        "\n",
        "#### 왜도(Skewness) 확인 및 변환\n",
        "- 왜도가 심한 변수들에 대해 Box-Cox 변환, 로그 변환, 제곱근 변환을 적용\n",
        "- 정규분포에 가까운 형태로 변환하여 모델의 예측 성능 향상\n"
      ]
    },
    {
      "cell_type": "code",
      "execution_count": 25,
      "metadata": {},
      "outputs": [
        {
          "name": "stdout",
          "output_type": "stream",
          "text": [
            "=== 연속형 변수들의 왜도 분석 ===\n",
            "                  variable   skewness  abs_skewness\n",
            "13                    건축면적  19.734509     19.734509\n",
            "7                    k-연면적   4.702542      4.702542\n",
            "11  k-전용면적별세대현황(60㎡~85㎡이하)   4.622848      4.622848\n",
            "5                   k-전체동수   4.354051      4.354051\n",
            "10      k-전용면적별세대현황(60㎡이하)   3.620012      3.620012\n",
            "12            k-85㎡~135㎡이하   3.191328      3.191328\n",
            "9                k-관리비부과면적   2.959602      2.959602\n",
            "8                 k-주거전용면적   2.948739      2.948739\n",
            "14                    주차대수   2.881519      2.881519\n",
            "6                  k-전체세대수   2.568501      2.568501\n",
            "\n",
            "왜도가 심한 변수들 (|skewness| > 1.0): 12개\n",
            "['건축면적', 'k-연면적', 'k-전용면적별세대현황(60㎡~85㎡이하)', 'k-전체동수', 'k-전용면적별세대현황(60㎡이하)', 'k-85㎡~135㎡이하', 'k-관리비부과면적', 'k-주거전용면적', '주차대수', 'k-전체세대수', '전용면적', '층']\n"
          ]
        }
      ],
      "source": [
        "# 데이터 변환을 위한 라이브러리 추가\n",
        "from scipy import stats\n",
        "from scipy.stats import boxcox\n",
        "import warnings\n",
        "warnings.filterwarnings('ignore')\n",
        "\n",
        "# 연속형 변수들의 왜도(skewness) 확인\n",
        "print(\"=== 연속형 변수들의 왜도 분석 ===\")\n",
        "skewness_data = []\n",
        "\n",
        "for col in continuous_columns:\n",
        "    if col not in ['target', 'is_test'] and concat_select[col].nunique() > 10:\n",
        "        skew_val = concat_select[col].skew()\n",
        "        skewness_data.append({\n",
        "            'variable': col,\n",
        "            'skewness': skew_val,\n",
        "            'abs_skewness': abs(skew_val)\n",
        "        })\n",
        "\n",
        "# 왜도 기준으로 정렬\n",
        "skewness_df = pd.DataFrame(skewness_data).sort_values('abs_skewness', ascending=False)\n",
        "print(skewness_df.head(10))\n",
        "\n",
        "# 왜도가 심한 변수들 (절댓값 > 1.0) 확인\n",
        "high_skew_vars = skewness_df[skewness_df['abs_skewness'] > 1.0]['variable'].tolist()\n",
        "print(f\"\\n왜도가 심한 변수들 (|skewness| > 1.0): {len(high_skew_vars)}개\")\n",
        "print(high_skew_vars)\n"
      ]
    },
    {
      "cell_type": "code",
      "execution_count": 26,
      "metadata": {},
      "outputs": [
        {
          "name": "stdout",
          "output_type": "stream",
          "text": [
            "=== 데이터 변환 적용 중... ===\n",
            "\n",
            "=== 변환 결과 ===\n",
            "                  variable  original_skewness transformation  new_skewness  \\\n",
            "0                     건축면적          19.734509         boxcox      0.044206   \n",
            "1                    k-연면적           4.702542         boxcox      0.279418   \n",
            "2   k-전용면적별세대현황(60㎡~85㎡이하)           4.622848         boxcox      0.022631   \n",
            "3                   k-전체동수           4.354051         boxcox      0.002359   \n",
            "4       k-전용면적별세대현황(60㎡이하)           3.620012         boxcox      0.123400   \n",
            "5             k-85㎡~135㎡이하           3.191328         boxcox      0.048971   \n",
            "6                k-관리비부과면적           2.959602         boxcox      0.270318   \n",
            "7                 k-주거전용면적           2.948739         boxcox      0.003160   \n",
            "8                     주차대수           2.881519         boxcox      0.023842   \n",
            "9                  k-전체세대수           2.568501         boxcox      0.036276   \n",
            "10                    전용면적           1.252310         boxcox      0.076289   \n",
            "11                       층           1.151110         boxcox      0.004118   \n",
            "\n",
            "    improvement  shift_value  \n",
            "0     19.690303          1.0  \n",
            "1      4.423124          1.0  \n",
            "2      4.600216          1.0  \n",
            "3      4.351692          0.0  \n",
            "4      3.496612          1.0  \n",
            "5      3.142357          1.0  \n",
            "6      2.689284          1.0  \n",
            "7      2.945579          0.0  \n",
            "8      2.857677          1.0  \n",
            "9      2.532225          0.0  \n",
            "10     1.176020          0.0  \n",
            "11     1.146991          5.0  \n"
          ]
        }
      ],
      "source": [
        "# 데이터 변환 함수 정의\n",
        "def apply_transformations(data, columns_to_transform):\n",
        "    \"\"\"\n",
        "    왜도가 심한 변수들에 대해 다양한 변환 기법을 적용하고 \n",
        "    가장 적합한 변환을 선택합니다.\n",
        "    \"\"\"\n",
        "    transformed_data = data.copy()\n",
        "    transformation_log = []\n",
        "    \n",
        "    for col in columns_to_transform:\n",
        "        if col in transformed_data.columns:\n",
        "            original_skew = abs(transformed_data[col].skew())\n",
        "            \n",
        "            # 음수값이 있는 경우 최소값만큼 이동\n",
        "            min_val = transformed_data[col].min()\n",
        "            if min_val <= 0:\n",
        "                shift_value = abs(min_val) + 1\n",
        "                shifted_col = transformed_data[col] + shift_value\n",
        "            else:\n",
        "                shifted_col = transformed_data[col]\n",
        "                shift_value = 0\n",
        "            \n",
        "            transformations = {}\n",
        "            \n",
        "            # 1. 로그 변환\n",
        "            try:\n",
        "                log_transformed = np.log(shifted_col)\n",
        "                log_skew = abs(log_transformed.skew())\n",
        "                transformations['log'] = {'data': log_transformed, 'skewness': log_skew}\n",
        "            except:\n",
        "                pass\n",
        "            \n",
        "            # 2. 제곱근 변환  \n",
        "            try:\n",
        "                sqrt_transformed = np.sqrt(shifted_col)\n",
        "                sqrt_skew = abs(sqrt_transformed.skew())\n",
        "                transformations['sqrt'] = {'data': sqrt_transformed, 'skewness': sqrt_skew}\n",
        "            except:\n",
        "                pass\n",
        "            \n",
        "            # 3. Box-Cox 변환 (양수인 경우에만)\n",
        "            try:\n",
        "                if (shifted_col > 0).all():\n",
        "                    boxcox_transformed, lambda_val = boxcox(shifted_col)\n",
        "                    boxcox_skew = abs(pd.Series(boxcox_transformed).skew())\n",
        "                    transformations['boxcox'] = {\n",
        "                        'data': pd.Series(boxcox_transformed), \n",
        "                        'skewness': boxcox_skew,\n",
        "                        'lambda': lambda_val\n",
        "                    }\n",
        "            except:\n",
        "                pass\n",
        "            \n",
        "            # 가장 좋은 변환 선택 (왜도가 가장 낮은 것)\n",
        "            if transformations:\n",
        "                best_transform = min(transformations.keys(), \n",
        "                                   key=lambda x: transformations[x]['skewness'])\n",
        "                \n",
        "                # 원래 왜도보다 개선된 경우에만 적용\n",
        "                if transformations[best_transform]['skewness'] < original_skew:\n",
        "                    transformed_data[col] = transformations[best_transform]['data']\n",
        "                    transformation_log.append({\n",
        "                        'variable': col,\n",
        "                        'original_skewness': original_skew,\n",
        "                        'transformation': best_transform,\n",
        "                        'new_skewness': transformations[best_transform]['skewness'],\n",
        "                        'improvement': original_skew - transformations[best_transform]['skewness'],\n",
        "                        'shift_value': shift_value\n",
        "                    })\n",
        "                else:\n",
        "                    transformation_log.append({\n",
        "                        'variable': col,\n",
        "                        'original_skewness': original_skew,\n",
        "                        'transformation': 'none',\n",
        "                        'new_skewness': original_skew,\n",
        "                        'improvement': 0,\n",
        "                        'shift_value': 0\n",
        "                    })\n",
        "    \n",
        "    return transformed_data, transformation_log\n",
        "\n",
        "# 변환 적용\n",
        "print(\"=== 데이터 변환 적용 중... ===\")\n",
        "concat_transformed, transform_log = apply_transformations(concat_select, high_skew_vars)\n",
        "\n",
        "# 변환 결과 출력\n",
        "transform_df = pd.DataFrame(transform_log)\n",
        "print(\"\\n=== 변환 결과 ===\")\n",
        "print(transform_df[transform_df['transformation'] != 'none'])\n"
      ]
    },
    {
      "cell_type": "raw",
      "metadata": {
        "vscode": {
          "languageId": "raw"
        }
      },
      "source": [
        "### 데이터 변환 기법 적용 완료\n",
        "\n",
        "위의 데이터 변환 기법 적용을 통해 다음과 같은 개선사항을 얻었습니다:\n",
        "\n",
        "1. **왜도 개선**: 분포가 치우친 변수들의 왜도를 줄여 정규분포에 가깝게 변환\n",
        "2. **모델 성능 향상**: 변환된 데이터는 선형 모델에서 더 나은 성능을 보일 것으로 예상\n",
        "3. **자동 변환 선택**: 로그, 제곱근, Box-Cox 변환 중 가장 적합한 변환을 자동으로 선택\n",
        "\n",
        "**적용된 변환 기법들:**\n",
        "- **로그 변환**: 지수적으로 증가하는 데이터에 효과적\n",
        "- **제곱근 변환**: 로그 변환보다 완화된 변환\n",
        "- **Box-Cox 변환**: 최적의 λ 값을 찾아 가장 정규분포에 가까운 형태로 변환\n",
        "\n",
        "이러한 변환을 통해 모델이 데이터의 패턴을 더 잘 학습할 수 있게 되었습니다.\n"
      ]
    },
    {
      "cell_type": "code",
      "execution_count": 27,
      "metadata": {
        "colab": {
          "base_uri": "https://localhost:8080/",
          "height": 332
        },
        "id": "MGxTxfr06n3F",
        "outputId": "6c5c8c01-20f8-4d61-dde7-87187dd2f5bd"
      },
      "outputs": [
        {
          "data": {
            "image/png": "[encoded data removed]",
            "text/plain": [
              "<Figure size 700x300 with 1 Axes>"
            ]
          },
          "metadata": {},
          "output_type": "display_data"
        }
      ],
      "source": [
        "# 대표적인 연속형 변수인 “전용 면적” 변수 관련한 분포를 먼저 살펴보도록 하겠습니다.\n",
        "fig = plt.figure(figsize=(7, 3))\n",
        "sns.boxplot(data = concat_select, x = '전용면적', color='lightgreen')\n",
        "plt.title('전용면적 분포')\n",
        "plt.xlabel('Area')\n",
        "plt.show()"
      ]
    },
    {
      "cell_type": "code",
      "execution_count": 28,
      "metadata": {},
      "outputs": [],
      "source": [
        "\n",
        "\n",
        "# 이상치 제거 방법에는 IQR을 이용하겠습니다.\n",
        "# Train 데이터에만 적용하고 Test 데이터는 보존합니다.\n",
        "def remove_outliers_iqr(df, column):\n",
        "    # train 데이터와 test 데이터 분리\n",
        "    train_mask = df['is_test'] == 0\n",
        "    test_mask = df['is_test'] == 1\n",
        "    \n",
        "    train_data = df[train_mask].copy()\n",
        "    test_data = df[test_mask].copy()\n",
        "    \n",
        "    print(f\"이상치 제거 전:\")\n",
        "    print(f\"  - Train 데이터 크기: {train_data.shape}\")\n",
        "    print(f\"  - Test 데이터 크기: {test_data.shape}\")\n",
        "    print(f\"  - 전체 데이터 크기: {df.shape}\")\n",
        "    \n",
        "    # train 데이터에서만 이상치 계산\n",
        "    Q1 = train_data[column].quantile(0.25)\n",
        "    Q3 = train_data[column].quantile(0.75)\n",
        "    IQR = Q3 - Q1\n",
        "    lower_bound = Q1 - 1.5 * IQR\n",
        "    upper_bound = Q3 + 1.5 * IQR\n",
        "    \n",
        "    print(f\"\\n{column} 컬럼 이상치 기준:\")\n",
        "    print(f\"  - Q1 (25%): {Q1:.2f}\")\n",
        "    print(f\"  - Q3 (75%): {Q3:.2f}\")\n",
        "    print(f\"  - IQR: {IQR:.2f}\")\n",
        "    print(f\"  - 하한선: {lower_bound:.2f}\")\n",
        "    print(f\"  - 상한선: {upper_bound:.2f}\")\n",
        "    \n",
        "    # train 데이터에서만 이상치 제거\n",
        "    outlier_mask = (train_data[column] < lower_bound) | (train_data[column] > upper_bound)\n",
        "    train_filtered = train_data[~outlier_mask]\n",
        "    \n",
        "    # 데이터 다시 합치기 (test 데이터는 그대로 유지)\n",
        "    result_df = pd.concat([train_filtered, test_data], ignore_index=True)\n",
        "    \n",
        "    print(f\"\\n이상치 제거 후:\")\n",
        "    print(f\"  - Train 데이터 크기: {train_filtered.shape}\")\n",
        "    print(f\"  - Test 데이터 크기: {test_data.shape}\")\n",
        "    print(f\"  - 전체 데이터 크기: {result_df.shape}\")\n",
        "    print(f\"  - 제거된 이상치 개수: {outlier_mask.sum()}개\")\n",
        "    \n",
        "    return result_df"
      ]
    },
    {
      "cell_type": "code",
      "execution_count": 29,
      "metadata": {
        "id": "F_GJQBVX8AH9"
      },
      "outputs": [
        {
          "name": "stdout",
          "output_type": "stream",
          "text": [
            "이상치 제거 전:\n",
            "  - Train 데이터 크기: (1118822, 48)\n",
            "  - Test 데이터 크기: (9272, 48)\n",
            "  - 전체 데이터 크기: (1128094, 48)\n",
            "\n",
            "전용면적 컬럼 이상치 기준:\n",
            "  - Q1 (25%): 59.65\n",
            "  - Q3 (75%): 84.96\n",
            "  - IQR: 25.31\n",
            "  - 하한선: 21.69\n",
            "  - 상한선: 122.92\n",
            "\n",
            "이상치 제거 후:\n",
            "  - Train 데이터 크기: (1029574, 48)\n",
            "  - Test 데이터 크기: (9272, 48)\n",
            "  - 전체 데이터 크기: (1038846, 48)\n",
            "  - 제거된 이상치 개수: 89248개\n"
          ]
        }
      ],
      "source": [
        "# 위 방법으로 전용 면적에 대한 이상치를 제거해보겠습니다.\n",
        "concat_select = remove_outliers_iqr(concat_select, '전용면적')"
      ]
    },
    {
      "cell_type": "code",
      "execution_count": 30,
      "metadata": {
        "colab": {
          "base_uri": "https://localhost:8080/"
        },
        "id": "iBwwOd5t8qbj",
        "outputId": "54409d2d-84cd-4ad3-cb4f-cbe3b71bdfbd"
      },
      "outputs": [
        {
          "name": "stdout",
          "output_type": "stream",
          "text": [
            "(1038846, 48)\n"
          ]
        }
      ],
      "source": [
        "# 이상치 제거 후의 shape은 아래와 같습니다. 약 10만개의 데이터가 제거된 모습을 확인할 수 있습니다.\n",
        "print(concat_select.shape)"
      ]
    },
    {
      "cell_type": "code",
      "execution_count": 31,
      "metadata": {
        "colab": {
          "base_uri": "https://localhost:8080/"
        },
        "id": "RZitCX1tEvWX",
        "outputId": "c01ac230-4e49-4d8f-a0f0-8805de9499cc"
      },
      "outputs": [
        {
          "data": {
            "text/plain": [
              "0    1029574\n",
              "1       9272\n",
              "Name: is_test, dtype: int64"
            ]
          },
          "execution_count": 31,
          "metadata": {},
          "output_type": "execute_result"
        }
      ],
      "source": [
        "concat_select['is_test'].value_counts()     # 또한, train data만 제거되었습니다."
      ]
    },
    {
      "cell_type": "markdown",
      "metadata": {
        "id": "9QxCTz0zJg0F"
      },
      "source": [
        "## 4. Feature Engineering\n",
        "- 이제 파생변수를 만들어보도록 하겠습니다.\n",
        "- 파생 변수는 도메인 지식에 기반해 제작하는 것이 중요합니다.\n",
        "- 주택의 가격을 예측하는 문제이기 때문에 약간의 부동산 지식을 기반으로 파생 변수를 만들어 보도록 하겠습니다."
      ]
    },
    {
      "cell_type": "code",
      "execution_count": 32,
      "metadata": {},
      "outputs": [
        {
          "data": {
            "text/plain": [
              "0    서울특별시 강남구 개포동\n",
              "1    서울특별시 강남구 개포동\n",
              "2    서울특별시 강남구 개포동\n",
              "3    서울특별시 강남구 개포동\n",
              "4    서울특별시 강남구 개포동\n",
              "Name: 시군구, dtype: object"
            ]
          },
          "execution_count": 32,
          "metadata": {},
          "output_type": "execute_result"
        }
      ],
      "source": [
        "concat_select['시군구'].head()"
      ]
    },
    {
      "cell_type": "raw",
      "metadata": {
        "vscode": {
          "languageId": "raw"
        }
      },
      "source": [
        "### 4.3. 지하철 접근성 기반 파생 변수 생성\n",
        "\n",
        "지하철역 외부 데이터를 활용하여 교통 접근성 관련 파생 변수를 생성합니다.\n",
        "이는 부동산 가격에 중요한 영향을 미치는 요소입니다.\n"
      ]
    },
    {
      "cell_type": "code",
      "execution_count": 33,
      "metadata": {},
      "outputs": [
        {
          "name": "stdout",
          "output_type": "stream",
          "text": [
            "지하철역 데이터: (768, 5)\n"
          ]
        }
      ],
      "source": [
        "# 지하철역 데이터 로드\n",
        "subway_path = \"/home/realtheai/documents/upstage-ml-regression-sigma7/subway_feature.csv\"\n",
        "subway_data = pd.read_csv(subway_path)\n",
        "print(f\"지하철역 데이터: {subway_data.shape}\")\n"
      ]
    },
    {
      "cell_type": "code",
      "execution_count": 34,
      "metadata": {},
      "outputs": [],
      "source": [
        "# 거리 계산 함수\n",
        "import math\n",
        "def haversine(lat1, lon1, lat2, lon2):\n",
        "    R = 6371.0\n",
        "    lat1, lon1, lat2, lon2 = map(math.radians, [lat1, lon1, lat2, lon2])\n",
        "    dlat, dlon = lat2 - lat1, lon2 - lon1\n",
        "    a = math.sin(dlat/2)**2 + math.cos(lat1) * math.cos(lat2) * math.sin(dlon/2)**2\n",
        "    return R * 2 * math.atan2(math.sqrt(a), math.sqrt(1-a))\n"
      ]
    },
    {
      "cell_type": "code",
      "execution_count": 36,
      "metadata": {},
      "outputs": [],
      "source": [
        "# 지하철 접근성 파생 변수 생성 (미터 단위로 수정된 버전)\n",
        "def add_subway_features(df, subway_df):\n",
        "    print(\"지하철 접근성 변수 생성 중... (미터 단위 출력)\")\n",
        "    \n",
        "    # 유효한 좌표가 있는 데이터 필터링\n",
        "    valid_mask = df[['좌표Y', '좌표X']].notna().all(axis=1)\n",
        "    subway_valid = subway_df[['위도', '경도']].notna().all(axis=1)\n",
        "    \n",
        "    # 결과 컬럼 초기화\n",
        "    df['subway_min_distance'] = np.nan\n",
        "    df['nearest_subway_line'] = 'Unknown'\n",
        "    \n",
        "    if valid_mask.sum() == 0 or subway_valid.sum() == 0:\n",
        "        print(\"유효한 좌표 데이터가 없습니다.\")\n",
        "        return df\n",
        "    \n",
        "    print(f\"처리할 부동산 데이터: {valid_mask.sum():,}개\")\n",
        "    print(f\"사용 가능한 지하철역: {subway_valid.sum()}개\")\n",
        "    \n",
        "    # 지하철역 좌표와 호선 정보 추출\n",
        "    subway_coords = subway_df[subway_valid][['위도', '경도']].values\n",
        "    subway_lines = subway_df[subway_valid]['호선'].fillna('Unknown').astype(str).values\n",
        "    \n",
        "    # 부동산 좌표 추출\n",
        "    property_coords = df[valid_mask][['좌표Y', '좌표X']].values\n",
        "    \n",
        "    # 배치 크기 설정 (메모리 사용량 제한)\n",
        "    batch_size = 5000\n",
        "    \n",
        "    for i in range(0, len(property_coords), batch_size):\n",
        "        end_idx = min(i + batch_size, len(property_coords))\n",
        "        batch_coords = property_coords[i:end_idx]\n",
        "        \n",
        "        # 현재 배치에 대한 인덱스\n",
        "        batch_indices = df[valid_mask].index[i:end_idx]\n",
        "        \n",
        "        print(f\"진행률: {i+len(batch_coords)}/{len(property_coords)} ({((i+len(batch_coords))/len(property_coords)*100):.1f}%)\")\n",
        "        \n",
        "        # 벡터화된 거리 계산\n",
        "        # 각 부동산에 대해 모든 지하철역과의 거리를 한번에 계산\n",
        "        distances_matrix = np.zeros((len(batch_coords), len(subway_coords)))\n",
        "        \n",
        "        for j, (prop_lat, prop_lon) in enumerate(batch_coords):\n",
        "            # 모든 지하철역과의 거리를 벡터화로 계산\n",
        "            lat1_rad = np.radians(prop_lat)\n",
        "            lon1_rad = np.radians(prop_lon)\n",
        "            lat2_rad = np.radians(subway_coords[:, 0])\n",
        "            lon2_rad = np.radians(subway_coords[:, 1])\n",
        "            \n",
        "            dlat = lat2_rad - lat1_rad\n",
        "            dlon = lon2_rad - lon1_rad\n",
        "            \n",
        "            a = np.sin(dlat/2)**2 + np.cos(lat1_rad) * np.cos(lat2_rad) * np.sin(dlon/2)**2\n",
        "            c = 2 * np.arctan2(np.sqrt(a), np.sqrt(1-a))\n",
        "            # 수정: 6371.0 * c * 1000 으로 바로 미터 단위 계산\n",
        "            distances_matrix[j] = 6371.0 * c * 1000  # km -> m 변환\n",
        "        \n",
        "        # 각 부동산에 대해 가장 가까운 지하철역 찾기\n",
        "        min_indices = np.argmin(distances_matrix, axis=1)\n",
        "        min_distances = distances_matrix[np.arange(len(batch_coords)), min_indices]\n",
        "        nearest_lines = subway_lines[min_indices]\n",
        "        \n",
        "        # 결과 저장 (이미 미터 단위)\n",
        "        df.loc[batch_indices, 'subway_min_distance'] = min_distances\n",
        "        df.loc[batch_indices, 'nearest_subway_line'] = nearest_lines\n",
        "    \n",
        "    print(\"지하철 접근성 변수 생성 완료! (미터 단위)\")\n",
        "    print(f\"거리 범위: {df['subway_min_distance'].min():.1f}m ~ {df['subway_min_distance'].max():.1f}m\")\n",
        "    return df"
      ]
    },
    {
      "cell_type": "code",
      "execution_count": 37,
      "metadata": {},
      "outputs": [
        {
          "name": "stdout",
          "output_type": "stream",
          "text": [
            "지하철 접근성 변수 생성 중... (미터 단위 출력)\n",
            "처리할 부동산 데이터: 1,038,846개\n",
            "사용 가능한 지하철역: 768개\n",
            "진행률: 5000/1038846 (0.5%)\n",
            "진행률: 10000/1038846 (1.0%)\n",
            "진행률: 15000/1038846 (1.4%)\n",
            "진행률: 20000/1038846 (1.9%)\n",
            "진행률: 25000/1038846 (2.4%)\n",
            "진행률: 30000/1038846 (2.9%)\n",
            "진행률: 35000/1038846 (3.4%)\n",
            "진행률: 40000/1038846 (3.9%)\n",
            "진행률: 45000/1038846 (4.3%)\n",
            "진행률: 50000/1038846 (4.8%)\n",
            "진행률: 55000/1038846 (5.3%)\n",
            "진행률: 60000/1038846 (5.8%)\n",
            "진행률: 65000/1038846 (6.3%)\n",
            "진행률: 70000/1038846 (6.7%)\n",
            "진행률: 75000/1038846 (7.2%)\n",
            "진행률: 80000/1038846 (7.7%)\n",
            "진행률: 85000/1038846 (8.2%)\n",
            "진행률: 90000/1038846 (8.7%)\n",
            "진행률: 95000/1038846 (9.1%)\n",
            "진행률: 100000/1038846 (9.6%)\n",
            "진행률: 105000/1038846 (10.1%)\n",
            "진행률: 110000/1038846 (10.6%)\n",
            "진행률: 115000/1038846 (11.1%)\n",
            "진행률: 120000/1038846 (11.6%)\n",
            "진행률: 125000/1038846 (12.0%)\n",
            "진행률: 130000/1038846 (12.5%)\n",
            "진행률: 135000/1038846 (13.0%)\n",
            "진행률: 140000/1038846 (13.5%)\n",
            "진행률: 145000/1038846 (14.0%)\n",
            "진행률: 150000/1038846 (14.4%)\n",
            "진행률: 155000/1038846 (14.9%)\n",
            "진행률: 160000/1038846 (15.4%)\n",
            "진행률: 165000/1038846 (15.9%)\n",
            "진행률: 170000/1038846 (16.4%)\n",
            "진행률: 175000/1038846 (16.8%)\n",
            "진행률: 180000/1038846 (17.3%)\n",
            "진행률: 185000/1038846 (17.8%)\n",
            "진행률: 190000/1038846 (18.3%)\n",
            "진행률: 195000/1038846 (18.8%)\n",
            "진행률: 200000/1038846 (19.3%)\n",
            "진행률: 205000/1038846 (19.7%)\n",
            "진행률: 210000/1038846 (20.2%)\n",
            "진행률: 215000/1038846 (20.7%)\n",
            "진행률: 220000/1038846 (21.2%)\n",
            "진행률: 225000/1038846 (21.7%)\n",
            "진행률: 230000/1038846 (22.1%)\n",
            "진행률: 235000/1038846 (22.6%)\n",
            "진행률: 240000/1038846 (23.1%)\n",
            "진행률: 245000/1038846 (23.6%)\n",
            "진행률: 250000/1038846 (24.1%)\n",
            "진행률: 255000/1038846 (24.5%)\n",
            "진행률: 260000/1038846 (25.0%)\n",
            "진행률: 265000/1038846 (25.5%)\n",
            "진행률: 270000/1038846 (26.0%)\n",
            "진행률: 275000/1038846 (26.5%)\n",
            "진행률: 280000/1038846 (27.0%)\n",
            "진행률: 285000/1038846 (27.4%)\n",
            "진행률: 290000/1038846 (27.9%)\n",
            "진행률: 295000/1038846 (28.4%)\n",
            "진행률: 300000/1038846 (28.9%)\n",
            "진행률: 305000/1038846 (29.4%)\n",
            "진행률: 310000/1038846 (29.8%)\n",
            "진행률: 315000/1038846 (30.3%)\n",
            "진행률: 320000/1038846 (30.8%)\n",
            "진행률: 325000/1038846 (31.3%)\n",
            "진행률: 330000/1038846 (31.8%)\n",
            "진행률: 335000/1038846 (32.2%)\n",
            "진행률: 340000/1038846 (32.7%)\n",
            "진행률: 345000/1038846 (33.2%)\n",
            "진행률: 350000/1038846 (33.7%)\n",
            "진행률: 355000/1038846 (34.2%)\n",
            "진행률: 360000/1038846 (34.7%)\n",
            "진행률: 365000/1038846 (35.1%)\n",
            "진행률: 370000/1038846 (35.6%)\n",
            "진행률: 375000/1038846 (36.1%)\n",
            "진행률: 380000/1038846 (36.6%)\n",
            "진행률: 385000/1038846 (37.1%)\n",
            "진행률: 390000/1038846 (37.5%)\n",
            "진행률: 395000/1038846 (38.0%)\n",
            "진행률: 400000/1038846 (38.5%)\n",
            "진행률: 405000/1038846 (39.0%)\n",
            "진행률: 410000/1038846 (39.5%)\n",
            "진행률: 415000/1038846 (39.9%)\n",
            "진행률: 420000/1038846 (40.4%)\n",
            "진행률: 425000/1038846 (40.9%)\n",
            "진행률: 430000/1038846 (41.4%)\n",
            "진행률: 435000/1038846 (41.9%)\n",
            "진행률: 440000/1038846 (42.4%)\n",
            "진행률: 445000/1038846 (42.8%)\n",
            "진행률: 450000/1038846 (43.3%)\n",
            "진행률: 455000/1038846 (43.8%)\n",
            "진행률: 460000/1038846 (44.3%)\n",
            "진행률: 465000/1038846 (44.8%)\n",
            "진행률: 470000/1038846 (45.2%)\n",
            "진행률: 475000/1038846 (45.7%)\n",
            "진행률: 480000/1038846 (46.2%)\n",
            "진행률: 485000/1038846 (46.7%)\n",
            "진행률: 490000/1038846 (47.2%)\n",
            "진행률: 495000/1038846 (47.6%)\n",
            "진행률: 500000/1038846 (48.1%)\n",
            "진행률: 505000/1038846 (48.6%)\n",
            "진행률: 510000/1038846 (49.1%)\n",
            "진행률: 515000/1038846 (49.6%)\n",
            "진행률: 520000/1038846 (50.1%)\n",
            "진행률: 525000/1038846 (50.5%)\n",
            "진행률: 530000/1038846 (51.0%)\n",
            "진행률: 535000/1038846 (51.5%)\n",
            "진행률: 540000/1038846 (52.0%)\n",
            "진행률: 545000/1038846 (52.5%)\n",
            "진행률: 550000/1038846 (52.9%)\n",
            "진행률: 555000/1038846 (53.4%)\n",
            "진행률: 560000/1038846 (53.9%)\n",
            "진행률: 565000/1038846 (54.4%)\n",
            "진행률: 570000/1038846 (54.9%)\n",
            "진행률: 575000/1038846 (55.3%)\n",
            "진행률: 580000/1038846 (55.8%)\n",
            "진행률: 585000/1038846 (56.3%)\n",
            "진행률: 590000/1038846 (56.8%)\n",
            "진행률: 595000/1038846 (57.3%)\n",
            "진행률: 600000/1038846 (57.8%)\n",
            "진행률: 605000/1038846 (58.2%)\n",
            "진행률: 610000/1038846 (58.7%)\n",
            "진행률: 615000/1038846 (59.2%)\n",
            "진행률: 620000/1038846 (59.7%)\n",
            "진행률: 625000/1038846 (60.2%)\n",
            "진행률: 630000/1038846 (60.6%)\n",
            "진행률: 635000/1038846 (61.1%)\n",
            "진행률: 640000/1038846 (61.6%)\n",
            "진행률: 645000/1038846 (62.1%)\n",
            "진행률: 650000/1038846 (62.6%)\n",
            "진행률: 655000/1038846 (63.1%)\n",
            "진행률: 660000/1038846 (63.5%)\n",
            "진행률: 665000/1038846 (64.0%)\n",
            "진행률: 670000/1038846 (64.5%)\n",
            "진행률: 675000/1038846 (65.0%)\n",
            "진행률: 680000/1038846 (65.5%)\n",
            "진행률: 685000/1038846 (65.9%)\n",
            "진행률: 690000/1038846 (66.4%)\n",
            "진행률: 695000/1038846 (66.9%)\n",
            "진행률: 700000/1038846 (67.4%)\n",
            "진행률: 705000/1038846 (67.9%)\n",
            "진행률: 710000/1038846 (68.3%)\n",
            "진행률: 715000/1038846 (68.8%)\n",
            "진행률: 720000/1038846 (69.3%)\n",
            "진행률: 725000/1038846 (69.8%)\n",
            "진행률: 730000/1038846 (70.3%)\n",
            "진행률: 735000/1038846 (70.8%)\n",
            "진행률: 740000/1038846 (71.2%)\n",
            "진행률: 745000/1038846 (71.7%)\n",
            "진행률: 750000/1038846 (72.2%)\n",
            "진행률: 755000/1038846 (72.7%)\n",
            "진행률: 760000/1038846 (73.2%)\n",
            "진행률: 765000/1038846 (73.6%)\n",
            "진행률: 770000/1038846 (74.1%)\n",
            "진행률: 775000/1038846 (74.6%)\n",
            "진행률: 780000/1038846 (75.1%)\n",
            "진행률: 785000/1038846 (75.6%)\n",
            "진행률: 790000/1038846 (76.0%)\n",
            "진행률: 795000/1038846 (76.5%)\n",
            "진행률: 800000/1038846 (77.0%)\n",
            "진행률: 805000/1038846 (77.5%)\n",
            "진행률: 810000/1038846 (78.0%)\n",
            "진행률: 815000/1038846 (78.5%)\n",
            "진행률: 820000/1038846 (78.9%)\n",
            "진행률: 825000/1038846 (79.4%)\n",
            "진행률: 830000/1038846 (79.9%)\n",
            "진행률: 835000/1038846 (80.4%)\n",
            "진행률: 840000/1038846 (80.9%)\n",
            "진행률: 845000/1038846 (81.3%)\n",
            "진행률: 850000/1038846 (81.8%)\n",
            "진행률: 855000/1038846 (82.3%)\n",
            "진행률: 860000/1038846 (82.8%)\n",
            "진행률: 865000/1038846 (83.3%)\n",
            "진행률: 870000/1038846 (83.7%)\n",
            "진행률: 875000/1038846 (84.2%)\n",
            "진행률: 880000/1038846 (84.7%)\n",
            "진행률: 885000/1038846 (85.2%)\n",
            "진행률: 890000/1038846 (85.7%)\n",
            "진행률: 895000/1038846 (86.2%)\n",
            "진행률: 900000/1038846 (86.6%)\n",
            "진행률: 905000/1038846 (87.1%)\n",
            "진행률: 910000/1038846 (87.6%)\n",
            "진행률: 915000/1038846 (88.1%)\n",
            "진행률: 920000/1038846 (88.6%)\n",
            "진행률: 925000/1038846 (89.0%)\n",
            "진행률: 930000/1038846 (89.5%)\n",
            "진행률: 935000/1038846 (90.0%)\n",
            "진행률: 940000/1038846 (90.5%)\n",
            "진행률: 945000/1038846 (91.0%)\n",
            "진행률: 950000/1038846 (91.4%)\n",
            "진행률: 955000/1038846 (91.9%)\n",
            "진행률: 960000/1038846 (92.4%)\n",
            "진행률: 965000/1038846 (92.9%)\n",
            "진행률: 970000/1038846 (93.4%)\n",
            "진행률: 975000/1038846 (93.9%)\n",
            "진행률: 980000/1038846 (94.3%)\n",
            "진행률: 985000/1038846 (94.8%)\n",
            "진행률: 990000/1038846 (95.3%)\n",
            "진행률: 995000/1038846 (95.8%)\n",
            "진행률: 1000000/1038846 (96.3%)\n",
            "진행률: 1005000/1038846 (96.7%)\n",
            "진행률: 1010000/1038846 (97.2%)\n",
            "진행률: 1015000/1038846 (97.7%)\n",
            "진행률: 1020000/1038846 (98.2%)\n",
            "진행률: 1025000/1038846 (98.7%)\n",
            "진행률: 1030000/1038846 (99.1%)\n",
            "진행률: 1035000/1038846 (99.6%)\n",
            "진행률: 1038846/1038846 (100.0%)\n",
            "지하철 접근성 변수 생성 완료! (미터 단위)\n",
            "거리 범위: 36.2m ~ 2510.7m\n",
            "최종 데이터 크기: (1038846, 50)\n",
            "지하철 거리 - 평균: 536.45km\n",
            "지하철 접근성 파생 변수 생성 완료!\n"
          ]
        }
      ],
      "source": [
        "# 지하철 접근성 파생 변수 적용\n",
        "concat_select = add_subway_features(concat_select, subway_data)\n",
        "\n",
        "print(f\"최종 데이터 크기: {concat_select.shape}\")\n",
        "print(f\"지하철 거리 - 평균: {concat_select['subway_min_distance'].mean():.2f}km\")\n",
        "print(\"지하철 접근성 파생 변수 생성 완료!\")\n"
      ]
    },
    {
      "cell_type": "code",
      "execution_count": 38,
      "metadata": {},
      "outputs": [
        {
          "data": {
            "text/plain": [
              "0    201712\n",
              "1    201712\n",
              "2    201712\n",
              "3    201801\n",
              "4    201801\n",
              "Name: 계약년월, dtype: int64"
            ]
          },
          "execution_count": 38,
          "metadata": {},
          "output_type": "execute_result"
        }
      ],
      "source": [
        "concat_select['계약년월'].head()"
      ]
    },
    {
      "cell_type": "code",
      "execution_count": 39,
      "metadata": {
        "id": "fLG3xQVQNB_6"
      },
      "outputs": [],
      "source": [
        "# 시군구, 년월 등 분할할 수 있는 변수들은 세부사항 고려를 용이하게 하기 위해 모두 분할해 주겠습니다.\n",
        "concat_select['구'] = concat_select['시군구'].map(lambda x : x.split()[1])\n",
        "concat_select['동'] = concat_select['시군구'].map(lambda x : x.split()[2])\n",
        "del concat_select['시군구']\n",
        "\n",
        "concat_select['계약년'] = concat_select['계약년월'].astype('str').map(lambda x : x[:4])\n",
        "concat_select['계약월'] = concat_select['계약년월'].astype('str').map(lambda x : x[4:])\n",
        "del concat_select['계약년월']"
      ]
    },
    {
      "cell_type": "code",
      "execution_count": 40,
      "metadata": {
        "colab": {
          "base_uri": "https://localhost:8080/"
        },
        "id": "E19Q60NN7R6G",
        "outputId": "e859d996-c576-4311-e318-df582e39acd6"
      },
      "outputs": [
        {
          "data": {
            "text/plain": [
              "Index(['번지', '본번', '부번', '아파트명', '전용면적', '계약일', '층', '건축년도', '도로명', '등기신청일자',\n",
              "       '거래유형', '중개사소재지', 'k-단지분류(아파트,주상복합등등)', 'k-전화번호', 'k-팩스번호',\n",
              "       'k-세대타입(분양형태)', 'k-관리방식', 'k-복도유형', 'k-난방방식', 'k-전체동수', 'k-전체세대수',\n",
              "       'k-건설사(시공사)', 'k-시행사', 'k-사용검사일-사용승인일', 'k-연면적', 'k-주거전용면적',\n",
              "       'k-관리비부과면적', 'k-전용면적별세대현황(60㎡이하)', 'k-전용면적별세대현황(60㎡~85㎡이하)',\n",
              "       'k-85㎡~135㎡이하', 'k-수정일자', '고용보험관리번호', '경비비관리형태', '세대전기계약방법', '청소비관리형태',\n",
              "       '건축면적', '주차대수', '기타/의무/임대/임의=1/2/3/4', '단지승인일', '사용허가여부', '관리비 업로드',\n",
              "       '좌표X', '좌표Y', '단지신청일', 'target', 'is_test', 'subway_min_distance',\n",
              "       'nearest_subway_line', '구', '동', '계약년', '계약월'],\n",
              "      dtype='object')"
            ]
          },
          "execution_count": 40,
          "metadata": {},
          "output_type": "execute_result"
        }
      ],
      "source": [
        "concat_select.columns"
      ]
    },
    {
      "cell_type": "markdown",
      "metadata": {
        "id": "zwtVsbS5-0SL"
      },
      "source": [
        "- 서울의 집값은 강남, 강북 여부에 따라 차이가 많이 난다는 사실은 많이 알려진 사실입니다.\n",
        "- 따라서 강남/강북의 여부에 따라 파생변수를 생성해주도록 하겠습니다."
      ]
    },
    {
      "cell_type": "code",
      "execution_count": 41,
      "metadata": {
        "id": "TKioFiuX9hUd"
      },
      "outputs": [],
      "source": [
        "all = list(concat_select['구'].unique())\n",
        "gangnam = ['강서구', '영등포구', '동작구', '서초구', '강남구', '송파구', '강동구']\n",
        "gangbuk = [x for x in all if x not in gangnam]\n",
        "\n",
        "assert len(all) == len(gangnam) + len(gangbuk)       # 알맞게 분리되었는지 체크합니다."
      ]
    },
    {
      "cell_type": "code",
      "execution_count": 42,
      "metadata": {
        "id": "8Swb_coe_3Hb"
      },
      "outputs": [],
      "source": [
        "# 강남의 여부를 체크합니다.\n",
        "is_gangnam = []\n",
        "for x in concat_select['구'].tolist() :\n",
        "  if x in gangnam :\n",
        "    is_gangnam.append(1)\n",
        "  else :\n",
        "    is_gangnam.append(0)\n",
        "\n",
        "# 파생변수를 하나 만릅니다.\n",
        "concat_select['강남여부'] = is_gangnam"
      ]
    },
    {
      "cell_type": "code",
      "execution_count": 43,
      "metadata": {},
      "outputs": [
        {
          "data": {
            "text/html": [
              "<div>\n",
              "<style scoped>\n",
              "    .dataframe tbody tr th:only-of-type {\n",
              "        vertical-align: middle;\n",
              "    }\n",
              "\n",
              "    .dataframe tbody tr th {\n",
              "        vertical-align: top;\n",
              "    }\n",
              "\n",
              "    .dataframe thead th {\n",
              "        text-align: right;\n",
              "    }\n",
              "</style>\n",
              "<table border=\"1\" class=\"dataframe\">\n",
              "  <thead>\n",
              "    <tr style=\"text-align: right;\">\n",
              "      <th></th>\n",
              "      <th>subway_min_distance</th>\n",
              "      <th>nearest_subway_line</th>\n",
              "    </tr>\n",
              "  </thead>\n",
              "  <tbody>\n",
              "    <tr>\n",
              "      <th>0</th>\n",
              "      <td>1129.774800</td>\n",
              "      <td>분당선</td>\n",
              "    </tr>\n",
              "    <tr>\n",
              "      <th>1</th>\n",
              "      <td>1129.774800</td>\n",
              "      <td>분당선</td>\n",
              "    </tr>\n",
              "    <tr>\n",
              "      <th>2</th>\n",
              "      <td>1129.774800</td>\n",
              "      <td>분당선</td>\n",
              "    </tr>\n",
              "    <tr>\n",
              "      <th>3</th>\n",
              "      <td>1129.774800</td>\n",
              "      <td>분당선</td>\n",
              "    </tr>\n",
              "    <tr>\n",
              "      <th>4</th>\n",
              "      <td>1129.774800</td>\n",
              "      <td>분당선</td>\n",
              "    </tr>\n",
              "    <tr>\n",
              "      <th>...</th>\n",
              "      <td>...</td>\n",
              "      <td>...</td>\n",
              "    </tr>\n",
              "    <tr>\n",
              "      <th>1038841</th>\n",
              "      <td>733.290902</td>\n",
              "      <td>경춘선</td>\n",
              "    </tr>\n",
              "    <tr>\n",
              "      <th>1038842</th>\n",
              "      <td>733.290902</td>\n",
              "      <td>경춘선</td>\n",
              "    </tr>\n",
              "    <tr>\n",
              "      <th>1038843</th>\n",
              "      <td>733.290902</td>\n",
              "      <td>경춘선</td>\n",
              "    </tr>\n",
              "    <tr>\n",
              "      <th>1038844</th>\n",
              "      <td>733.290902</td>\n",
              "      <td>경춘선</td>\n",
              "    </tr>\n",
              "    <tr>\n",
              "      <th>1038845</th>\n",
              "      <td>733.290902</td>\n",
              "      <td>경춘선</td>\n",
              "    </tr>\n",
              "  </tbody>\n",
              "</table>\n",
              "<p>1038846 rows × 2 columns</p>\n",
              "</div>"
            ],
            "text/plain": [
              "         subway_min_distance nearest_subway_line\n",
              "0                1129.774800                 분당선\n",
              "1                1129.774800                 분당선\n",
              "2                1129.774800                 분당선\n",
              "3                1129.774800                 분당선\n",
              "4                1129.774800                 분당선\n",
              "...                      ...                 ...\n",
              "1038841           733.290902                 경춘선\n",
              "1038842           733.290902                 경춘선\n",
              "1038843           733.290902                 경춘선\n",
              "1038844           733.290902                 경춘선\n",
              "1038845           733.290902                 경춘선\n",
              "\n",
              "[1038846 rows x 2 columns]"
            ]
          },
          "execution_count": 43,
          "metadata": {},
          "output_type": "execute_result"
        }
      ],
      "source": [
        "concat_select[['subway_min_distance', 'nearest_subway_line']]"
      ]
    },
    {
      "cell_type": "code",
      "execution_count": 44,
      "metadata": {},
      "outputs": [
        {
          "name": "stdout",
          "output_type": "stream",
          "text": [
            "호선 등급 추가 완료! (평균: 3.39점)\n"
          ]
        }
      ],
      "source": [
        "def add_line_grade(df):\n",
        "    \"\"\"호선별 등급 점수 추가 (2023년 6월 기준)\"\"\"\n",
        "    \n",
        "    # 호선별 등급 매핑\n",
        "    line_grade_map = {\n",
        "        # S급 = 5점\n",
        "        \"신분당선\": 5, \"신분당선(연장)\": 5, \"신분당선(연장2)\": 5, \"3호선\": 5,\n",
        "        # A급 = 4점  \n",
        "        \"2호선\": 4, \"7호선\": 4, \"분당선\": 4, \"9호선\": 4,\n",
        "        # B급 = 3점\n",
        "        \"1호선\": 3, \"4호선\": 3, \"5호선\": 3, \"6호선\": 3, \"8호선\": 3, \"9호선(연장)\": 3,\n",
        "        # C급 = 2점\n",
        "        \"중앙선\": 2, \"경의중앙선\": 2, \"경춘선\": 2, \"경원선\": 2, \"경인선\": 2, \"일산선\": 2,\n",
        "        \"과천선\": 2, \"안산선\": 2, \"수인선\": 2, \"인천1호선\": 2, \"인천2호선\": 2, \n",
        "        \"7호선(인천)\": 2, \"공항철도1호선\": 2, \"우이신설선\": 2, \"신림선\": 2,\n",
        "        # D급 = 1점\n",
        "        \"에버라인선\": 1, \"의정부선\": 1, \"경부선\": 1, \"서해선\": 1, \"경강선\": 1,\n",
        "        \"김포골드라인\": 1, \"장항선\": 1, \"진접선\": 1\n",
        "    }\n",
        "    \n",
        "    # 호선 등급 컬럼 추가\n",
        "    df['호선등급'] = df['nearest_subway_line'].map(line_grade_map).fillna(0)\n",
        "    \n",
        "    print(f\"호선 등급 추가 완료! (평균: {df['호선등급'].mean():.2f}점)\")\n",
        "    return df\n",
        "\n",
        "# 호선등급 컬럼 추가\n",
        "concat_select = add_line_grade(concat_select)"
      ]
    },
    {
      "cell_type": "code",
      "execution_count": 45,
      "metadata": {},
      "outputs": [
        {
          "data": {
            "text/plain": [
              "0          4\n",
              "1          4\n",
              "2          4\n",
              "3          4\n",
              "4          4\n",
              "          ..\n",
              "1038841    2\n",
              "1038842    2\n",
              "1038843    2\n",
              "1038844    2\n",
              "1038845    2\n",
              "Name: 호선등급, Length: 1038846, dtype: int64"
            ]
          },
          "execution_count": 45,
          "metadata": {},
          "output_type": "execute_result"
        }
      ],
      "source": [
        "concat_select['호선등급'] if '호선등급' in concat_select.columns else print(\"호선등급 컬럼이 없습니다\")"
      ]
    },
    {
      "cell_type": "code",
      "execution_count": 46,
      "metadata": {},
      "outputs": [
        {
          "name": "stdout",
          "output_type": "stream",
          "text": [
            "역세권 등급 분류 완료!\n",
            "\n",
            "=== 역세권 등급 분포 ===\n",
            "1점 - D급(비역세권): 34,564개 (3.3%)\n",
            "2점 - C급(간접역세권): 117,248개 (11.3%)\n",
            "3점 - B급(2차역세권): 300,467개 (28.9%)\n",
            "4점 - A급(1차역세권): 487,495개 (46.9%)\n",
            "5점 - S급(초역세권): 99,072개 (9.5%)\n",
            "\n",
            "=== 등급별 거리 통계 ===\n",
            "                count     min     max    mean\n",
            "1점(D급(비역세권))    34564  1208.4  2510.7  1442.2\n",
            "2점(C급(간접역세권))  117248   800.6  1194.9   962.2\n",
            "3점(B급(2차역세권))  300467   500.4   793.6   636.9\n",
            "4점(A급(1차역세권))  487495   250.3   498.2   379.5\n",
            "5점(S급(초역세권))    99072    36.2   248.8   184.6\n"
          ]
        }
      ],
      "source": [
        "\n",
        "def add_station_area_grade(df):\n",
        "    \"\"\"\n",
        "    지하철역까지의 최단거리를 역세권 등급으로 분류\n",
        "    - S급 (초역세권): 250m 이하 - 5점\n",
        "    - A급 (1차 역세권): 250m 초과 ~ 500m 이하 - 4점 \n",
        "    - B급 (2차 역세권): 500m 초과 ~ 800m 이하 - 3점\n",
        "    - C급 (간접 역세권): 800m 초과 ~ 1200m 이하 - 2점\n",
        "    - D급 (비역세권): 1200m 초과 - 1점\n",
        "    \"\"\"\n",
        "    if 'subway_min_distance' not in df.columns:\n",
        "        print(\"subway_min_distance 컬럼이 없습니다.\")\n",
        "        return df\n",
        "    \n",
        "    # 역세권 컬럼 초기화\n",
        "    df['역세권'] = 1  # 기본값 1점 (D급 - 비역세권)\n",
        "    \n",
        "    # 등급 분류\n",
        "    df.loc[df['subway_min_distance'] <= 250, '역세권'] = 5   # S급: 250m 이하\n",
        "    df.loc[(df['subway_min_distance'] > 250) & (df['subway_min_distance'] <= 500), '역세권'] = 4   # A급: 250m~500m\n",
        "    df.loc[(df['subway_min_distance'] > 500) & (df['subway_min_distance'] <= 800), '역세권'] = 3   # B급: 500m~800m\n",
        "    df.loc[(df['subway_min_distance'] > 800) & (df['subway_min_distance'] <= 1200), '역세권'] = 2  # C급: 800m~1200m\n",
        "    # 1200m 초과는 이미 1점(D급)으로 설정됨\n",
        "    \n",
        "    print(\"역세권 등급 분류 완료!\")\n",
        "    return df\n",
        "\n",
        "# 함수 적용\n",
        "concat_select = add_station_area_grade(concat_select)\n",
        "\n",
        "# 결과 확인\n",
        "print(\"\\n=== 역세권 등급 분포 ===\")\n",
        "grade_counts = concat_select['역세권'].value_counts().sort_index()\n",
        "grade_labels = {5: 'S급(초역세권)', 4: 'A급(1차역세권)', 3: 'B급(2차역세권)', 2: 'C급(간접역세권)', 1: 'D급(비역세권)'}\n",
        "\n",
        "for grade in sorted(grade_counts.index):\n",
        "    count = grade_counts[grade]\n",
        "    percentage = (count / len(concat_select)) * 100\n",
        "    print(f\"{grade}점 - {grade_labels[grade]}: {count:,}개 ({percentage:.1f}%)\")\n",
        "\n",
        "# 등급별 거리 통계\n",
        "print(\"\\n=== 등급별 거리 통계 ===\")\n",
        "distance_stats = concat_select.groupby('역세권')['subway_min_distance'].agg(['count', 'min', 'max', 'mean']).round(1)\n",
        "distance_stats.index = [f\"{idx}점({grade_labels[idx]})\" for idx in distance_stats.index]\n",
        "print(distance_stats)"
      ]
    },
    {
      "cell_type": "code",
      "execution_count": 47,
      "metadata": {},
      "outputs": [
        {
          "data": {
            "text/plain": [
              "0          2\n",
              "1          2\n",
              "2          2\n",
              "3          2\n",
              "4          2\n",
              "          ..\n",
              "1038841    3\n",
              "1038842    3\n",
              "1038843    3\n",
              "1038844    3\n",
              "1038845    3\n",
              "Name: 역세권, Length: 1038846, dtype: int64"
            ]
          },
          "execution_count": 47,
          "metadata": {},
          "output_type": "execute_result"
        }
      ],
      "source": [
        "concat_select['역세권']"
      ]
    },
    {
      "cell_type": "code",
      "execution_count": 48,
      "metadata": {
        "colab": {
          "base_uri": "https://localhost:8080/"
        },
        "id": "DmYBZUkrAOtS",
        "outputId": "ced274b0-3d7b-43a9-9479-e69c39ff7f1c"
      },
      "outputs": [
        {
          "data": {
            "text/plain": [
              "Index(['번지', '본번', '부번', '아파트명', '전용면적', '계약일', '층', '건축년도', '도로명', '등기신청일자',\n",
              "       '거래유형', '중개사소재지', 'k-단지분류(아파트,주상복합등등)', 'k-전화번호', 'k-팩스번호',\n",
              "       'k-세대타입(분양형태)', 'k-관리방식', 'k-복도유형', 'k-난방방식', 'k-전체동수', 'k-전체세대수',\n",
              "       'k-건설사(시공사)', 'k-시행사', 'k-사용검사일-사용승인일', 'k-연면적', 'k-주거전용면적',\n",
              "       'k-관리비부과면적', 'k-전용면적별세대현황(60㎡이하)', 'k-전용면적별세대현황(60㎡~85㎡이하)',\n",
              "       'k-85㎡~135㎡이하', 'k-수정일자', '고용보험관리번호', '경비비관리형태', '세대전기계약방법', '청소비관리형태',\n",
              "       '건축면적', '주차대수', '기타/의무/임대/임의=1/2/3/4', '단지승인일', '사용허가여부', '관리비 업로드',\n",
              "       '좌표X', '좌표Y', '단지신청일', 'target', 'is_test', 'subway_min_distance',\n",
              "       'nearest_subway_line', '구', '동', '계약년', '계약월', '강남여부', '호선등급', '역세권'],\n",
              "      dtype='object')"
            ]
          },
          "execution_count": 48,
          "metadata": {},
          "output_type": "execute_result"
        }
      ],
      "source": [
        "concat_select.columns"
      ]
    },
    {
      "cell_type": "markdown",
      "metadata": {
        "id": "7zUmQubaAbKJ"
      },
      "source": [
        "- 또한 신축인지, 구축인지의 여부도 실거래가에 큰 영향을 줄 수 있습니다.\n",
        "- 따라서 건축년도에 따라 파생변수를 제작해주도록 하겠습니다."
      ]
    },
    {
      "cell_type": "code",
      "execution_count": 49,
      "metadata": {
        "colab": {
          "base_uri": "https://localhost:8080/"
        },
        "id": "_NcBva7dAVBq",
        "outputId": "9796e4f8-8f8f-4e0c-9fb2-9757ad6e0f3b"
      },
      "outputs": [
        {
          "data": {
            "text/plain": [
              "count    1.038846e+06\n",
              "mean     1.998583e+03\n",
              "std      9.132471e+00\n",
              "min      1.961000e+03\n",
              "10%      1.987000e+03\n",
              "25%      1.992000e+03\n",
              "50%      2.000000e+03\n",
              "75%      2.005000e+03\n",
              "80%      2.006000e+03\n",
              "90%      2.009000e+03\n",
              "max      2.023000e+03\n",
              "Name: 건축년도, dtype: float64"
            ]
          },
          "execution_count": 49,
          "metadata": {},
          "output_type": "execute_result"
        }
      ],
      "source": [
        "# 건축년도 분포는 아래와 같습니다. 특히 2005년이 Q3에 해당합니다.\n",
        "# 2009년 이후에 지어진 건물은 10%정도 되는 것을 확인할 수 있습니다.\n",
        "concat_select['건축년도'].describe(percentiles = [0.1, 0.25, 0.5, 0.75, 0.8, 0.9])"
      ]
    },
    {
      "cell_type": "code",
      "execution_count": 50,
      "metadata": {
        "id": "qiiOPubLAqxC"
      },
      "outputs": [],
      "source": [
        "# 따라서 2009년 이후에 지어졌으면 비교적 신축이라고 판단하고, 신축 여부 변수를 제작해보도록 하겠습니다.\n",
        "concat_select['신축여부'] = concat_select['건축년도'].apply(lambda x: 1 if x >= 2009 else 0)"
      ]
    },
    {
      "cell_type": "code",
      "execution_count": 51,
      "metadata": {},
      "outputs": [
        {
          "name": "stdout",
          "output_type": "stream",
          "text": [
            "🚀 초고속 학업성과 Feature 함수 정의 완료! (10개 Feature 버전)\n",
            "사용법: concat_select = add_school_features_fast(concat_select, school_df)\n",
            "생성되는 10개 Feature:\n",
            "  1. nearest_middle_distance_m - 가장 가까운 중학교 거리(미터)\n",
            "  2. nearest_high_distance_m - 가장 가까운 고등학교 거리(미터)\n",
            "  3. nearest_middle_score - 가장 가까운 중학교 평균 점수\n",
            "  4. nearest_high_score - 가장 가까운 고등학교 평균 점수\n",
            "  5. nearest_middle_grade - 가장 가까운 중학교 등급 (1-5)\n",
            "  6. nearest_high_grade - 가장 가까운 고등학교 등급 (1-5)\n",
            "  7. schools_within_1km - 반경 1km 내 학교 개수\n",
            "  8. avg_school_score_1km - 반경 1km 내 평균 학교 점수\n",
            "  9. nearest_middle_진학률 - 가장 가까운 중학교 특목고 진학률\n",
            " 10. nearest_high_진학률 - 가장 가까운 고등학교 대학 진학률\n"
          ]
        }
      ],
      "source": [
        "\n",
        "\n",
        "# 🚀 초고속 학업성과 Feature 생성 함수 (벡터화 최적화) - 10개 Feature 버전\n",
        "def add_school_features_fast(df, school_df):\n",
        "    \"\"\"\n",
        "    학교 데이터를 기반으로 학업성과 관련 Feature 생성 (초고속 버전)\n",
        "    10개 Feature: 거리(2) + 점수(2) + 등급(2) + 1km내개수(1) + 1km내평균점수(1) + 진학률(2)\n",
        "    \"\"\"\n",
        "    print(\"🚀 초고속 학업성과 Feature 생성 중... (10개 Feature)\")\n",
        "    \n",
        "    # 유효한 좌표가 있는 데이터 필터링\n",
        "    valid_mask = df[['좌표Y', '좌표X']].notna().all(axis=1)\n",
        "    school_valid = school_df[['위도', '경도']].notna().all(axis=1)\n",
        "    \n",
        "    # 결과 컬럼 초기화 (10개 Feature)\n",
        "    feature_columns = [\n",
        "        'nearest_middle_distance_m', 'nearest_high_distance_m',\n",
        "        'nearest_middle_score', 'nearest_high_score',\n",
        "        'nearest_middle_grade', 'nearest_high_grade',\n",
        "        'schools_within_1km', 'avg_school_score_1km',\n",
        "        'nearest_middle_진학률', 'nearest_high_진학률'\n",
        "    ]\n",
        "    \n",
        "    for col in feature_columns:\n",
        "        df[col] = np.nan\n",
        "    \n",
        "    if valid_mask.sum() == 0 or school_valid.sum() == 0:\n",
        "        print(\"유효한 좌표 데이터가 없습니다.\")\n",
        "        return df\n",
        "    \n",
        "    # 학교 데이터 전처리\n",
        "    school_clean = school_df[school_valid].copy()\n",
        "    middle_schools = school_clean[school_clean['학교유형'] == '중학교'].copy()\n",
        "    high_schools = school_clean[school_clean['학교유형'] == '고등학교'].copy()\n",
        "    \n",
        "    print(f\"중학교: {len(middle_schools)}개, 고등학교: {len(high_schools)}개\")\n",
        "    \n",
        "    # 학교 등급 계산\n",
        "    def calculate_grades_fast(schools_df):\n",
        "        scores = schools_df['평균'].dropna()\n",
        "        if len(scores) == 0:\n",
        "            return np.full(len(schools_df), np.nan)\n",
        "        \n",
        "        # 백분위 계산\n",
        "        thresholds = np.percentile(scores, [20, 50, 80, 90])\n",
        "        \n",
        "        grades = np.ones(len(schools_df))  # 기본값 1\n",
        "        valid_scores = schools_df['평균'].notna()\n",
        "        \n",
        "        grades[valid_scores & (schools_df['평균'] >= thresholds[3])] = 5  # 상위 10%\n",
        "        grades[valid_scores & (schools_df['평균'] >= thresholds[2]) & (schools_df['평균'] < thresholds[3])] = 4  # 상위 20%\n",
        "        grades[valid_scores & (schools_df['평균'] >= thresholds[1]) & (schools_df['평균'] < thresholds[2])] = 3  # 상위 50%\n",
        "        grades[valid_scores & (schools_df['평균'] >= thresholds[0]) & (schools_df['평균'] < thresholds[1])] = 2  # 상위 80%\n",
        "        \n",
        "        grades[~valid_scores] = np.nan\n",
        "        return grades\n",
        "    \n",
        "    if len(middle_schools) > 0:\n",
        "        middle_schools['등급'] = calculate_grades_fast(middle_schools)\n",
        "    if len(high_schools) > 0:\n",
        "        high_schools['등급'] = calculate_grades_fast(high_schools)\n",
        "    \n",
        "    # 🚀 초고속 벡터화 거리 계산\n",
        "    def calculate_distances_vectorized(prop_coords, school_coords):\n",
        "        \"\"\"완전 벡터화된 거리 계산\"\"\"\n",
        "        # 좌표를 라디안으로 변환\n",
        "        prop_lat_rad = np.radians(prop_coords[:, 0])\n",
        "        prop_lon_rad = np.radians(prop_coords[:, 1])\n",
        "        school_lat_rad = np.radians(school_coords[:, 0])\n",
        "        school_lon_rad = np.radians(school_coords[:, 1])\n",
        "        \n",
        "        # 브로드캐스팅을 위한 차원 확장\n",
        "        prop_lat_rad = prop_lat_rad[:, np.newaxis]\n",
        "        prop_lon_rad = prop_lon_rad[:, np.newaxis]\n",
        "        \n",
        "        # 하버사인 공식 벡터화\n",
        "        dlat = school_lat_rad - prop_lat_rad\n",
        "        dlon = school_lon_rad - prop_lon_rad\n",
        "        \n",
        "        a = np.sin(dlat/2)**2 + np.cos(prop_lat_rad) * np.cos(school_lat_rad) * np.sin(dlon/2)**2\n",
        "        c = 2 * np.arctan2(np.sqrt(a), np.sqrt(1-a))\n",
        "        distances = 6371000 * c  # 미터 단위\n",
        "        \n",
        "        return distances\n",
        "    \n",
        "    # 유효한 부동산 데이터 추출\n",
        "    valid_properties = df[valid_mask].copy()\n",
        "    prop_coords = valid_properties[['좌표Y', '좌표X']].values\n",
        "    \n",
        "    print(f\"처리할 부동산: {len(prop_coords):,}개\")\n",
        "    \n",
        "    # 🚀 대용량 배치 처리 (5000개씩)\n",
        "    batch_size = 5000\n",
        "    \n",
        "    for i in range(0, len(prop_coords), batch_size):\n",
        "        end_idx = min(i + batch_size, len(prop_coords))\n",
        "        batch_coords = prop_coords[i:end_idx]\n",
        "        batch_indices = valid_properties.index[i:end_idx]\n",
        "        \n",
        "        print(f\"🚀 진행률: {end_idx}/{len(prop_coords)} ({end_idx/len(prop_coords)*100:.1f}%)\")\n",
        "        \n",
        "        # 중학교 처리\n",
        "        if len(middle_schools) > 0:\n",
        "            middle_coords = middle_schools[['위도', '경도']].values\n",
        "            middle_distances = calculate_distances_vectorized(batch_coords, middle_coords)\n",
        "            \n",
        "            # 가장 가까운 중학교 찾기\n",
        "            nearest_middle_indices = np.argmin(middle_distances, axis=1)\n",
        "            nearest_middle_distances = middle_distances[np.arange(len(batch_coords)), nearest_middle_indices]\n",
        "            \n",
        "            # 결과 저장 (10개 Feature 버전)\n",
        "            df.loc[batch_indices, 'nearest_middle_distance_m'] = nearest_middle_distances\n",
        "            df.loc[batch_indices, 'nearest_middle_score'] = middle_schools.iloc[nearest_middle_indices]['평균'].values\n",
        "            df.loc[batch_indices, 'nearest_middle_grade'] = middle_schools.iloc[nearest_middle_indices]['등급'].values\n",
        "            \n",
        "            # 진학률 처리\n",
        "            진학률_values = middle_schools.iloc[nearest_middle_indices]['특목고진학률'].fillna(0).values\n",
        "            df.loc[batch_indices, 'nearest_middle_진학률'] = 진학률_values\n",
        "        \n",
        "        # 고등학교 처리\n",
        "        if len(high_schools) > 0:\n",
        "            high_coords = high_schools[['위도', '경도']].values\n",
        "            high_distances = calculate_distances_vectorized(batch_coords, high_coords)\n",
        "            \n",
        "            # 가장 가까운 고등학교 찾기\n",
        "            nearest_high_indices = np.argmin(high_distances, axis=1)\n",
        "            nearest_high_distances = high_distances[np.arange(len(batch_coords)), nearest_high_indices]\n",
        "            \n",
        "            # 결과 저장 (10개 Feature 버전)\n",
        "            df.loc[batch_indices, 'nearest_high_distance_m'] = nearest_high_distances\n",
        "            df.loc[batch_indices, 'nearest_high_score'] = high_schools.iloc[nearest_high_indices]['평균'].values\n",
        "            df.loc[batch_indices, 'nearest_high_grade'] = high_schools.iloc[nearest_high_indices]['등급'].values\n",
        "            \n",
        "            # 진학률 처리\n",
        "            진학률_values = high_schools.iloc[nearest_high_indices]['대학교진학률'].fillna(0).values\n",
        "            df.loc[batch_indices, 'nearest_high_진학률'] = 진학률_values\n",
        "        \n",
        "        # 1km 내 학교 개수 및 평균 점수 (간소화)\n",
        "        all_schools = pd.concat([middle_schools, high_schools]) if len(middle_schools) > 0 and len(high_schools) > 0 else (middle_schools if len(middle_schools) > 0 else high_schools)\n",
        "        \n",
        "        if len(all_schools) > 0:\n",
        "            all_coords = all_schools[['위도', '경도']].values\n",
        "            all_distances = calculate_distances_vectorized(batch_coords, all_coords)\n",
        "            \n",
        "            # 1km 내 학교 개수\n",
        "            within_1km = (all_distances <= 1000).sum(axis=1)\n",
        "            df.loc[batch_indices, 'schools_within_1km'] = within_1km\n",
        "            \n",
        "            # 1km 내 평균 점수\n",
        "            for j, idx in enumerate(batch_indices):\n",
        "                within_1km_mask = all_distances[j] <= 1000\n",
        "                if within_1km_mask.any():\n",
        "                    nearby_scores = all_schools.iloc[within_1km_mask]['평균'].dropna()\n",
        "                    df.loc[idx, 'avg_school_score_1km'] = nearby_scores.mean() if len(nearby_scores) > 0 else np.nan\n",
        "    \n",
        "    print(\"🚀 초고속 학업성과 Feature 생성 완료! (10개 Feature)\")\n",
        "    print(\"생성된 Feature:\")\n",
        "    for col in feature_columns:\n",
        "        non_null_count = df[col].count()\n",
        "        print(f\"  - {col}: {non_null_count:,}개 데이터\")\n",
        "    \n",
        "    return df\n",
        "\n",
        "print(\"🚀 초고속 학업성과 Feature 함수 정의 완료! (10개 Feature 버전)\")\n",
        "print(\"사용법: concat_select = add_school_features_fast(concat_select, school_df)\")\n",
        "print(\"생성되는 10개 Feature:\")\n",
        "print(\"  1. nearest_middle_distance_m - 가장 가까운 중학교 거리(미터)\")\n",
        "print(\"  2. nearest_high_distance_m - 가장 가까운 고등학교 거리(미터)\")\n",
        "print(\"  3. nearest_middle_score - 가장 가까운 중학교 평균 점수\")\n",
        "print(\"  4. nearest_high_score - 가장 가까운 고등학교 평균 점수\")\n",
        "print(\"  5. nearest_middle_grade - 가장 가까운 중학교 등급 (1-5)\")\n",
        "print(\"  6. nearest_high_grade - 가장 가까운 고등학교 등급 (1-5)\")\n",
        "print(\"  7. schools_within_1km - 반경 1km 내 학교 개수\")\n",
        "print(\"  8. avg_school_score_1km - 반경 1km 내 평균 학교 점수\")\n",
        "print(\"  9. nearest_middle_진학률 - 가장 가까운 중학교 특목고 진학률\")\n",
        "print(\" 10. nearest_high_진학률 - 가장 가까운 고등학교 대학 진학률\")"
      ]
    },
    {
      "cell_type": "code",
      "execution_count": 52,
      "metadata": {},
      "outputs": [
        {
          "name": "stdout",
          "output_type": "stream",
          "text": [
            "🚀 초고속 학업성과 Feature 생성 중... (10개 Feature)\n",
            "중학교: 379개, 고등학교: 237개\n",
            "처리할 부동산: 1,038,846개\n",
            "🚀 진행률: 5000/1038846 (0.5%)\n",
            "🚀 진행률: 10000/1038846 (1.0%)\n",
            "🚀 진행률: 15000/1038846 (1.4%)\n",
            "🚀 진행률: 20000/1038846 (1.9%)\n",
            "🚀 진행률: 25000/1038846 (2.4%)\n",
            "🚀 진행률: 30000/1038846 (2.9%)\n",
            "🚀 진행률: 35000/1038846 (3.4%)\n",
            "🚀 진행률: 40000/1038846 (3.9%)\n",
            "🚀 진행률: 45000/1038846 (4.3%)\n",
            "🚀 진행률: 50000/1038846 (4.8%)\n",
            "🚀 진행률: 55000/1038846 (5.3%)\n",
            "🚀 진행률: 60000/1038846 (5.8%)\n",
            "🚀 진행률: 65000/1038846 (6.3%)\n",
            "🚀 진행률: 70000/1038846 (6.7%)\n",
            "🚀 진행률: 75000/1038846 (7.2%)\n",
            "🚀 진행률: 80000/1038846 (7.7%)\n",
            "🚀 진행률: 85000/1038846 (8.2%)\n",
            "🚀 진행률: 90000/1038846 (8.7%)\n",
            "🚀 진행률: 95000/1038846 (9.1%)\n",
            "🚀 진행률: 100000/1038846 (9.6%)\n",
            "🚀 진행률: 105000/1038846 (10.1%)\n",
            "🚀 진행률: 110000/1038846 (10.6%)\n",
            "🚀 진행률: 115000/1038846 (11.1%)\n",
            "🚀 진행률: 120000/1038846 (11.6%)\n",
            "🚀 진행률: 125000/1038846 (12.0%)\n",
            "🚀 진행률: 130000/1038846 (12.5%)\n",
            "🚀 진행률: 135000/1038846 (13.0%)\n",
            "🚀 진행률: 140000/1038846 (13.5%)\n",
            "🚀 진행률: 145000/1038846 (14.0%)\n",
            "🚀 진행률: 150000/1038846 (14.4%)\n",
            "🚀 진행률: 155000/1038846 (14.9%)\n",
            "🚀 진행률: 160000/1038846 (15.4%)\n",
            "🚀 진행률: 165000/1038846 (15.9%)\n",
            "🚀 진행률: 170000/1038846 (16.4%)\n",
            "🚀 진행률: 175000/1038846 (16.8%)\n",
            "🚀 진행률: 180000/1038846 (17.3%)\n",
            "🚀 진행률: 185000/1038846 (17.8%)\n",
            "🚀 진행률: 190000/1038846 (18.3%)\n",
            "🚀 진행률: 195000/1038846 (18.8%)\n",
            "🚀 진행률: 200000/1038846 (19.3%)\n",
            "🚀 진행률: 205000/1038846 (19.7%)\n",
            "🚀 진행률: 210000/1038846 (20.2%)\n",
            "🚀 진행률: 215000/1038846 (20.7%)\n",
            "🚀 진행률: 220000/1038846 (21.2%)\n",
            "🚀 진행률: 225000/1038846 (21.7%)\n",
            "🚀 진행률: 230000/1038846 (22.1%)\n",
            "🚀 진행률: 235000/1038846 (22.6%)\n",
            "🚀 진행률: 240000/1038846 (23.1%)\n",
            "🚀 진행률: 245000/1038846 (23.6%)\n",
            "🚀 진행률: 250000/1038846 (24.1%)\n",
            "🚀 진행률: 255000/1038846 (24.5%)\n",
            "🚀 진행률: 260000/1038846 (25.0%)\n",
            "🚀 진행률: 265000/1038846 (25.5%)\n",
            "🚀 진행률: 270000/1038846 (26.0%)\n",
            "🚀 진행률: 275000/1038846 (26.5%)\n",
            "🚀 진행률: 280000/1038846 (27.0%)\n",
            "🚀 진행률: 285000/1038846 (27.4%)\n",
            "🚀 진행률: 290000/1038846 (27.9%)\n",
            "🚀 진행률: 295000/1038846 (28.4%)\n",
            "🚀 진행률: 300000/1038846 (28.9%)\n",
            "🚀 진행률: 305000/1038846 (29.4%)\n",
            "🚀 진행률: 310000/1038846 (29.8%)\n",
            "🚀 진행률: 315000/1038846 (30.3%)\n",
            "🚀 진행률: 320000/1038846 (30.8%)\n",
            "🚀 진행률: 325000/1038846 (31.3%)\n",
            "🚀 진행률: 330000/1038846 (31.8%)\n",
            "🚀 진행률: 335000/1038846 (32.2%)\n",
            "🚀 진행률: 340000/1038846 (32.7%)\n",
            "🚀 진행률: 345000/1038846 (33.2%)\n",
            "🚀 진행률: 350000/1038846 (33.7%)\n",
            "🚀 진행률: 355000/1038846 (34.2%)\n",
            "🚀 진행률: 360000/1038846 (34.7%)\n",
            "🚀 진행률: 365000/1038846 (35.1%)\n",
            "🚀 진행률: 370000/1038846 (35.6%)\n",
            "🚀 진행률: 375000/1038846 (36.1%)\n",
            "🚀 진행률: 380000/1038846 (36.6%)\n",
            "🚀 진행률: 385000/1038846 (37.1%)\n",
            "🚀 진행률: 390000/1038846 (37.5%)\n",
            "🚀 진행률: 395000/1038846 (38.0%)\n",
            "🚀 진행률: 400000/1038846 (38.5%)\n",
            "🚀 진행률: 405000/1038846 (39.0%)\n",
            "🚀 진행률: 410000/1038846 (39.5%)\n",
            "🚀 진행률: 415000/1038846 (39.9%)\n",
            "🚀 진행률: 420000/1038846 (40.4%)\n",
            "🚀 진행률: 425000/1038846 (40.9%)\n",
            "🚀 진행률: 430000/1038846 (41.4%)\n",
            "🚀 진행률: 435000/1038846 (41.9%)\n",
            "🚀 진행률: 440000/1038846 (42.4%)\n",
            "🚀 진행률: 445000/1038846 (42.8%)\n",
            "🚀 진행률: 450000/1038846 (43.3%)\n",
            "🚀 진행률: 455000/1038846 (43.8%)\n",
            "🚀 진행률: 460000/1038846 (44.3%)\n",
            "🚀 진행률: 465000/1038846 (44.8%)\n",
            "🚀 진행률: 470000/1038846 (45.2%)\n",
            "🚀 진행률: 475000/1038846 (45.7%)\n",
            "🚀 진행률: 480000/1038846 (46.2%)\n",
            "🚀 진행률: 485000/1038846 (46.7%)\n",
            "🚀 진행률: 490000/1038846 (47.2%)\n",
            "🚀 진행률: 495000/1038846 (47.6%)\n",
            "🚀 진행률: 500000/1038846 (48.1%)\n",
            "🚀 진행률: 505000/1038846 (48.6%)\n",
            "🚀 진행률: 510000/1038846 (49.1%)\n",
            "🚀 진행률: 515000/1038846 (49.6%)\n",
            "🚀 진행률: 520000/1038846 (50.1%)\n",
            "🚀 진행률: 525000/1038846 (50.5%)\n",
            "🚀 진행률: 530000/1038846 (51.0%)\n",
            "🚀 진행률: 535000/1038846 (51.5%)\n",
            "🚀 진행률: 540000/1038846 (52.0%)\n",
            "🚀 진행률: 545000/1038846 (52.5%)\n",
            "🚀 진행률: 550000/1038846 (52.9%)\n",
            "🚀 진행률: 555000/1038846 (53.4%)\n",
            "🚀 진행률: 560000/1038846 (53.9%)\n",
            "🚀 진행률: 565000/1038846 (54.4%)\n",
            "🚀 진행률: 570000/1038846 (54.9%)\n",
            "🚀 진행률: 575000/1038846 (55.3%)\n",
            "🚀 진행률: 580000/1038846 (55.8%)\n",
            "🚀 진행률: 585000/1038846 (56.3%)\n",
            "🚀 진행률: 590000/1038846 (56.8%)\n",
            "🚀 진행률: 595000/1038846 (57.3%)\n",
            "🚀 진행률: 600000/1038846 (57.8%)\n",
            "🚀 진행률: 605000/1038846 (58.2%)\n",
            "🚀 진행률: 610000/1038846 (58.7%)\n",
            "🚀 진행률: 615000/1038846 (59.2%)\n",
            "🚀 진행률: 620000/1038846 (59.7%)\n",
            "🚀 진행률: 625000/1038846 (60.2%)\n",
            "🚀 진행률: 630000/1038846 (60.6%)\n",
            "🚀 진행률: 635000/1038846 (61.1%)\n",
            "🚀 진행률: 640000/1038846 (61.6%)\n",
            "🚀 진행률: 645000/1038846 (62.1%)\n",
            "🚀 진행률: 650000/1038846 (62.6%)\n",
            "🚀 진행률: 655000/1038846 (63.1%)\n",
            "🚀 진행률: 660000/1038846 (63.5%)\n",
            "🚀 진행률: 665000/1038846 (64.0%)\n",
            "🚀 진행률: 670000/1038846 (64.5%)\n",
            "🚀 진행률: 675000/1038846 (65.0%)\n",
            "🚀 진행률: 680000/1038846 (65.5%)\n",
            "🚀 진행률: 685000/1038846 (65.9%)\n",
            "🚀 진행률: 690000/1038846 (66.4%)\n",
            "🚀 진행률: 695000/1038846 (66.9%)\n",
            "🚀 진행률: 700000/1038846 (67.4%)\n",
            "🚀 진행률: 705000/1038846 (67.9%)\n",
            "🚀 진행률: 710000/1038846 (68.3%)\n",
            "🚀 진행률: 715000/1038846 (68.8%)\n",
            "🚀 진행률: 720000/1038846 (69.3%)\n",
            "🚀 진행률: 725000/1038846 (69.8%)\n",
            "🚀 진행률: 730000/1038846 (70.3%)\n",
            "🚀 진행률: 735000/1038846 (70.8%)\n",
            "🚀 진행률: 740000/1038846 (71.2%)\n",
            "🚀 진행률: 745000/1038846 (71.7%)\n",
            "🚀 진행률: 750000/1038846 (72.2%)\n",
            "🚀 진행률: 755000/1038846 (72.7%)\n",
            "🚀 진행률: 760000/1038846 (73.2%)\n",
            "🚀 진행률: 765000/1038846 (73.6%)\n",
            "🚀 진행률: 770000/1038846 (74.1%)\n",
            "🚀 진행률: 775000/1038846 (74.6%)\n",
            "🚀 진행률: 780000/1038846 (75.1%)\n",
            "🚀 진행률: 785000/1038846 (75.6%)\n",
            "🚀 진행률: 790000/1038846 (76.0%)\n",
            "🚀 진행률: 795000/1038846 (76.5%)\n",
            "🚀 진행률: 800000/1038846 (77.0%)\n",
            "🚀 진행률: 805000/1038846 (77.5%)\n",
            "🚀 진행률: 810000/1038846 (78.0%)\n",
            "🚀 진행률: 815000/1038846 (78.5%)\n",
            "🚀 진행률: 820000/1038846 (78.9%)\n",
            "🚀 진행률: 825000/1038846 (79.4%)\n",
            "🚀 진행률: 830000/1038846 (79.9%)\n",
            "🚀 진행률: 835000/1038846 (80.4%)\n",
            "🚀 진행률: 840000/1038846 (80.9%)\n",
            "🚀 진행률: 845000/1038846 (81.3%)\n",
            "🚀 진행률: 850000/1038846 (81.8%)\n",
            "🚀 진행률: 855000/1038846 (82.3%)\n",
            "🚀 진행률: 860000/1038846 (82.8%)\n",
            "🚀 진행률: 865000/1038846 (83.3%)\n",
            "🚀 진행률: 870000/1038846 (83.7%)\n",
            "🚀 진행률: 875000/1038846 (84.2%)\n",
            "🚀 진행률: 880000/1038846 (84.7%)\n",
            "🚀 진행률: 885000/1038846 (85.2%)\n",
            "🚀 진행률: 890000/1038846 (85.7%)\n",
            "🚀 진행률: 895000/1038846 (86.2%)\n",
            "🚀 진행률: 900000/1038846 (86.6%)\n",
            "🚀 진행률: 905000/1038846 (87.1%)\n",
            "🚀 진행률: 910000/1038846 (87.6%)\n",
            "🚀 진행률: 915000/1038846 (88.1%)\n",
            "🚀 진행률: 920000/1038846 (88.6%)\n",
            "🚀 진행률: 925000/1038846 (89.0%)\n",
            "🚀 진행률: 930000/1038846 (89.5%)\n",
            "🚀 진행률: 935000/1038846 (90.0%)\n",
            "🚀 진행률: 940000/1038846 (90.5%)\n",
            "🚀 진행률: 945000/1038846 (91.0%)\n",
            "🚀 진행률: 950000/1038846 (91.4%)\n",
            "🚀 진행률: 955000/1038846 (91.9%)\n",
            "🚀 진행률: 960000/1038846 (92.4%)\n",
            "🚀 진행률: 965000/1038846 (92.9%)\n",
            "🚀 진행률: 970000/1038846 (93.4%)\n",
            "🚀 진행률: 975000/1038846 (93.9%)\n",
            "🚀 진행률: 980000/1038846 (94.3%)\n",
            "🚀 진행률: 985000/1038846 (94.8%)\n",
            "🚀 진행률: 990000/1038846 (95.3%)\n",
            "🚀 진행률: 995000/1038846 (95.8%)\n",
            "🚀 진행률: 1000000/1038846 (96.3%)\n",
            "🚀 진행률: 1005000/1038846 (96.7%)\n",
            "🚀 진행률: 1010000/1038846 (97.2%)\n",
            "🚀 진행률: 1015000/1038846 (97.7%)\n",
            "🚀 진행률: 1020000/1038846 (98.2%)\n",
            "🚀 진행률: 1025000/1038846 (98.7%)\n",
            "🚀 진행률: 1030000/1038846 (99.1%)\n",
            "🚀 진행률: 1035000/1038846 (99.6%)\n",
            "🚀 진행률: 1038846/1038846 (100.0%)\n",
            "🚀 초고속 학업성과 Feature 생성 완료! (10개 Feature)\n",
            "생성된 Feature:\n",
            "  - nearest_middle_distance_m: 1,038,846개 데이터\n",
            "  - nearest_high_distance_m: 1,038,846개 데이터\n",
            "  - nearest_middle_score: 1,038,846개 데이터\n",
            "  - nearest_high_score: 1,038,846개 데이터\n",
            "  - nearest_middle_grade: 1,038,846개 데이터\n",
            "  - nearest_high_grade: 1,038,846개 데이터\n",
            "  - schools_within_1km: 1,038,846개 데이터\n",
            "  - avg_school_score_1km: 1,018,423개 데이터\n",
            "  - nearest_middle_진학률: 1,038,846개 데이터\n",
            "  - nearest_high_진학률: 1,038,846개 데이터\n"
          ]
        }
      ],
      "source": [
        "# 1. 학교 데이터 로드\n",
        "school_df = pd.read_csv('/home/realtheai/documents/upstage-ml-regression-sigma7/school_levels.csv')\n",
        "\n",
        "# 2. Feature 생성\n",
        "concat_select = add_school_features_fast(concat_select, school_df)"
      ]
    },
    {
      "cell_type": "code",
      "execution_count": 53,
      "metadata": {},
      "outputs": [
        {
          "name": "stdout",
          "output_type": "stream",
          "text": [
            "한강 접근성 평가점수 생성 완료\n",
            "매칭된 아파트: 153,293개\n",
            "평균 점수: 87.3점\n"
          ]
        }
      ],
      "source": [
        "# 1. 한강 접근성 평가점수 (0-100점)\n",
        "hangang_df = pd.read_csv('/home/realtheai/documents/upstage-ml-regression-sigma7/3_서울시 아파트별 한강 및 지천 생활권 정보.csv')\n",
        "location_score_dict = hangang_df.set_index('단지명')['평가점수'].to_dict()\n",
        "concat_select['hangang_location_score'] = concat_select['아파트명'].map(location_score_dict).fillna(0)\n",
        "\n",
        "print(\"한강 접근성 평가점수 생성 완료\")\n",
        "print(f\"매칭된 아파트: {concat_select['hangang_location_score'][concat_select['hangang_location_score'] > 0].count():,}개\")\n",
        "print(f\"평균 점수: {concat_select['hangang_location_score'][concat_select['hangang_location_score'] > 0].mean():.1f}점\")"
      ]
    },
    {
      "cell_type": "code",
      "execution_count": 54,
      "metadata": {},
      "outputs": [
        {
          "name": "stdout",
          "output_type": "stream",
          "text": [
            "한강 생활지수 점수 생성 완료\n",
            "매칭된 아파트: 153,293개\n",
            "점수 분포:\n",
            "  5점: 10,251개\n",
            "  4점: 51,598개\n",
            "  3점: 47,590개\n",
            "  2점: 43,854개\n",
            "  1점: 885,553개\n"
          ]
        }
      ],
      "source": [
        "# 2. 한강 생활지수 점수 (1-5점, 5점이 최고)\n",
        "grade_to_score = {1: 5, 2: 4, 3: 3, 4: 2, 5: 1}\n",
        "lifestyle_grade_dict = hangang_df.set_index('단지명')['생활지수'].to_dict()\n",
        "concat_select['hangang_lifestyle_grade'] = concat_select['아파트명'].map(lifestyle_grade_dict).map(grade_to_score).fillna(1)\n",
        "\n",
        "print(\"한강 생활지수 점수 생성 완료\")\n",
        "print(f\"매칭된 아파트: {concat_select['hangang_lifestyle_grade'][concat_select['hangang_lifestyle_grade'] > 1].count():,}개\")\n",
        "print(f\"점수 분포:\")\n",
        "for score in [5, 4, 3, 2, 1]:\n",
        "    count = (concat_select['hangang_lifestyle_grade'] == score).sum()\n",
        "    print(f\"  {score}점: {count:,}개\")"
      ]
    },
    {
      "cell_type": "code",
      "execution_count": 55,
      "metadata": {},
      "outputs": [
        {
          "name": "stdout",
          "output_type": "stream",
          "text": [
            "프리미엄 한강 입지 여부 생성 완료\n",
            "프리미엄 한강 입지 아파트: 109,439개 (10.53%)\n",
            "일반 입지 아파트: 929,407개 (89.47%)\n"
          ]
        }
      ],
      "source": [
        "# 3. 프리미엄 한강 입지 여부 (0/1)\n",
        "concat_select['is_hangang_premium'] = (concat_select['아파트명'].map(location_score_dict) >= 85).astype(int).fillna(0)\n",
        "\n",
        "print(\"프리미엄 한강 입지 여부 생성 완료\")\n",
        "premium_count = concat_select['is_hangang_premium'].sum()\n",
        "total_count = len(concat_select)\n",
        "print(f\"프리미엄 한강 입지 아파트: {premium_count:,}개 ({premium_count/total_count*100:.2f}%)\")\n",
        "print(f\"일반 입지 아파트: {total_count-premium_count:,}개 ({(total_count-premium_count)/total_count*100:.2f}%)\")"
      ]
    },
    {
      "cell_type": "code",
      "execution_count": 56,
      "metadata": {},
      "outputs": [
        {
          "name": "stdout",
          "output_type": "stream",
          "text": [
            "=== hangang_location_score ===\n",
            "count    1.038846e+06\n",
            "mean     1.287663e+01\n",
            "std      3.105531e+01\n",
            "min      0.000000e+00\n",
            "25%      0.000000e+00\n",
            "50%      0.000000e+00\n",
            "75%      0.000000e+00\n",
            "max      1.000000e+02\n",
            "Name: hangang_location_score, dtype: float64\n",
            "0점인 개수: 885,553개\n",
            "\n",
            "=== hangang_lifestyle_grade ===\n",
            "1.0    885553\n",
            "2.0     43854\n",
            "3.0     47590\n",
            "4.0     51598\n",
            "5.0     10251\n",
            "Name: hangang_lifestyle_grade, dtype: int64\n",
            "\n",
            "=== is_hangang_premium ===\n",
            "0    929407\n",
            "1    109439\n",
            "Name: is_hangang_premium, dtype: int64\n"
          ]
        }
      ],
      "source": [
        "# 1. hangang_location_score 확인\n",
        "print(\"=== hangang_location_score ===\")\n",
        "print(concat_select['hangang_location_score'].describe())\n",
        "print(f\"0점인 개수: {(concat_select['hangang_location_score'] == 0).sum():,}개\")\n",
        "\n",
        "# 2. hangang_lifestyle_grade 확인  \n",
        "print(\"\\n=== hangang_lifestyle_grade ===\")\n",
        "print(concat_select['hangang_lifestyle_grade'].value_counts().sort_index())\n",
        "\n",
        "# 3. is_hangang_premium 확인\n",
        "print(\"\\n=== is_hangang_premium ===\")\n",
        "print(concat_select['is_hangang_premium'].value_counts())"
      ]
    },
    {
      "cell_type": "code",
      "execution_count": 57,
      "metadata": {},
      "outputs": [
        {
          "name": "stdout",
          "output_type": "stream",
          "text": [
            "매칭된 아파트: 153,293개 / 전체: 1,038,846개\n",
            "매칭률: 14.8%\n"
          ]
        }
      ],
      "source": [
        "# 매칭된 아파트 개수 확인\n",
        "matched_count = (concat_select['hangang_location_score'] > 0).sum()\n",
        "total_count = len(concat_select)\n",
        "print(f\"매칭된 아파트: {matched_count:,}개 / 전체: {total_count:,}개\")\n",
        "print(f\"매칭률: {matched_count/total_count*100:.1f}%\")"
      ]
    },
    {
      "cell_type": "code",
      "execution_count": 58,
      "metadata": {
        "colab": {
          "base_uri": "https://localhost:8080/",
          "height": 179
        },
        "id": "PWuNlTfN_FMs",
        "outputId": "971536d0-d21a-4c07-809a-27260680439e"
      },
      "outputs": [
        {
          "data": {
            "text/html": [
              "<div>\n",
              "<style scoped>\n",
              "    .dataframe tbody tr th:only-of-type {\n",
              "        vertical-align: middle;\n",
              "    }\n",
              "\n",
              "    .dataframe tbody tr th {\n",
              "        vertical-align: top;\n",
              "    }\n",
              "\n",
              "    .dataframe thead th {\n",
              "        text-align: right;\n",
              "    }\n",
              "</style>\n",
              "<table border=\"1\" class=\"dataframe\">\n",
              "  <thead>\n",
              "    <tr style=\"text-align: right;\">\n",
              "      <th></th>\n",
              "      <th>번지</th>\n",
              "      <th>본번</th>\n",
              "      <th>부번</th>\n",
              "      <th>아파트명</th>\n",
              "      <th>전용면적</th>\n",
              "      <th>계약일</th>\n",
              "      <th>층</th>\n",
              "      <th>건축년도</th>\n",
              "      <th>도로명</th>\n",
              "      <th>등기신청일자</th>\n",
              "      <th>...</th>\n",
              "      <th>nearest_high_score</th>\n",
              "      <th>nearest_middle_grade</th>\n",
              "      <th>nearest_high_grade</th>\n",
              "      <th>schools_within_1km</th>\n",
              "      <th>avg_school_score_1km</th>\n",
              "      <th>nearest_middle_진학률</th>\n",
              "      <th>nearest_high_진학률</th>\n",
              "      <th>hangang_location_score</th>\n",
              "      <th>hangang_lifestyle_grade</th>\n",
              "      <th>is_hangang_premium</th>\n",
              "    </tr>\n",
              "  </thead>\n",
              "  <tbody>\n",
              "    <tr>\n",
              "      <th>0</th>\n",
              "      <td>658-1</td>\n",
              "      <td>658.0</td>\n",
              "      <td>1.0</td>\n",
              "      <td>개포6차우성</td>\n",
              "      <td>79.97</td>\n",
              "      <td>8</td>\n",
              "      <td>3</td>\n",
              "      <td>1987</td>\n",
              "      <td>언주로 3</td>\n",
              "      <td></td>\n",
              "      <td>...</td>\n",
              "      <td>82.7</td>\n",
              "      <td>5.0</td>\n",
              "      <td>3.0</td>\n",
              "      <td>1.0</td>\n",
              "      <td>82.7</td>\n",
              "      <td>3.7</td>\n",
              "      <td>43.5</td>\n",
              "      <td>0.0</td>\n",
              "      <td>1.0</td>\n",
              "      <td>0</td>\n",
              "    </tr>\n",
              "  </tbody>\n",
              "</table>\n",
              "<p>1 rows × 69 columns</p>\n",
              "</div>"
            ],
            "text/plain": [
              "      번지     본번   부번    아파트명   전용면적  계약일  층  건축년도    도로명 등기신청일자  ...  \\\n",
              "0  658-1  658.0  1.0  개포6차우성  79.97    8  3  1987  언주로 3         ...   \n",
              "\n",
              "  nearest_high_score nearest_middle_grade nearest_high_grade  \\\n",
              "0               82.7                  5.0                3.0   \n",
              "\n",
              "  schools_within_1km avg_school_score_1km nearest_middle_진학률 nearest_high_진학률  \\\n",
              "0                1.0                 82.7                3.7             43.5   \n",
              "\n",
              "  hangang_location_score hangang_lifestyle_grade  is_hangang_premium  \n",
              "0                    0.0                     1.0                   0  \n",
              "\n",
              "[1 rows x 69 columns]"
            ]
          },
          "execution_count": 58,
          "metadata": {},
          "output_type": "execute_result"
        }
      ],
      "source": [
        "concat_select.head(1)       # 최종 데이터셋은 아래와 같습니다."
      ]
    },
    {
      "cell_type": "code",
      "execution_count": 59,
      "metadata": {},
      "outputs": [
        {
          "data": {
            "text/plain": [
              "Index(['번지', '본번', '부번', '아파트명', '전용면적', '계약일', '층', '건축년도', '도로명', '등기신청일자',\n",
              "       '거래유형', '중개사소재지', 'k-단지분류(아파트,주상복합등등)', 'k-전화번호', 'k-팩스번호',\n",
              "       'k-세대타입(분양형태)', 'k-관리방식', 'k-복도유형', 'k-난방방식', 'k-전체동수', 'k-전체세대수',\n",
              "       'k-건설사(시공사)', 'k-시행사', 'k-사용검사일-사용승인일', 'k-연면적', 'k-주거전용면적',\n",
              "       'k-관리비부과면적', 'k-전용면적별세대현황(60㎡이하)', 'k-전용면적별세대현황(60㎡~85㎡이하)',\n",
              "       'k-85㎡~135㎡이하', 'k-수정일자', '고용보험관리번호', '경비비관리형태', '세대전기계약방법', '청소비관리형태',\n",
              "       '건축면적', '주차대수', '기타/의무/임대/임의=1/2/3/4', '단지승인일', '사용허가여부', '관리비 업로드',\n",
              "       '좌표X', '좌표Y', '단지신청일', 'target', 'is_test', 'subway_min_distance',\n",
              "       'nearest_subway_line', '구', '동', '계약년', '계약월', '강남여부', '호선등급', '역세권',\n",
              "       '신축여부', 'nearest_middle_distance_m', 'nearest_high_distance_m',\n",
              "       'nearest_middle_score', 'nearest_high_score', 'nearest_middle_grade',\n",
              "       'nearest_high_grade', 'schools_within_1km', 'avg_school_score_1km',\n",
              "       'nearest_middle_진학률', 'nearest_high_진학률', 'hangang_location_score',\n",
              "       'hangang_lifestyle_grade', 'is_hangang_premium'],\n",
              "      dtype='object')"
            ]
          },
          "execution_count": 59,
          "metadata": {},
          "output_type": "execute_result"
        }
      ],
      "source": [
        "concat_select.columns"
      ]
    },
    {
      "cell_type": "code",
      "execution_count": 60,
      "metadata": {},
      "outputs": [
        {
          "name": "stdout",
          "output_type": "stream",
          "text": [
            "🔍 새로 추가한 Feature들만 선별적으로 전처리 시작...\n",
            "💡 기존 feature들은 이미 전처리가 완료된 상태입니다.\n",
            "\n",
            "=== 새로 추가된 Feature 존재 여부 확인 ===\n",
            "✅ 호선등급: 존재\n",
            "✅ 역세권: 존재\n",
            "✅ nearest_middle_distance_m: 존재\n",
            "✅ nearest_high_distance_m: 존재\n",
            "✅ nearest_middle_score: 존재\n",
            "✅ nearest_high_score: 존재\n",
            "✅ nearest_middle_grade: 존재\n",
            "✅ nearest_high_grade: 존재\n",
            "✅ schools_within_1km: 존재\n",
            "✅ avg_school_score_1km: 존재\n",
            "✅ nearest_middle_진학률: 존재\n",
            "✅ nearest_high_진학률: 존재\n",
            "✅ hangang_location_score: 존재\n",
            "✅ hangang_lifestyle_grade: 존재\n",
            "✅ is_hangang_premium: 존재\n",
            "\n",
            "✅ 전처리 대상 Feature: 15개\n",
            "\n",
            "=== 새로 추가된 Feature들의 결측치 처리 ===\n",
            "새로 추가된 Feature 중 결측치가 있는 것들:\n",
            "  - avg_school_score_1km: 20,423개\n",
            "\n",
            "결측치 처리 중...\n",
            "  ✅ avg_school_score_1km: median(78.15)으로 대체\n",
            "\n",
            "=== 새로 추가된 Feature들의 선별적 스케일링 ===\n",
            "스케일링 대상: ['nearest_middle_distance_m', 'nearest_high_distance_m', 'nearest_middle_score', 'nearest_high_score', 'avg_school_score_1km', 'hangang_location_score', 'nearest_middle_진학률', 'nearest_high_진학률']\n",
            "스케일링 제외: ['호선등급', '역세권', 'nearest_middle_grade', 'nearest_high_grade', 'hangang_lifestyle_grade', 'is_hangang_premium']\n",
            "\n",
            "스케일링 적용 중...\n",
            "  ✅ nearest_middle_distance_m → nearest_middle_distance_m_scaled 생성\n",
            "  ✅ nearest_high_distance_m → nearest_high_distance_m_scaled 생성\n",
            "  ✅ nearest_middle_score → nearest_middle_score_scaled 생성\n",
            "  ✅ nearest_high_score → nearest_high_score_scaled 생성\n",
            "  ✅ avg_school_score_1km → avg_school_score_1km_scaled 생성\n",
            "  ✅ hangang_location_score → hangang_location_score_scaled 생성\n",
            "  ✅ nearest_middle_진학률 → nearest_middle_진학률_scaled 생성\n",
            "  ✅ nearest_high_진학률 → nearest_high_진학률_scaled 생성\n",
            "✅ 8개 feature 스케일링 완료!\n",
            "\n",
            "=== 새로 추가된 Feature들 전처리 완료 요약 ===\n",
            "  - 호선등급: 원본 사용 (등급/이진)\n",
            "  - 역세권: 원본 사용 (등급/이진)\n",
            "  - nearest_middle_distance_m: 스케일링됨 → nearest_middle_distance_m_scaled\n",
            "  - nearest_high_distance_m: 스케일링됨 → nearest_high_distance_m_scaled\n",
            "  - nearest_middle_score: 스케일링됨 → nearest_middle_score_scaled\n",
            "  - nearest_high_score: 스케일링됨 → nearest_high_score_scaled\n",
            "  - nearest_middle_grade: 원본 사용 (등급/이진)\n",
            "  - nearest_high_grade: 원본 사용 (등급/이진)\n",
            "  - schools_within_1km: 원본 사용 (등급/이진)\n",
            "  - avg_school_score_1km: 스케일링됨 → avg_school_score_1km_scaled\n",
            "  - nearest_middle_진학률: 스케일링됨 → nearest_middle_진학률_scaled\n",
            "  - nearest_high_진학률: 스케일링됨 → nearest_high_진학률_scaled\n",
            "  - hangang_location_score: 스케일링됨 → hangang_location_score_scaled\n",
            "  - hangang_lifestyle_grade: 원본 사용 (등급/이진)\n",
            "  - is_hangang_premium: 원본 사용 (등급/이진)\n",
            "\n",
            "🎉 새로 추가된 Feature 전처리 완료!\n",
            "  - 총 새로운 Feature: 15개\n",
            "  - 스케일링 적용: 8개\n",
            "  - 원본 사용: 7개\n",
            "\n",
            "💡 모델링 시 사용할 새로운 Feature들:\n",
            "   1. 호선등급\n",
            "   2. 역세권\n",
            "   3. nearest_middle_distance_m_scaled\n",
            "   4. nearest_high_distance_m_scaled\n",
            "   5. nearest_middle_score_scaled\n",
            "   6. nearest_high_score_scaled\n",
            "   7. nearest_middle_grade\n",
            "   8. nearest_high_grade\n",
            "   9. schools_within_1km\n",
            "  10. avg_school_score_1km_scaled\n",
            "  11. nearest_middle_진학률_scaled\n",
            "  12. nearest_high_진학률_scaled\n",
            "  13. hangang_location_score_scaled\n",
            "  14. hangang_lifestyle_grade\n",
            "  15. is_hangang_premium\n",
            "\n",
            "==================================================\n",
            "✅ 새로 추가된 Feature들만 전처리 완료!\n",
            "💡 기존 Feature들은 기존 전처리 상태 유지\n",
            "🚀 이제 모델 학습을 진행하세요!\n",
            "==================================================\n"
          ]
        }
      ],
      "source": [
        "# ===== 새로 추가된 Feature들만 선별 전처리 (수정버전) =====\n",
        "print(\"🔍 새로 추가한 Feature들만 선별적으로 전처리 시작...\")\n",
        "print(\"💡 기존 feature들은 이미 전처리가 완료된 상태입니다.\")\n",
        "\n",
        "# 1. 새로 추가된 Feature들만 정의 (기존 전처리 완료된 feature 제외)\n",
        "newly_added_features = [\n",
        "    # 지하철 관련 (새로 생성)\n",
        "    '호선등급', '역세권', \n",
        "\n",
        "    \n",
        "    # 학업성과 관련 (새로 생성)\n",
        "    'nearest_middle_distance_m', 'nearest_high_distance_m',\n",
        "    'nearest_middle_score', 'nearest_high_score', \n",
        "    'nearest_middle_grade', 'nearest_high_grade',\n",
        "    'schools_within_1km', 'avg_school_score_1km',\n",
        "    'nearest_middle_진학률', 'nearest_high_진학률',\n",
        "    \n",
        "    # 한강 생활권 관련 (새로 생성)\n",
        "    'hangang_location_score', 'hangang_lifestyle_grade', 'is_hangang_premium'\n",
        "]\n",
        "\n",
        "print(f\"\\n=== 새로 추가된 Feature 존재 여부 확인 ===\")\n",
        "existing_new_features = []\n",
        "\n",
        "for feature in newly_added_features:\n",
        "    if feature in concat_select.columns:  # X_train 대신 concat_select 사용\n",
        "        print(f\"✅ {feature}: 존재\")\n",
        "        existing_new_features.append(feature)\n",
        "    else:\n",
        "        print(f\"❌ {feature}: 없음\")\n",
        "\n",
        "print(f\"\\n✅ 전처리 대상 Feature: {len(existing_new_features)}개\")\n",
        "\n",
        "# 2. 새로 추가된 Feature들의 결측치만 처리\n",
        "print(f\"\\n=== 새로 추가된 Feature들의 결측치 처리 ===\")\n",
        "\n",
        "features_with_nulls = []\n",
        "for feature in existing_new_features:\n",
        "    null_count = concat_select[feature].isnull().sum()  # concat_select 사용\n",
        "    if null_count > 0:\n",
        "        features_with_nulls.append((feature, null_count))\n",
        "\n",
        "if features_with_nulls:\n",
        "    print(\"새로 추가된 Feature 중 결측치가 있는 것들:\")\n",
        "    for feature, count in features_with_nulls:\n",
        "        print(f\"  - {feature}: {count:,}개\")\n",
        "    \n",
        "    print(\"\\n결측치 처리 중...\")\n",
        "    for feature, _ in features_with_nulls:\n",
        "        if pd.api.types.is_numeric_dtype(concat_select[feature]):\n",
        "            median_val = concat_select[feature].median()\n",
        "            concat_select[feature] = concat_select[feature].fillna(median_val)\n",
        "            print(f\"  ✅ {feature}: median({median_val:.2f})으로 대체\")\n",
        "else:\n",
        "    print(\"✅ 새로 추가된 Feature들에 결측치가 없습니다!\")\n",
        "\n",
        "# 3. 스케일링이 필요한 새로운 Feature들만 처리\n",
        "print(f\"\\n=== 새로 추가된 Feature들의 선별적 스케일링 ===\")\n",
        "\n",
        "from sklearn.preprocessing import StandardScaler\n",
        "\n",
        "# 먼저 train/test 분할\n",
        "dt_train_temp = concat_select.query('is_test==0').copy()\n",
        "dt_test_temp = concat_select.query('is_test==1').copy()\n",
        "\n",
        "# 스케일링이 필요한 feature들 (거리, 점수, 비율)\n",
        "features_need_scaling = [\n",
        "    'nearest_middle_distance_m', 'nearest_high_distance_m',  # 거리 (미터 단위)\n",
        "    'nearest_middle_score', 'nearest_high_score', 'avg_school_score_1km',  # 점수 (0-100)\n",
        "    'hangang_location_score',  # 한강 점수 (0-100)\n",
        "    'nearest_middle_진학률', 'nearest_high_진학률'  # 진학률 (0-100%)\n",
        "]\n",
        "\n",
        "# 스케일링 제외 feature들 (이미 적절한 범위의 등급/이진)\n",
        "features_no_scaling = [\n",
        "    '호선등급',  # 1-5 등급\n",
        "    '역세권',  # 1-5 등급  \n",
        "    '신축여부',  # 0/1 이진\n",
        "    'nearest_middle_grade', 'nearest_high_grade',  # 1-5 등급\n",
        "    'hangang_lifestyle_grade',  # 1-5 등급\n",
        "    'is_hangang_premium'  # 0/1 이진\n",
        "]\n",
        "\n",
        "# 실제 존재하는 feature들만 필터링\n",
        "scale_targets = [f for f in features_need_scaling if f in existing_new_features]\n",
        "no_scale_targets = [f for f in features_no_scaling if f in existing_new_features]\n",
        "\n",
        "print(f\"스케일링 대상: {scale_targets}\")\n",
        "print(f\"스케일링 제외: {no_scale_targets}\")\n",
        "\n",
        "# StandardScaler 적용\n",
        "scalers = {}\n",
        "if scale_targets:\n",
        "    print(f\"\\n스케일링 적용 중...\")\n",
        "    for feature in scale_targets:\n",
        "        scaler = StandardScaler()\n",
        "        \n",
        "        # Train 데이터로 fit\n",
        "        scaler.fit(dt_train_temp[[feature]])\n",
        "        \n",
        "        # Train과 Test에 각각 적용\n",
        "        dt_train_temp[feature + '_scaled'] = scaler.transform(dt_train_temp[[feature]])\n",
        "        dt_test_temp[feature + '_scaled'] = scaler.transform(dt_test_temp[[feature]])\n",
        "        \n",
        "        scalers[feature] = scaler\n",
        "        print(f\"  ✅ {feature} → {feature}_scaled 생성\")\n",
        "        \n",
        "    print(f\"✅ {len(scalers)}개 feature 스케일링 완료!\")\n",
        "    \n",
        "    # concat_select에 다시 합치기\n",
        "    concat_select = pd.concat([dt_train_temp, dt_test_temp], axis=0, ignore_index=True)\n",
        "else:\n",
        "    print(\"✅ 스케일링이 필요한 새로운 feature가 없습니다.\")\n",
        "\n",
        "# 4. 최종 정리\n",
        "print(f\"\\n=== 새로 추가된 Feature들 전처리 완료 요약 ===\")\n",
        "\n",
        "final_new_features = []\n",
        "for feature in existing_new_features:\n",
        "    if feature + '_scaled' in concat_select.columns:\n",
        "        final_new_features.append(feature + '_scaled')\n",
        "        print(f\"  - {feature}: 스케일링됨 → {feature}_scaled\")\n",
        "    else:\n",
        "        final_new_features.append(feature)\n",
        "        print(f\"  - {feature}: 원본 사용 (등급/이진)\")\n",
        "\n",
        "print(f\"\\n🎉 새로 추가된 Feature 전처리 완료!\")\n",
        "print(f\"  - 총 새로운 Feature: {len(existing_new_features)}개\")\n",
        "print(f\"  - 스케일링 적용: {len(scalers)}개\")\n",
        "print(f\"  - 원본 사용: {len(existing_new_features) - len(scalers)}개\")\n",
        "\n",
        "print(f\"\\n💡 모델링 시 사용할 새로운 Feature들:\")\n",
        "for i, feature in enumerate(final_new_features, 1):\n",
        "    print(f\"  {i:2d}. {feature}\")\n",
        "\n",
        "print(\"\\n\" + \"=\"*50)\n",
        "print(\"✅ 새로 추가된 Feature들만 전처리 완료!\")\n",
        "print(\"💡 기존 Feature들은 기존 전처리 상태 유지\")\n",
        "print(\"🚀 이제 모델 학습을 진행하세요!\")\n",
        "print(\"=\"*50)"
      ]
    },
    {
      "cell_type": "code",
      "execution_count": 61,
      "metadata": {},
      "outputs": [
        {
          "name": "stdout",
          "output_type": "stream",
          "text": [
            "=== 컬럼 Drop 전 상태 ===\n",
            "전체 컬럼 수: 77\n",
            "데이터 크기: (1038846, 77)\n",
            "\n",
            "=== Drop 할 컬럼들 (32개) ===\n",
            "- 좌표X\n",
            "- 좌표Y\n",
            "- subway_min_distance\n",
            "- nearest_subway_line\n",
            "- 번지\n",
            "- 본번\n",
            "- 부번\n",
            "- k-전화번호\n",
            "- k-팩스번호\n",
            "- 도로명\n",
            "- k-관리방식\n",
            "- k-복도유형\n",
            "- 경비비관리형태\n",
            "- 청소비관리형태\n",
            "- 세대전기계약방법\n",
            "- 관리비 업로드\n",
            "- k-건설사(시공사)\n",
            "- k-시행사\n",
            "- k-난방방식\n",
            "- 단지신청일\n",
            "- 단지승인일\n",
            "- k-사용검사일-사용승인일\n",
            "- k-수정일자\n",
            "- nearest_high_distance_m\n",
            "- nearest_middle_score\n",
            "- nearest_high_score\n",
            "- nearest_middle_grade\n",
            "- nearest_high_grade\n",
            "- schools_within_1km\n",
            "- avg_school_score_1km\n",
            "- nearest_middle_진학률\n",
            "- nearest_high_진학률\n",
            "\n",
            "=== 컬럼 Drop 후 상태 ===\n",
            "전체 컬럼 수: 45\n",
            "데이터 크기: (1038846, 45)\n",
            "제거된 컬럼 수: 32개\n"
          ]
        }
      ],
      "source": [
        "# 불필요한 컬럼들 제거\n",
        "print(\"=== 컬럼 Drop 전 상태 ===\")\n",
        "print(f\"전체 컬럼 수: {len(concat_select.columns)}\")\n",
        "print(f\"데이터 크기: {concat_select.shape}\")\n",
        "\n",
        "# Drop 할 컬럼들 정의\n",
        "columns_to_drop = [\n",
        "    # 좌표 관련\n",
        "    '좌표X', '좌표Y',\n",
        "    \n",
        "    # 지하철 관련 원본\n",
        "    'subway_min_distance', 'nearest_subway_line',\n",
        "    \n",
        "    # 아파트 식별 정보\n",
        "    '번지', '본번', '부번',\n",
        "    \n",
        "    # 연락처/위치 정보\n",
        "    'k-전화번호', 'k-팩스번호', '도로명',\n",
        "    \n",
        "    # 관리/운영 관련\n",
        "    'k-관리방식', 'k-복도유형', '경비비관리형태', \n",
        "    '청소비관리형태', '세대전기계약방법', '관리비 업로드', 'k-건설사(시공사)', 'k-시행사', 'k-난방방식', 'k-관리비부과면적'\n",
        "    \n",
        "    # 승인/허가 관련\n",
        "    '사용허가여부', '단지신청일', '단지승인일', \n",
        "    'k-사용검사일-사용승인일',\n",
        "    \n",
        "    # 기타\n",
        "    'k-수정일자', '고용보험관리번호'\n",
        "\n",
        "    'nearest_middle_distance_m', 'nearest_high_distance_m',\n",
        "       'nearest_middle_score', 'nearest_high_score', 'nearest_middle_grade',\n",
        "       'nearest_high_grade', 'schools_within_1km', 'avg_school_score_1km',\n",
        "       'nearest_middle_진학률', 'nearest_high_진학률', \n",
        "]\n",
        "\n",
        "# 실제 존재하는 컬럼만 필터링\n",
        "existing_columns_to_drop = [col for col in columns_to_drop if col in concat_select.columns]\n",
        "\n",
        "print(f\"\\n=== Drop 할 컬럼들 ({len(existing_columns_to_drop)}개) ===\")\n",
        "for col in existing_columns_to_drop:\n",
        "    print(f\"- {col}\")\n",
        "\n",
        "# 컬럼 Drop 실행\n",
        "concat_select = concat_select.drop(columns=existing_columns_to_drop)\n",
        "\n",
        "print(f\"\\n=== 컬럼 Drop 후 상태 ===\")\n",
        "print(f\"전체 컬럼 수: {len(concat_select.columns)}\")\n",
        "print(f\"데이터 크기: {concat_select.shape}\")\n",
        "print(f\"제거된 컬럼 수: {len(existing_columns_to_drop)}개\")\n"
      ]
    },
    {
      "cell_type": "code",
      "execution_count": 62,
      "metadata": {},
      "outputs": [
        {
          "name": "stdout",
          "output_type": "stream",
          "text": [
            "=== 최종 컬럼 목록 ===\n",
            "총 45개 컬럼:\n",
            " 1. 아파트명\n",
            " 2. 전용면적\n",
            " 3. 계약일\n",
            " 4. 층\n",
            " 5. 건축년도\n",
            " 6. 등기신청일자\n",
            " 7. 거래유형\n",
            " 8. 중개사소재지\n",
            " 9. k-단지분류(아파트,주상복합등등)\n",
            "10. k-세대타입(분양형태)\n",
            "11. k-전체동수\n",
            "12. k-전체세대수\n",
            "13. k-연면적\n",
            "14. k-주거전용면적\n",
            "15. k-관리비부과면적\n",
            "16. k-전용면적별세대현황(60㎡이하)\n",
            "17. k-전용면적별세대현황(60㎡~85㎡이하)\n",
            "18. k-85㎡~135㎡이하\n",
            "19. 고용보험관리번호\n",
            "20. 건축면적\n",
            "21. 주차대수\n",
            "22. 기타/의무/임대/임의=1/2/3/4\n",
            "23. 사용허가여부\n",
            "24. target\n",
            "25. is_test\n",
            "26. 구\n",
            "27. 동\n",
            "28. 계약년\n",
            "29. 계약월\n",
            "30. 강남여부\n",
            "31. 호선등급\n",
            "32. 역세권\n",
            "33. 신축여부\n",
            "34. nearest_middle_distance_m\n",
            "35. hangang_location_score\n",
            "36. hangang_lifestyle_grade\n",
            "37. is_hangang_premium\n",
            "38. nearest_middle_distance_m_scaled\n",
            "39. nearest_high_distance_m_scaled\n",
            "40. nearest_middle_score_scaled\n",
            "41. nearest_high_score_scaled\n",
            "42. avg_school_score_1km_scaled\n",
            "43. hangang_location_score_scaled\n",
            "44. nearest_middle_진학률_scaled\n",
            "45. nearest_high_진학률_scaled\n"
          ]
        }
      ],
      "source": [
        "# 최종 컬럼 목록 확인\n",
        "print(\"=== 최종 컬럼 목록 ===\")\n",
        "print(f\"총 {len(concat_select.columns)}개 컬럼:\")\n",
        "for i, col in enumerate(concat_select.columns, 1):\n",
        "    print(f\"{i:2d}. {col}\")\n"
      ]
    },
    {
      "cell_type": "code",
      "execution_count": 63,
      "metadata": {
        "colab": {
          "base_uri": "https://localhost:8080/"
        },
        "id": "c-VGjus86phR",
        "outputId": "a25af50e-7f13-4402-81e0-46bf7d94ad12"
      },
      "outputs": [
        {
          "data": {
            "text/plain": [
              "(1038846, 45)"
            ]
          },
          "execution_count": 63,
          "metadata": {},
          "output_type": "execute_result"
        }
      ],
      "source": [
        "concat_select.shape"
      ]
    },
    {
      "cell_type": "code",
      "execution_count": 64,
      "metadata": {},
      "outputs": [
        {
          "data": {
            "text/plain": [
              "Index(['아파트명', '전용면적', '계약일', '층', '건축년도', '등기신청일자', '거래유형', '중개사소재지',\n",
              "       'k-단지분류(아파트,주상복합등등)', 'k-세대타입(분양형태)', 'k-전체동수', 'k-전체세대수', 'k-연면적',\n",
              "       'k-주거전용면적', 'k-관리비부과면적', 'k-전용면적별세대현황(60㎡이하)', 'k-전용면적별세대현황(60㎡~85㎡이하)',\n",
              "       'k-85㎡~135㎡이하', '고용보험관리번호', '건축면적', '주차대수', '기타/의무/임대/임의=1/2/3/4',\n",
              "       '사용허가여부', 'target', 'is_test', '구', '동', '계약년', '계약월', '강남여부', '호선등급',\n",
              "       '역세권', '신축여부', 'nearest_middle_distance_m', 'hangang_location_score',\n",
              "       'hangang_lifestyle_grade', 'is_hangang_premium',\n",
              "       'nearest_middle_distance_m_scaled', 'nearest_high_distance_m_scaled',\n",
              "       'nearest_middle_score_scaled', 'nearest_high_score_scaled',\n",
              "       'avg_school_score_1km_scaled', 'hangang_location_score_scaled',\n",
              "       'nearest_middle_진학률_scaled', 'nearest_high_진학률_scaled'],\n",
              "      dtype='object')"
            ]
          },
          "execution_count": 64,
          "metadata": {},
          "output_type": "execute_result"
        }
      ],
      "source": [
        "concat_select.columns"
      ]
    },
    {
      "cell_type": "code",
      "execution_count": 65,
      "metadata": {},
      "outputs": [
        {
          "data": {
            "text/html": [
              "<div>\n",
              "<style scoped>\n",
              "    .dataframe tbody tr th:only-of-type {\n",
              "        vertical-align: middle;\n",
              "    }\n",
              "\n",
              "    .dataframe tbody tr th {\n",
              "        vertical-align: top;\n",
              "    }\n",
              "\n",
              "    .dataframe thead th {\n",
              "        text-align: right;\n",
              "    }\n",
              "</style>\n",
              "<table border=\"1\" class=\"dataframe\">\n",
              "  <thead>\n",
              "    <tr style=\"text-align: right;\">\n",
              "      <th></th>\n",
              "      <th>아파트명</th>\n",
              "      <th>전용면적</th>\n",
              "      <th>계약일</th>\n",
              "      <th>층</th>\n",
              "      <th>건축년도</th>\n",
              "      <th>등기신청일자</th>\n",
              "      <th>거래유형</th>\n",
              "      <th>중개사소재지</th>\n",
              "      <th>k-단지분류(아파트,주상복합등등)</th>\n",
              "      <th>k-세대타입(분양형태)</th>\n",
              "      <th>...</th>\n",
              "      <th>hangang_lifestyle_grade</th>\n",
              "      <th>is_hangang_premium</th>\n",
              "      <th>nearest_middle_distance_m_scaled</th>\n",
              "      <th>nearest_high_distance_m_scaled</th>\n",
              "      <th>nearest_middle_score_scaled</th>\n",
              "      <th>nearest_high_score_scaled</th>\n",
              "      <th>avg_school_score_1km_scaled</th>\n",
              "      <th>hangang_location_score_scaled</th>\n",
              "      <th>nearest_middle_진학률_scaled</th>\n",
              "      <th>nearest_high_진학률_scaled</th>\n",
              "    </tr>\n",
              "  </thead>\n",
              "  <tbody>\n",
              "    <tr>\n",
              "      <th>0</th>\n",
              "      <td>개포6차우성</td>\n",
              "      <td>79.97</td>\n",
              "      <td>8</td>\n",
              "      <td>3</td>\n",
              "      <td>1987</td>\n",
              "      <td></td>\n",
              "      <td>-</td>\n",
              "      <td>-</td>\n",
              "      <td>아파트</td>\n",
              "      <td>분양</td>\n",
              "      <td>...</td>\n",
              "      <td>1.0</td>\n",
              "      <td>0</td>\n",
              "      <td>2.4218</td>\n",
              "      <td>0.543494</td>\n",
              "      <td>1.722113</td>\n",
              "      <td>0.573066</td>\n",
              "      <td>0.592493</td>\n",
              "      <td>-0.414636</td>\n",
              "      <td>0.71326</td>\n",
              "      <td>-0.561666</td>\n",
              "    </tr>\n",
              "  </tbody>\n",
              "</table>\n",
              "<p>1 rows × 45 columns</p>\n",
              "</div>"
            ],
            "text/plain": [
              "     아파트명   전용면적  계약일  층  건축년도 등기신청일자 거래유형 중개사소재지 k-단지분류(아파트,주상복합등등)  \\\n",
              "0  개포6차우성  79.97    8  3  1987           -      -                아파트   \n",
              "\n",
              "  k-세대타입(분양형태)  ...  hangang_lifestyle_grade  is_hangang_premium  \\\n",
              "0           분양  ...                      1.0                   0   \n",
              "\n",
              "   nearest_middle_distance_m_scaled  nearest_high_distance_m_scaled  \\\n",
              "0                            2.4218                        0.543494   \n",
              "\n",
              "   nearest_middle_score_scaled  nearest_high_score_scaled  \\\n",
              "0                     1.722113                   0.573066   \n",
              "\n",
              "   avg_school_score_1km_scaled  hangang_location_score_scaled  \\\n",
              "0                     0.592493                      -0.414636   \n",
              "\n",
              "  nearest_middle_진학률_scaled  nearest_high_진학률_scaled  \n",
              "0                   0.71326                -0.561666  \n",
              "\n",
              "[1 rows x 45 columns]"
            ]
          },
          "execution_count": 65,
          "metadata": {},
          "output_type": "execute_result"
        }
      ],
      "source": [
        "concat_select.head(1)  "
      ]
    },
    {
      "cell_type": "markdown",
      "metadata": {
        "id": "XRIUh7-OBnaj"
      },
      "source": [
        "- 위 두 사항 외에도 외부 공공 데이터를 이용하거나, EDA를 통해 더 많은 변수를 제작할 수 있습니다."
      ]
    },
    {
      "cell_type": "markdown",
      "metadata": {
        "id": "uXfXRevr3dfe"
      },
      "source": [
        "## 5. Model Training"
      ]
    },
    {
      "cell_type": "markdown",
      "metadata": {
        "id": "ytuwazY43gwQ"
      },
      "source": [
        "이제 생성된 고품질 Feature들을 활용하여 다양한 머신러닝 모델로 학습을 진행합니다.\n",
        "\n",
        "### 🎯 **사용할 모델들:**\n",
        "1. **LightGBM**: 빠른 학습속도와 높은 성능, 대용량 데이터에 최적화\n",
        "2. **RandomForest**: 안정적이고 해석 가능한 앙상블 모델\n",
        "3. **XGBoost**: 경쟁력 있는 성능과 다양한 하이퍼파라미터\n",
        "4. **앙상블**: 여러 모델을 조합하여 최종 성능 향상\n",
        "\n",
        "### 📊 **현재 Feature 구성:**\n",
        "- **지하철 접근성**: 호선등급(5점 척도), 역세권(5점 척도)\n",
        "- **학업성과**: 10개 Feature (거리, 점수, 등급, 개수, 진학률)\n",
        "- **한강 생활권**: 3개 Feature (평가점수, 생활지수, 프리미엄 여부)\n",
        "- **기본 정보**: 전용면적, 층, 건축년도, 지역정보, 신축여부 등"
      ]
    },
    {
      "cell_type": "code",
      "execution_count": 66,
      "metadata": {
        "colab": {
          "base_uri": "https://localhost:8080/"
        },
        "id": "9E__0jEyyXIA",
        "outputId": "ffb3cc6e-d337-4ed6-96d1-ddf96dc97449"
      },
      "outputs": [
        {
          "name": "stdout",
          "output_type": "stream",
          "text": [
            "(1029574, 44) (9272, 44)\n"
          ]
        }
      ],
      "source": [
        "# 이제 다시 train과 test dataset을 분할해줍니다. 위에서 제작해 놓았던 is_test 칼럼을 이용합니다.\n",
        "dt_train = concat_select.query('is_test==0')\n",
        "dt_test = concat_select.query('is_test==1')\n",
        "\n",
        "# 이제 is_test 칼럼은 drop해줍니다.\n",
        "dt_train.drop(['is_test'], axis = 1, inplace=True)\n",
        "dt_test.drop(['is_test'], axis = 1, inplace=True)\n",
        "print(dt_train.shape, dt_test.shape)"
      ]
    },
    {
      "cell_type": "code",
      "execution_count": 67,
      "metadata": {
        "colab": {
          "base_uri": "https://localhost:8080/",
          "height": 179
        },
        "id": "KXv31dP_YMZp",
        "outputId": "a0da46f0-f565-4c57-bcd0-35b79205d5ed"
      },
      "outputs": [
        {
          "data": {
            "text/html": [
              "<div>\n",
              "<style scoped>\n",
              "    .dataframe tbody tr th:only-of-type {\n",
              "        vertical-align: middle;\n",
              "    }\n",
              "\n",
              "    .dataframe tbody tr th {\n",
              "        vertical-align: top;\n",
              "    }\n",
              "\n",
              "    .dataframe thead th {\n",
              "        text-align: right;\n",
              "    }\n",
              "</style>\n",
              "<table border=\"1\" class=\"dataframe\">\n",
              "  <thead>\n",
              "    <tr style=\"text-align: right;\">\n",
              "      <th></th>\n",
              "      <th>아파트명</th>\n",
              "      <th>전용면적</th>\n",
              "      <th>계약일</th>\n",
              "      <th>층</th>\n",
              "      <th>건축년도</th>\n",
              "      <th>등기신청일자</th>\n",
              "      <th>거래유형</th>\n",
              "      <th>중개사소재지</th>\n",
              "      <th>k-단지분류(아파트,주상복합등등)</th>\n",
              "      <th>k-세대타입(분양형태)</th>\n",
              "      <th>...</th>\n",
              "      <th>hangang_lifestyle_grade</th>\n",
              "      <th>is_hangang_premium</th>\n",
              "      <th>nearest_middle_distance_m_scaled</th>\n",
              "      <th>nearest_high_distance_m_scaled</th>\n",
              "      <th>nearest_middle_score_scaled</th>\n",
              "      <th>nearest_high_score_scaled</th>\n",
              "      <th>avg_school_score_1km_scaled</th>\n",
              "      <th>hangang_location_score_scaled</th>\n",
              "      <th>nearest_middle_진학률_scaled</th>\n",
              "      <th>nearest_high_진학률_scaled</th>\n",
              "    </tr>\n",
              "  </thead>\n",
              "  <tbody>\n",
              "    <tr>\n",
              "      <th>1029574</th>\n",
              "      <td>개포6차우성</td>\n",
              "      <td>79.97</td>\n",
              "      <td>26</td>\n",
              "      <td>5</td>\n",
              "      <td>1987</td>\n",
              "      <td></td>\n",
              "      <td>직거래</td>\n",
              "      <td>-</td>\n",
              "      <td>아파트</td>\n",
              "      <td>분양</td>\n",
              "      <td>...</td>\n",
              "      <td>1.0</td>\n",
              "      <td>0</td>\n",
              "      <td>2.4218</td>\n",
              "      <td>0.543494</td>\n",
              "      <td>1.722113</td>\n",
              "      <td>0.573066</td>\n",
              "      <td>0.592493</td>\n",
              "      <td>-0.414636</td>\n",
              "      <td>0.71326</td>\n",
              "      <td>-0.561666</td>\n",
              "    </tr>\n",
              "  </tbody>\n",
              "</table>\n",
              "<p>1 rows × 44 columns</p>\n",
              "</div>"
            ],
            "text/plain": [
              "           아파트명   전용면적  계약일  층  건축년도 등기신청일자 거래유형 중개사소재지 k-단지분류(아파트,주상복합등등)  \\\n",
              "1029574  개포6차우성  79.97   26  5  1987         직거래      -                아파트   \n",
              "\n",
              "        k-세대타입(분양형태)  ...  hangang_lifestyle_grade  is_hangang_premium  \\\n",
              "1029574           분양  ...                      1.0                   0   \n",
              "\n",
              "         nearest_middle_distance_m_scaled  nearest_high_distance_m_scaled  \\\n",
              "1029574                            2.4218                        0.543494   \n",
              "\n",
              "         nearest_middle_score_scaled  nearest_high_score_scaled  \\\n",
              "1029574                     1.722113                   0.573066   \n",
              "\n",
              "         avg_school_score_1km_scaled  hangang_location_score_scaled  \\\n",
              "1029574                     0.592493                      -0.414636   \n",
              "\n",
              "        nearest_middle_진학률_scaled  nearest_high_진학률_scaled  \n",
              "1029574                   0.71326                -0.561666  \n",
              "\n",
              "[1 rows x 44 columns]"
            ]
          },
          "execution_count": 67,
          "metadata": {},
          "output_type": "execute_result"
        }
      ],
      "source": [
        "dt_test.head(1)"
      ]
    },
    {
      "cell_type": "code",
      "execution_count": 68,
      "metadata": {
        "id": "CpRwDCH7UB_p"
      },
      "outputs": [],
      "source": [
        "# dt_test의 target은 일단 0으로 임의로 채워주도록 하겠습니다.\n",
        "dt_test['target'] = 0"
      ]
    },
    {
      "cell_type": "markdown",
      "metadata": {
        "id": "wdHNkPO_3tSb"
      },
      "source": [
        "### 5.1. 범주형 변수 Encoding\n",
        "- 범주형 변수는 그대로 모델에 투입하면, 모델이 제대로 작동할 수 없습니다.\n",
        "- 따라서 **레이블 인코딩 과정**을 통해 범주형 변수들을 numeric하게 바꾸는 인코딩 과정을 진행해주도록 하겠습니다."
      ]
    },
    {
      "cell_type": "code",
      "execution_count": 69,
      "metadata": {},
      "outputs": [
        {
          "name": "stdout",
          "output_type": "stream",
          "text": [
            "연속형 변수: ['전용면적', '계약일', '층', '건축년도', 'k-전체동수', 'k-전체세대수', 'k-연면적', 'k-주거전용면적', 'k-관리비부과면적', 'k-전용면적별세대현황(60㎡이하)', 'k-전용면적별세대현황(60㎡~85㎡이하)', 'k-85㎡~135㎡이하', '건축면적', '주차대수', 'target', '강남여부', '호선등급', '역세권', '신축여부', 'nearest_middle_distance_m', 'hangang_location_score', 'hangang_lifestyle_grade', 'is_hangang_premium', 'nearest_middle_distance_m_scaled', 'nearest_high_distance_m_scaled', 'nearest_middle_score_scaled', 'nearest_high_score_scaled', 'avg_school_score_1km_scaled', 'hangang_location_score_scaled', 'nearest_middle_진학률_scaled', 'nearest_high_진학률_scaled']\n",
            "범주형 변수: ['아파트명', '등기신청일자', '거래유형', '중개사소재지', 'k-단지분류(아파트,주상복합등등)', 'k-세대타입(분양형태)', '고용보험관리번호', '기타/의무/임대/임의=1/2/3/4', '사용허가여부', '구', '동', '계약년', '계약월']\n"
          ]
        }
      ],
      "source": [
        "# 파생변수 제작으로 추가된 변수들이 존재하기에, 다시한번 연속형과 범주형 칼럼을 분리해주겠습니다.\n",
        "continuous_columns_v2 = []\n",
        "categorical_columns_v2 = []\n",
        "\n",
        "for column in dt_train.columns:\n",
        "    if pd.api.types.is_numeric_dtype(dt_train[column]):\n",
        "        continuous_columns_v2.append(column)\n",
        "    else:\n",
        "        categorical_columns_v2.append(column)\n",
        "\n",
        "print(\"연속형 변수:\", continuous_columns_v2)\n",
        "print(\"범주형 변수:\", categorical_columns_v2)"
      ]
    },
    {
      "cell_type": "code",
      "execution_count": 70,
      "metadata": {},
      "outputs": [
        {
          "name": "stderr",
          "output_type": "stream",
          "text": [
            "100%|██████████| 13/13 [00:04<00:00,  3.07it/s]\n"
          ]
        }
      ],
      "source": [
        "# 아래에서 범주형 변수들을 대상으로 레이블인코딩을 진행해 주겠습니다.\n",
        "\n",
        "# 각 변수에 대한 LabelEncoder를 저장할 딕셔너리\n",
        "label_encoders = {}\n",
        "\n",
        "# Implement Label Encoding\n",
        "for col in tqdm( categorical_columns_v2 ):\n",
        "    lbl = LabelEncoder()\n",
        "\n",
        "    # Label-Encoding을 fit\n",
        "    lbl.fit( dt_train[col].astype(str) )\n",
        "    dt_train[col] = lbl.transform(dt_train[col].astype(str))\n",
        "    label_encoders[col] = lbl           # 나중에 후처리를 위해 레이블인코더를 저장해주겠습니다.\n",
        "\n",
        "    # Test 데이터에만 존재하는 새로 출현한 데이터를 신규 클래스로 추가해줍니다.\n",
        "    for label in np.unique(dt_test[col]):\n",
        "      if label not in lbl.classes_: # unseen label 데이터인 경우\n",
        "        lbl.classes_ = np.append(lbl.classes_, label) # 미처리 시 ValueError발생하니 주의하세요!\n",
        "\n",
        "    dt_test[col] = lbl.transform(dt_test[col].astype(str))"
      ]
    },
    {
      "cell_type": "code",
      "execution_count": 71,
      "metadata": {},
      "outputs": [
        {
          "data": {
            "text/html": [
              "<div>\n",
              "<style scoped>\n",
              "    .dataframe tbody tr th:only-of-type {\n",
              "        vertical-align: middle;\n",
              "    }\n",
              "\n",
              "    .dataframe tbody tr th {\n",
              "        vertical-align: top;\n",
              "    }\n",
              "\n",
              "    .dataframe thead th {\n",
              "        text-align: right;\n",
              "    }\n",
              "</style>\n",
              "<table border=\"1\" class=\"dataframe\">\n",
              "  <thead>\n",
              "    <tr style=\"text-align: right;\">\n",
              "      <th></th>\n",
              "      <th>아파트명</th>\n",
              "      <th>전용면적</th>\n",
              "      <th>계약일</th>\n",
              "      <th>층</th>\n",
              "      <th>건축년도</th>\n",
              "      <th>등기신청일자</th>\n",
              "      <th>거래유형</th>\n",
              "      <th>중개사소재지</th>\n",
              "      <th>k-단지분류(아파트,주상복합등등)</th>\n",
              "      <th>k-세대타입(분양형태)</th>\n",
              "      <th>...</th>\n",
              "      <th>hangang_lifestyle_grade</th>\n",
              "      <th>is_hangang_premium</th>\n",
              "      <th>nearest_middle_distance_m_scaled</th>\n",
              "      <th>nearest_high_distance_m_scaled</th>\n",
              "      <th>nearest_middle_score_scaled</th>\n",
              "      <th>nearest_high_score_scaled</th>\n",
              "      <th>avg_school_score_1km_scaled</th>\n",
              "      <th>hangang_location_score_scaled</th>\n",
              "      <th>nearest_middle_진학률_scaled</th>\n",
              "      <th>nearest_high_진학률_scaled</th>\n",
              "    </tr>\n",
              "  </thead>\n",
              "  <tbody>\n",
              "    <tr>\n",
              "      <th>0</th>\n",
              "      <td>292</td>\n",
              "      <td>79.97</td>\n",
              "      <td>8</td>\n",
              "      <td>3</td>\n",
              "      <td>1987</td>\n",
              "      <td>0</td>\n",
              "      <td>0</td>\n",
              "      <td>0</td>\n",
              "      <td>2</td>\n",
              "      <td>1</td>\n",
              "      <td>...</td>\n",
              "      <td>1.0</td>\n",
              "      <td>0</td>\n",
              "      <td>2.4218</td>\n",
              "      <td>0.543494</td>\n",
              "      <td>1.722113</td>\n",
              "      <td>0.573066</td>\n",
              "      <td>0.592493</td>\n",
              "      <td>-0.414636</td>\n",
              "      <td>0.71326</td>\n",
              "      <td>-0.561666</td>\n",
              "    </tr>\n",
              "  </tbody>\n",
              "</table>\n",
              "<p>1 rows × 44 columns</p>\n",
              "</div>"
            ],
            "text/plain": [
              "   아파트명   전용면적  계약일  층  건축년도  등기신청일자  거래유형  중개사소재지  k-단지분류(아파트,주상복합등등)  \\\n",
              "0   292  79.97    8  3  1987       0     0       0                   2   \n",
              "\n",
              "   k-세대타입(분양형태)  ...  hangang_lifestyle_grade  is_hangang_premium  \\\n",
              "0             1  ...                      1.0                   0   \n",
              "\n",
              "   nearest_middle_distance_m_scaled  nearest_high_distance_m_scaled  \\\n",
              "0                            2.4218                        0.543494   \n",
              "\n",
              "   nearest_middle_score_scaled  nearest_high_score_scaled  \\\n",
              "0                     1.722113                   0.573066   \n",
              "\n",
              "   avg_school_score_1km_scaled  hangang_location_score_scaled  \\\n",
              "0                     0.592493                      -0.414636   \n",
              "\n",
              "   nearest_middle_진학률_scaled  nearest_high_진학률_scaled  \n",
              "0                    0.71326                -0.561666  \n",
              "\n",
              "[1 rows x 44 columns]"
            ]
          },
          "execution_count": 71,
          "metadata": {},
          "output_type": "execute_result"
        }
      ],
      "source": [
        "dt_train.head(1)        # 레이블인코딩이 된 모습입니다."
      ]
    },
    {
      "cell_type": "code",
      "execution_count": 78,
      "metadata": {},
      "outputs": [
        {
          "name": "stdout",
          "output_type": "stream",
          "text": [
            "Requirement already satisfied: lightgbm in /home/realtheai/documents/upstage-ml-regression-sigma7/regression/lib/python3.11/site-packages (4.6.0)\n",
            "Requirement already satisfied: xgboost in /home/realtheai/documents/upstage-ml-regression-sigma7/regression/lib/python3.11/site-packages (3.0.5)\n",
            "Requirement already satisfied: numpy>=1.17.0 in /home/realtheai/documents/upstage-ml-regression-sigma7/regression/lib/python3.11/site-packages (from lightgbm) (1.23.5)\n",
            "Requirement already satisfied: scipy in /home/realtheai/documents/upstage-ml-regression-sigma7/regression/lib/python3.11/site-packages (from lightgbm) (1.11.3)\n",
            "Requirement already satisfied: nvidia-nccl-cu12 in /home/realtheai/documents/upstage-ml-regression-sigma7/regression/lib/python3.11/site-packages (from xgboost) (2.28.3)\n",
            "Note: you may need to restart the kernel to use updated packages.\n"
          ]
        }
      ],
      "source": [
        "pip install lightgbm xgboost "
      ]
    },
    {
      "cell_type": "code",
      "execution_count": 72,
      "metadata": {},
      "outputs": [
        {
          "name": "stdout",
          "output_type": "stream",
          "text": [
            "✅ 모델링 라이브러리 import 완료!\n",
            "사용 가능한 모델: LightGBM, XGBoost, RandomForest\n"
          ]
        }
      ],
      "source": [
        "# 필요한 라이브러리 import\n",
        "import lightgbm as lgb\n",
        "import xgboost as xgb\n",
        "from sklearn.ensemble import RandomForestRegressor\n",
        "from sklearn.model_selection import train_test_split, KFold, cross_val_score\n",
        "from sklearn.metrics import mean_squared_error, mean_absolute_error, r2_score\n",
        "from sklearn.preprocessing import LabelEncoder\n",
        "import numpy as np\n",
        "import warnings\n",
        "warnings.filterwarnings('ignore')\n",
        "\n",
        "print(\"✅ 모델링 라이브러리 import 완료!\")\n",
        "print(\"사용 가능한 모델: LightGBM, XGBoost, RandomForest\")\n"
      ]
    },
    {
      "cell_type": "code",
      "execution_count": 73,
      "metadata": {},
      "outputs": [
        {
          "name": "stdout",
          "output_type": "stream",
          "text": [
            "=== 데이터 준비 ===\n",
            "Train 데이터: (1029574, 44)\n",
            "Test 데이터: (9272, 44)\n",
            "✅ 아파트명 Label Encoding 완료\n",
            "✅ 등기신청일자 Label Encoding 완료\n",
            "✅ 거래유형 Label Encoding 완료\n",
            "✅ 중개사소재지 Label Encoding 완료\n",
            "✅ k-단지분류(아파트,주상복합등등) Label Encoding 완료\n",
            "✅ k-세대타입(분양형태) Label Encoding 완료\n",
            "✅ 고용보험관리번호 Label Encoding 완료\n",
            "✅ 기타/의무/임대/임의=1/2/3/4 Label Encoding 완료\n",
            "✅ 사용허가여부 Label Encoding 완료\n",
            "✅ 구 Label Encoding 완료\n",
            "✅ 동 Label Encoding 완료\n",
            "✅ 계약년 Label Encoding 완료\n",
            "✅ 계약월 Label Encoding 완료\n",
            "\n",
            "최종 Train 데이터: (1029574, 44)\n",
            "최종 Test 데이터: (9272, 44)\n"
          ]
        }
      ],
      "source": [
        "# 데이터 준비 및 전처리\n",
        "print(\"=== 데이터 준비 ===\")\n",
        "\n",
        "# Train/Test 분할 (컬럼 drop 후 데이터 사용)\n",
        "dt_train = concat_select.query('is_test==0').copy()\n",
        "dt_test = concat_select.query('is_test==1').copy()\n",
        "\n",
        "# is_test 컬럼 제거\n",
        "dt_train = dt_train.drop(['is_test'], axis=1)\n",
        "dt_test = dt_test.drop(['is_test'], axis=1)\n",
        "\n",
        "print(f\"Train 데이터: {dt_train.shape}\")\n",
        "print(f\"Test 데이터: {dt_test.shape}\")\n",
        "\n",
        "# Test 데이터의 target은 0으로 설정\n",
        "dt_test['target'] = 0\n",
        "\n",
        "# 범주형 변수 Label Encoding\n",
        "categorical_columns = ['아파트명', '등기신청일자', '거래유형', '중개사소재지', 'k-단지분류(아파트,주상복합등등)', 'k-세대타입(분양형태)', '고용보험관리번호', '기타/의무/임대/임의=1/2/3/4', '사용허가여부', '구', '동', '계약년', '계약월']\n",
        "\n",
        "label_encoders = {}\n",
        "for col in categorical_columns:\n",
        "    if col in dt_train.columns:\n",
        "        le = LabelEncoder()\n",
        "        # Train과 Test 데이터를 합쳐서 fit (새로운 카테고리 대응)\n",
        "        combined_data = pd.concat([dt_train[col], dt_test[col]], axis=0)\n",
        "        le.fit(combined_data.astype(str))\n",
        "        \n",
        "        dt_train[col] = le.transform(dt_train[col].astype(str))\n",
        "        dt_test[col] = le.transform(dt_test[col].astype(str))\n",
        "        \n",
        "        label_encoders[col] = le\n",
        "        print(f\"✅ {col} Label Encoding 완료\")\n",
        "\n",
        "print(f\"\\n최종 Train 데이터: {dt_train.shape}\")\n",
        "print(f\"최종 Test 데이터: {dt_test.shape}\")\n"
      ]
    },
    {
      "cell_type": "code",
      "execution_count": 74,
      "metadata": {},
      "outputs": [
        {
          "name": "stdout",
          "output_type": "stream",
          "text": [
            "=== X, y 분리 ===\n",
            "X (Features): (1029574, 43)\n",
            "y (Target): (1029574,)\n",
            "X_test: (9272, 43)\n",
            "\n",
            "=== 데이터 분할 완료 ===\n",
            "X_train: (823659, 43)\n",
            "X_val: (205915, 43)\n",
            "y_train: (823659,)\n",
            "y_val: (205915,)\n",
            "\n",
            "=== 결측치 확인 ===\n",
            "X_train 결측치: 0\n",
            "X_val 결측치: 0\n",
            "X_test 결측치: 0\n"
          ]
        }
      ],
      "source": [
        "# X, y 분리 및 Validation 데이터 준비\n",
        "print(\"=== X, y 분리 ===\")\n",
        "\n",
        "# Feature와 Target 분리\n",
        "X = dt_train.drop(['target'], axis=1)\n",
        "y = dt_train['target']\n",
        "X_test = dt_test.drop(['target'], axis=1)\n",
        "\n",
        "print(f\"X (Features): {X.shape}\")\n",
        "print(f\"y (Target): {y.shape}\")\n",
        "print(f\"X_test: {X_test.shape}\")\n",
        "\n",
        "# Train/Validation 분할 (80:20)\n",
        "X_train, X_val, y_train, y_val = train_test_split(\n",
        "    X, y, test_size=0.2, random_state=42, shuffle=True\n",
        ")\n",
        "\n",
        "print(f\"\\n=== 데이터 분할 완료 ===\")\n",
        "print(f\"X_train: {X_train.shape}\")\n",
        "print(f\"X_val: {X_val.shape}\")\n",
        "print(f\"y_train: {y_train.shape}\")\n",
        "print(f\"y_val: {y_val.shape}\")\n",
        "\n",
        "# 결측치 확인\n",
        "print(f\"\\n=== 결측치 확인 ===\")\n",
        "print(f\"X_train 결측치: {X_train.isnull().sum().sum()}\")\n",
        "print(f\"X_val 결측치: {X_val.isnull().sum().sum()}\")\n",
        "print(f\"X_test 결측치: {X_test.isnull().sum().sum()}\")\n"
      ]
    },
    {
      "cell_type": "markdown",
      "metadata": {},
      "source": [
        "### 5.2. LightGBM 모델 학습\n",
        "\n",
        "LightGBM은 Microsoft에서 개발한 gradient boosting 프레임워크로:\n",
        "- **빠른 학습 속도**: 대용량 데이터에 최적화\n",
        "- **높은 정확도**: 경쟁력 있는 성능\n",
        "- **메모리 효율성**: 낮은 메모리 사용량\n",
        "- **GPU 지원**: 더 빠른 학습 가능"
      ]
    },
    {
      "cell_type": "code",
      "execution_count": 79,
      "metadata": {},
      "outputs": [
        {
          "name": "stdout",
          "output_type": "stream",
          "text": [
            "💡 LightGBM 모델 학습 시작...\n",
            "✅ 파라미터 설정 및 함수 정의 완료!\n"
          ]
        }
      ],
      "source": [
        "# 수정된 버전 (컬럼명 정리 후 학습)\n",
        "print(\"💡 LightGBM 모델 학습 시작...\")\n",
        "\n",
        "lgb_params = {\n",
        "    'objective': 'regression',\n",
        "    'metric': 'rmse',\n",
        "    'boosting_type': 'gbdt',\n",
        "    'num_leaves': 31,\n",
        "    'learning_rate': 0.05,\n",
        "    'feature_fraction': 0.9,\n",
        "    'bagging_fraction': 0.8,\n",
        "    'bagging_freq': 5,\n",
        "    'verbose': -1,\n",
        "    'random_state': 42,\n",
        "    'n_jobs': -1,\n",
        "    'force_col_wise': True  # 한글 지원\n",
        "}\n",
        "\n",
        "# 🔧 컬럼명 정리 함수 추가\n",
        "import re\n",
        "\n",
        "def clean_feature_names(columns):\n",
        "    \"\"\"LightGBM이 허용하는 컬럼명으로 변경\"\"\"\n",
        "    clean_names = []\n",
        "    for col in columns:\n",
        "        # 특수문자 제거하고 영문자, 숫자, 언더스코어, 한글만 남기기\n",
        "        clean_name = re.sub(r'[^a-zA-Z0-9_가-힣]', '_', str(col))\n",
        "        clean_name = re.sub(r'_+', '_', clean_name)  # 연속 언더스코어 정리\n",
        "        clean_name = clean_name.strip('_')  # 앞뒤 언더스코어 제거\n",
        "        \n",
        "        # 빈 문자열이면 기본값\n",
        "        if not clean_name:\n",
        "            clean_name = f'feature_{len(clean_names)}'\n",
        "            \n",
        "        clean_names.append(clean_name)\n",
        "    \n",
        "    return clean_names\n",
        "\n",
        "print(\"✅ 파라미터 설정 및 함수 정의 완료!\")"
      ]
    },
    {
      "cell_type": "code",
      "execution_count": 80,
      "metadata": {},
      "outputs": [
        {
          "name": "stdout",
          "output_type": "stream",
          "text": [
            "🔧 컬럼명 정리 중...\n",
            "정리 전 컬럼 예시: ['아파트명', '전용면적', '계약일']\n",
            "정리 후 컬럼 예시: ['아파트명', '전용면적', '계약일']\n",
            "✅ 컬럼명 정리 및 데이터셋 생성 완료!\n"
          ]
        }
      ],
      "source": [
        "print(\"🔧 컬럼명 정리 중...\")\n",
        "\n",
        "# 컬럼명 정리\n",
        "clean_columns = clean_feature_names(X_train.columns)\n",
        "print(f\"정리 전 컬럼 예시: {X_train.columns[:3].tolist()}\")\n",
        "print(f\"정리 후 컬럼 예시: {clean_columns[:3]}\")\n",
        "\n",
        "# 데이터셋 생성 (정리된 컬럼명 사용)\n",
        "train_data = lgb.Dataset(\n",
        "    X_train, \n",
        "    label=y_train,\n",
        "    feature_name=clean_columns\n",
        ")\n",
        "\n",
        "val_data = lgb.Dataset(\n",
        "    X_val, \n",
        "    label=y_val, \n",
        "    reference=train_data\n",
        ")\n",
        "\n",
        "print(\"✅ 컬럼명 정리 및 데이터셋 생성 완료!\")"
      ]
    },
    {
      "cell_type": "code",
      "execution_count": 81,
      "metadata": {},
      "outputs": [
        {
          "name": "stdout",
          "output_type": "stream",
          "text": [
            "🚀 LightGBM 모델 학습 실행 중...\n",
            "Training until validation scores don't improve for 50 rounds\n",
            "[100]\ttrain's rmse: 11549.4\tval's rmse: 11621.5\n",
            "[200]\ttrain's rmse: 9658.83\tval's rmse: 9738.04\n",
            "[300]\ttrain's rmse: 8747.13\tval's rmse: 8841.72\n",
            "[400]\ttrain's rmse: 8170.33\tval's rmse: 8279.01\n",
            "[500]\ttrain's rmse: 7761.54\tval's rmse: 7883.83\n",
            "[600]\ttrain's rmse: 7414.06\tval's rmse: 7545.85\n",
            "[700]\ttrain's rmse: 7109.98\tval's rmse: 7251.3\n",
            "[800]\ttrain's rmse: 6859.08\tval's rmse: 7009.12\n",
            "[900]\ttrain's rmse: 6638.19\tval's rmse: 6796.45\n",
            "[1000]\ttrain's rmse: 6452.41\tval's rmse: 6620.46\n",
            "Did not meet early stopping. Best iteration is:\n",
            "[1000]\ttrain's rmse: 6452.41\tval's rmse: 6620.46\n",
            "✅ LightGBM 학습 완료!\n"
          ]
        }
      ],
      "source": [
        "print(\"🚀 LightGBM 모델 학습 실행 중...\")\n",
        "\n",
        "# LightGBM 모델 학습 실행\n",
        "lgb_model = lgb.train(\n",
        "    lgb_params,\n",
        "    train_data,\n",
        "    num_boost_round=1000,\n",
        "    valid_sets=[train_data, val_data],\n",
        "    valid_names=['train', 'val'],\n",
        "    callbacks=[lgb.early_stopping(stopping_rounds=50), lgb.log_evaluation(period=100)]\n",
        ")\n",
        "\n",
        "print(\"✅ LightGBM 학습 완료!\")"
      ]
    },
    {
      "cell_type": "code",
      "execution_count": 83,
      "metadata": {},
      "outputs": [
        {
          "name": "stdout",
          "output_type": "stream",
          "text": [
            "💡 LightGBM 성능:\n",
            "RMSE: 6,620\n",
            "MAE: 4,261\n",
            "R²: 0.9663\n"
          ]
        }
      ],
      "source": [
        "# LightGBM 예측 및 성능 평가\n",
        "y_pred_lgb = lgb_model.predict(X_val, num_iteration=lgb_model.best_iteration)\n",
        "\n",
        "lgb_rmse = np.sqrt(mean_squared_error(y_val, y_pred_lgb))\n",
        "lgb_mae = mean_absolute_error(y_val, y_pred_lgb)\n",
        "lgb_r2 = r2_score(y_val, y_pred_lgb)\n",
        "\n",
        "print(f\"💡 LightGBM 성능:\")\n",
        "print(f\"RMSE: {lgb_rmse:,.0f}\")\n",
        "print(f\"MAE: {lgb_mae:,.0f}\")\n",
        "print(f\"R²: {lgb_r2:.4f}\")"
      ]
    },
    {
      "cell_type": "code",
      "execution_count": null,
      "metadata": {},
      "outputs": [],
      "source": [
        "### 5.3. RandomForest 모델 학습\n",
        "\n",
        "RandomForest는 여러 개의 의사결정트리를 앙상블한 모델로:\n",
        "- **안정성**: 과적합에 강함\n",
        "- **해석 가능성**: Feature importance 제공\n",
        "- **병렬 처리**: 빠른 학습 가능\n",
        "- **결측치 처리**: 자동으로 처리 가능"
      ]
    },
    {
      "cell_type": "code",
      "execution_count": 84,
      "metadata": {},
      "outputs": [
        {
          "name": "stdout",
          "output_type": "stream",
          "text": [
            "🌳 RandomForest 모델 학습 시작...\n",
            "✅ RandomForest 학습 완료!\n"
          ]
        }
      ],
      "source": [
        "# RandomForest 모델 학습\n",
        "print(\"🌳 RandomForest 모델 학습 시작...\")\n",
        "\n",
        "rf_model = RandomForestRegressor(\n",
        "    n_estimators=100,\n",
        "    max_depth=20,\n",
        "    min_samples_split=5,\n",
        "    min_samples_leaf=2,\n",
        "    max_features='sqrt',\n",
        "    random_state=42,\n",
        "    n_jobs=-1\n",
        ")\n",
        "\n",
        "rf_model.fit(X_train, y_train)\n",
        "print(\"✅ RandomForest 학습 완료!\")"
      ]
    },
    {
      "cell_type": "code",
      "execution_count": 85,
      "metadata": {},
      "outputs": [
        {
          "name": "stdout",
          "output_type": "stream",
          "text": [
            "🌳 RandomForest 성능:\n",
            "RMSE: 7,537\n",
            "MAE: 4,722\n",
            "R²: 0.9563\n"
          ]
        }
      ],
      "source": [
        "# RandomForest 예측 및 성능 평가\n",
        "y_pred_rf = rf_model.predict(X_val)\n",
        "\n",
        "rf_rmse = np.sqrt(mean_squared_error(y_val, y_pred_rf))\n",
        "rf_mae = mean_absolute_error(y_val, y_pred_rf)\n",
        "rf_r2 = r2_score(y_val, y_pred_rf)\n",
        "\n",
        "print(f\"🌳 RandomForest 성능:\")\n",
        "print(f\"RMSE: {rf_rmse:,.0f}\")\n",
        "print(f\"MAE: {rf_mae:,.0f}\")\n",
        "print(f\"R²: {rf_r2:.4f}\")"
      ]
    },
    {
      "cell_type": "code",
      "execution_count": null,
      "metadata": {},
      "outputs": [],
      "source": [
        "### 5.4. XGBoost 모델 학습\n",
        "\n",
        "XGBoost는 eXtreme Gradient Boosting의 줄임말로:\n",
        "- **높은 성능**: 많은 경진대회에서 우승\n",
        "- **정규화**: 과적합 방지 기능 내장\n",
        "- **유연성**: 다양한 하이퍼파라미터\n",
        "- **확장성**: 분산 처리 지원\n"
      ]
    },
    {
      "cell_type": "code",
      "execution_count": 86,
      "metadata": {},
      "outputs": [
        {
          "name": "stdout",
          "output_type": "stream",
          "text": [
            "⚡ XGBoost 모델 학습 시작...\n",
            "✅ XGBoost 모델 설정 완료!\n"
          ]
        }
      ],
      "source": [
        "# XGBoost 모델 학습\n",
        "print(\"⚡ XGBoost 모델 학습 시작...\")\n",
        "\n",
        "xgb_model = xgb.XGBRegressor(\n",
        "    objective='reg:squarederror',\n",
        "    n_estimators=1000,\n",
        "    max_depth=6,\n",
        "    learning_rate=0.05,\n",
        "    subsample=0.8,\n",
        "    colsample_bytree=0.8,\n",
        "    random_state=42,\n",
        "    n_jobs=-1,\n",
        "    early_stopping_rounds=50,\n",
        "    eval_metric='rmse'\n",
        ")\n",
        "\n",
        "print(\"✅ XGBoost 모델 설정 완료!\")"
      ]
    },
    {
      "cell_type": "code",
      "execution_count": 87,
      "metadata": {},
      "outputs": [
        {
          "name": "stdout",
          "output_type": "stream",
          "text": [
            "[0]\tvalidation_0-rmse:34944.98871\tvalidation_1-rmse:34955.59373\n",
            "[100]\tvalidation_0-rmse:11026.92886\tvalidation_1-rmse:11104.50413\n",
            "[200]\tvalidation_0-rmse:9308.84721\tvalidation_1-rmse:9408.90178\n",
            "[300]\tvalidation_0-rmse:8471.04165\tvalidation_1-rmse:8600.05339\n",
            "[400]\tvalidation_0-rmse:7887.88070\tvalidation_1-rmse:8039.80466\n",
            "[500]\tvalidation_0-rmse:7439.50447\tvalidation_1-rmse:7608.18109\n",
            "[600]\tvalidation_0-rmse:7113.73024\tvalidation_1-rmse:7296.36065\n",
            "[700]\tvalidation_0-rmse:6824.83244\tvalidation_1-rmse:7019.76849\n",
            "[800]\tvalidation_0-rmse:6574.49274\tvalidation_1-rmse:6781.28258\n",
            "[900]\tvalidation_0-rmse:6375.89031\tvalidation_1-rmse:6593.35525\n",
            "[999]\tvalidation_0-rmse:6201.55783\tvalidation_1-rmse:6430.34752\n",
            "✅ XGBoost 학습 완료!\n"
          ]
        }
      ],
      "source": [
        "# XGBoost 모델 학습 실행\n",
        "xgb_model.fit(\n",
        "    X_train, y_train,\n",
        "    eval_set=[(X_train, y_train), (X_val, y_val)],\n",
        "    verbose=100\n",
        ")\n",
        "\n",
        "print(\"✅ XGBoost 학습 완료!\")"
      ]
    },
    {
      "cell_type": "code",
      "execution_count": 88,
      "metadata": {},
      "outputs": [
        {
          "name": "stdout",
          "output_type": "stream",
          "text": [
            "⚡ XGBoost 성능:\n",
            "RMSE: 6,430\n",
            "MAE: 4,030\n",
            "R²: 0.9682\n"
          ]
        }
      ],
      "source": [
        "# XGBoost 예측 및 성능 평가\n",
        "y_pred_xgb = xgb_model.predict(X_val)\n",
        "\n",
        "xgb_rmse = np.sqrt(mean_squared_error(y_val, y_pred_xgb))\n",
        "xgb_mae = mean_absolute_error(y_val, y_pred_xgb)\n",
        "xgb_r2 = r2_score(y_val, y_pred_xgb)\n",
        "\n",
        "print(f\"⚡ XGBoost 성능:\")\n",
        "print(f\"RMSE: {xgb_rmse:,.0f}\")\n",
        "print(f\"MAE: {xgb_mae:,.0f}\")\n",
        "print(f\"R²: {xgb_r2:.4f}\")"
      ]
    },
    {
      "cell_type": "code",
      "execution_count": null,
      "metadata": {},
      "outputs": [],
      "source": [
        "### 5.5. 모델 성능 비교 및 앙상블"
      ]
    },
    {
      "cell_type": "code",
      "execution_count": 89,
      "metadata": {},
      "outputs": [
        {
          "name": "stdout",
          "output_type": "stream",
          "text": [
            "📊 모델 성능 비교\n",
            "==================================================\n",
            "          Model       RMSE        MAE      R²\n",
            "2       XGBoost  6430.3475  4030.3261  0.9682\n",
            "1      LightGBM  6620.4596  4260.5066  0.9663\n",
            "0  RandomForest  7537.3513  4721.5930  0.9563\n",
            "\n",
            "🏆 최고 성능 모델: XGBoost\n"
          ]
        }
      ],
      "source": [
        "# 모든 모델 성능 비교\n",
        "import pandas as pd\n",
        "\n",
        "results = pd.DataFrame({\n",
        "    'Model': ['RandomForest', 'LightGBM', 'XGBoost'],\n",
        "    'RMSE': [rf_rmse, lgb_rmse, xgb_rmse],\n",
        "    'MAE': [rf_mae, lgb_mae, xgb_mae],\n",
        "    'R²': [rf_r2, lgb_r2, xgb_r2]\n",
        "})\n",
        "\n",
        "# 성능순으로 정렬 (RMSE 기준)\n",
        "results = results.sort_values('RMSE')\n",
        "print(\"📊 모델 성능 비교\")\n",
        "print(\"=\" * 50)\n",
        "print(results.round(4))\n",
        "\n",
        "best_model_name = results.iloc[0]['Model']\n",
        "print(f\"\\n🏆 최고 성능 모델: {best_model_name}\")"
      ]
    },
    {
      "cell_type": "code",
      "execution_count": 90,
      "metadata": {},
      "outputs": [
        {
          "name": "stdout",
          "output_type": "stream",
          "text": [
            "📊 모델 성능 비교\n",
            "==================================================\n",
            "          Model       RMSE        MAE      R²\n",
            "2       XGBoost  6430.3475  4030.3261  0.9682\n",
            "0      LightGBM  6620.4596  4260.5066  0.9663\n",
            "1  RandomForest  7537.3513  4721.5930  0.9563\n",
            "\n",
            "🏆 최고 성능 모델: XGBoost\n",
            "\n",
            "🎯 앙상블 모델 생성...\n",
            "앙상블 가중치:\n",
            "  LightGBM: 0.334\n",
            "  RandomForest: 0.331\n",
            "  XGBoost: 0.335\n",
            "\n",
            "✅ 앙상블 성능:\n",
            "RMSE: 6,355\n",
            "MAE: 3,968\n",
            "R²: 0.9689\n",
            "\n",
            "🎉 성능 개선:\n",
            "앙상블이 최고 단일 모델보다 1.17% 개선됨!\n"
          ]
        }
      ],
      "source": [
        "# 모델 성능 비교\n",
        "print(\"📊 모델 성능 비교\")\n",
        "print(\"=\" * 50)\n",
        "\n",
        "# 성능 결과를 DataFrame으로 정리\n",
        "results = pd.DataFrame({\n",
        "    'Model': ['LightGBM', 'RandomForest', 'XGBoost'],\n",
        "    'RMSE': [lgb_rmse, rf_rmse, xgb_rmse],\n",
        "    'MAE': [lgb_mae, rf_mae, xgb_mae],\n",
        "    'R²': [lgb_r2, rf_r2, xgb_r2]\n",
        "})\n",
        "\n",
        "# 성능순으로 정렬 (RMSE 기준)\n",
        "results = results.sort_values('RMSE')\n",
        "print(results.round(4))\n",
        "\n",
        "# 최고 성능 모델 선택\n",
        "best_model_name = results.iloc[0]['Model']\n",
        "print(f\"\\n🏆 최고 성능 모델: {best_model_name}\")\n",
        "\n",
        "# 앙상블 예측 (가중 평균)\n",
        "print(\"\\n🎯 앙상블 모델 생성...\")\n",
        "\n",
        "# 각 모델의 성능에 따른 가중치 계산 (R² 기준)\n",
        "weights = np.array([lgb_r2, rf_r2, xgb_r2])\n",
        "weights = weights / weights.sum()  # 정규화\n",
        "\n",
        "print(f\"앙상블 가중치:\")\n",
        "print(f\"  LightGBM: {weights[0]:.3f}\")\n",
        "print(f\"  RandomForest: {weights[1]:.3f}\")\n",
        "print(f\"  XGBoost: {weights[2]:.3f}\")\n",
        "\n",
        "# 앙상블 예측\n",
        "y_pred_ensemble = (weights[0] * y_pred_lgb + \n",
        "                  weights[1] * y_pred_rf + \n",
        "                  weights[2] * y_pred_xgb)\n",
        "\n",
        "# 앙상블 성능 평가\n",
        "ensemble_rmse = np.sqrt(mean_squared_error(y_val, y_pred_ensemble))\n",
        "ensemble_mae = mean_absolute_error(y_val, y_pred_ensemble)\n",
        "ensemble_r2 = r2_score(y_val, y_pred_ensemble)\n",
        "\n",
        "print(f\"\\n✅ 앙상블 성능:\")\n",
        "print(f\"RMSE: {ensemble_rmse:,.0f}\")\n",
        "print(f\"MAE: {ensemble_mae:,.0f}\")\n",
        "print(f\"R²: {ensemble_r2:.4f}\")\n",
        "\n",
        "# 최종 성능 비교\n",
        "print(f\"\\n🎉 성능 개선:\")\n",
        "best_single_rmse = results.iloc[0]['RMSE']\n",
        "if ensemble_rmse < best_single_rmse:\n",
        "    improvement = ((best_single_rmse - ensemble_rmse) / best_single_rmse) * 100\n",
        "    print(f\"앙상블이 최고 단일 모델보다 {improvement:.2f}% 개선됨!\")\n",
        "else:\n",
        "    print(f\"단일 모델({best_model_name})이 더 좋은 성능을 보임\")\n"
      ]
    },
    {
      "cell_type": "code",
      "execution_count": null,
      "metadata": {},
      "outputs": [],
      "source": [
        "## 앙상블"
      ]
    },
    {
      "cell_type": "code",
      "execution_count": 95,
      "metadata": {},
      "outputs": [
        {
          "name": "stdout",
          "output_type": "stream",
          "text": [
            "🎯 앙상블 모델 클래스 정의...\n",
            "✅ 앙상블 클래스 정의 완료!\n"
          ]
        }
      ],
      "source": [
        "print(\"🎯 앙상블 모델 클래스 정의...\")\n",
        "\n",
        "class WeightedEnsemble:\n",
        "    def __init__(self, models, weights=None):\n",
        "        \"\"\"\n",
        "        가중 앙상블 모델\n",
        "        \n",
        "        Parameters:\n",
        "        - models: 학습된 모델들의 딕셔너리 {'model_name': model}\n",
        "        - weights: 각 모델의 가중치 리스트 (None이면 균등 가중치)\n",
        "        \"\"\"\n",
        "        self.models = models\n",
        "        self.model_names = list(models.keys())\n",
        "        \n",
        "        if weights is None:\n",
        "            # 균등 가중치\n",
        "            self.weights = np.ones(len(models)) / len(models)\n",
        "        else:\n",
        "            # 정규화\n",
        "            self.weights = np.array(weights) / np.sum(weights)\n",
        "        \n",
        "        print(f\"앙상블 구성:\")\n",
        "        for i, name in enumerate(self.model_names):\n",
        "            print(f\"  {name}: {self.weights[i]:.3f}\")\n",
        "    \n",
        "    def predict(self, X):\n",
        "        \"\"\"앙상블 예측\"\"\"\n",
        "        predictions = []\n",
        "        \n",
        "        for i, (name, model) in enumerate(self.models.items()):\n",
        "            if name == 'LightGBM':\n",
        "                pred = model.predict(X, num_iteration=model.best_iteration)\n",
        "            else:\n",
        "                pred = model.predict(X)\n",
        "            predictions.append(pred)\n",
        "        \n",
        "        # 가중 평균\n",
        "        ensemble_pred = np.zeros_like(predictions[0])\n",
        "        for i, pred in enumerate(predictions):\n",
        "            ensemble_pred += self.weights[i] * pred\n",
        "            \n",
        "        return ensemble_pred\n",
        "    \n",
        "    def get_feature_importance(self, method='average'):\n",
        "        \"\"\"피처 중요도 계산\"\"\"\n",
        "        importances = {}\n",
        "        \n",
        "        for name, model in self.models.items():\n",
        "            if hasattr(model, 'feature_importance'):  # LightGBM\n",
        "                importances[name] = model.feature_importance(importance_type='gain')\n",
        "            elif hasattr(model, 'feature_importances_'):  # RF, XGB\n",
        "                importances[name] = model.feature_importances_\n",
        "        \n",
        "        if method == 'average':\n",
        "            # 가중 평균으로 계산\n",
        "            ensemble_importance = np.zeros_like(list(importances.values())[0])\n",
        "            for i, (name, importance) in enumerate(importances.items()):\n",
        "                ensemble_importance += self.weights[i] * importance\n",
        "            return ensemble_importance\n",
        "        else:\n",
        "            return importances\n",
        "\n",
        "print(\"✅ 앙상블 클래스 정의 완료!\")"
      ]
    },
    {
      "cell_type": "code",
      "execution_count": 96,
      "metadata": {},
      "outputs": [
        {
          "name": "stdout",
          "output_type": "stream",
          "text": [
            "🚀 앙상블 모델 학습...\n",
            "성능 기반 가중치:\n",
            "  LightGBM: 0.334 (R² = 0.9663)\n",
            "  RandomForest: 0.331 (R² = 0.9563)\n",
            "  XGBoost: 0.335 (R² = 0.9682)\n",
            "앙상블 구성:\n",
            "  LightGBM: 0.334\n",
            "  RandomForest: 0.331\n",
            "  XGBoost: 0.335\n",
            "✅ 앙상블 모델 학습 완료!\n"
          ]
        }
      ],
      "source": [
        "print(\"🚀 앙상블 모델 학습...\")\n",
        "\n",
        "# 개별 모델들을 딕셔너리로 정리\n",
        "trained_models = {\n",
        "    'LightGBM': lgb_model,\n",
        "    'RandomForest': rf_model,\n",
        "    'XGBoost': xgb_model\n",
        "}\n",
        "\n",
        "# 각 모델의 R² 점수를 가중치로 사용\n",
        "model_scores = np.array([lgb_r2, rf_r2, xgb_r2])\n",
        "performance_weights = model_scores / model_scores.sum()\n",
        "\n",
        "print(f\"성능 기반 가중치:\")\n",
        "for i, name in enumerate(trained_models.keys()):\n",
        "    print(f\"  {name}: {performance_weights[i]:.3f} (R² = {model_scores[i]:.4f})\")\n",
        "\n",
        "# 앙상블 모델 생성\n",
        "ensemble_model = WeightedEnsemble(\n",
        "    models=trained_models,\n",
        "    weights=performance_weights\n",
        ")\n",
        "\n",
        "print(\"✅ 앙상블 모델 학습 완료!\")"
      ]
    },
    {
      "cell_type": "code",
      "execution_count": 97,
      "metadata": {},
      "outputs": [
        {
          "name": "stdout",
          "output_type": "stream",
          "text": [
            "📊 앙상블 모델 예측 및 평가...\n",
            "🎯 앙상블 최종 성능:\n",
            "RMSE: 6,355\n",
            "MAE: 3,968\n",
            "R²: 0.9689\n",
            "\n",
            "📈 성능 비교:\n",
            "Model           RMSE       MAE        R²      \n",
            "=============================================\n",
            "LightGBM        6620       4261       0.9663  \n",
            "RandomForest    7537       4722       0.9563  \n",
            "XGBoost         6430       4030       0.9682  \n",
            "---------------------------------------------\n",
            "Ensemble        6355       3968       0.9689  \n",
            "\n",
            "🏆 앙상블이 최고 단일 모델보다 1.17% 개선!\n",
            "✅ 앙상블 평가 완료!\n"
          ]
        }
      ],
      "source": [
        "print(\"📊 앙상블 모델 예측 및 평가...\")\n",
        "\n",
        "# Validation 데이터 예측\n",
        "y_pred_ensemble_final = ensemble_model.predict(X_val)\n",
        "\n",
        "# 성능 평가\n",
        "ensemble_rmse_final = np.sqrt(mean_squared_error(y_val, y_pred_ensemble_final))\n",
        "ensemble_mae_final = mean_absolute_error(y_val, y_pred_ensemble_final)\n",
        "ensemble_r2_final = r2_score(y_val, y_pred_ensemble_final)\n",
        "\n",
        "print(f\"🎯 앙상블 최종 성능:\")\n",
        "print(f\"RMSE: {ensemble_rmse_final:,.0f}\")\n",
        "print(f\"MAE: {ensemble_mae_final:,.0f}\")\n",
        "print(f\"R²: {ensemble_r2_final:.4f}\")\n",
        "\n",
        "# 개별 모델과 비교\n",
        "print(f\"\\n📈 성능 비교:\")\n",
        "print(f\"{'Model':<15} {'RMSE':<10} {'MAE':<10} {'R²':<8}\")\n",
        "print(\"=\" * 45)\n",
        "print(f\"{'LightGBM':<15} {lgb_rmse:<10.0f} {lgb_mae:<10.0f} {lgb_r2:<8.4f}\")\n",
        "print(f\"{'RandomForest':<15} {rf_rmse:<10.0f} {rf_mae:<10.0f} {rf_r2:<8.4f}\")\n",
        "print(f\"{'XGBoost':<15} {xgb_rmse:<10.0f} {xgb_mae:<10.0f} {xgb_r2:<8.4f}\")\n",
        "print(\"-\" * 45)\n",
        "print(f\"{'Ensemble':<15} {ensemble_rmse_final:<10.0f} {ensemble_mae_final:<10.0f} {ensemble_r2_final:<8.4f}\")\n",
        "\n",
        "# 최고 단일 모델과 비교\n",
        "best_single_rmse = min(lgb_rmse, rf_rmse, xgb_rmse)\n",
        "if ensemble_rmse_final < best_single_rmse:\n",
        "    improvement = ((best_single_rmse - ensemble_rmse_final) / best_single_rmse) * 100\n",
        "    print(f\"\\n🏆 앙상블이 최고 단일 모델보다 {improvement:.2f}% 개선!\")\n",
        "else:\n",
        "    decrease = ((ensemble_rmse_final - best_single_rmse) / best_single_rmse) * 100\n",
        "    print(f\"\\n⚠️ 앙상블이 최고 단일 모델보다 {decrease:.2f}% 성능 저하\")\n",
        "\n",
        "print(\"✅ 앙상블 평가 완료!\")"
      ]
    },
    {
      "cell_type": "code",
      "execution_count": 98,
      "metadata": {},
      "outputs": [
        {
          "name": "stdout",
          "output_type": "stream",
          "text": [
            "💾 앙상블 예측 결과 저장...\n",
            "테스트 예측 완료: 9,272개\n",
            "✅ 앙상블 예측 결과 저장 완료!\n",
            "  파일명: ensemble_output.csv\n",
            "  예측 개수: 9,272\n",
            "  예측 범위: 12,176 ~ 473,364\n",
            "  예측 평균: 103,737\n",
            "\n",
            "📋 예측 결과 미리보기:\n",
            "   target\n",
            "0  177487\n",
            "1  269671\n",
            "2  244480\n",
            "3  240318\n",
            "4  222071\n"
          ]
        }
      ],
      "source": [
        "print(\"💾 앙상블 예측 결과 저장...\")\n",
        "\n",
        "# 테스트 데이터 예측 (이미 했다면 생략)\n",
        "if 'test_predictions' not in globals():\n",
        "    test_predictions = ensemble_model.predict(X_test)\n",
        "    print(f\"테스트 예측 완료: {len(test_predictions):,}개\")\n",
        "\n",
        "# 예측 결과를 DataFrame으로 생성 (정수로 변환)\n",
        "ensemble_preds_df = pd.DataFrame(test_predictions.astype(int), columns=[\"target\"])\n",
        "\n",
        "# CSV 파일로 저장\n",
        "ensemble_preds_df.to_csv('ensemble_output.csv', index=False)\n",
        "\n",
        "print(f\"✅ 앙상블 예측 결과 저장 완료!\")\n",
        "print(f\"  파일명: ensemble_output.csv\")\n",
        "print(f\"  예측 개수: {len(ensemble_preds_df):,}\")\n",
        "print(f\"  예측 범위: {ensemble_preds_df['target'].min():,} ~ {ensemble_preds_df['target'].max():,}\")\n",
        "print(f\"  예측 평균: {ensemble_preds_df['target'].mean():,.0f}\")\n",
        "\n",
        "# 미리보기\n",
        "print(f\"\\n📋 예측 결과 미리보기:\")\n",
        "print(ensemble_preds_df.head())"
      ]
    },
    {
      "cell_type": "raw",
      "metadata": {
        "vscode": {
          "languageId": "raw"
        }
      },
      "source": [
        "### 5.6. Feature Importance 분석\n"
      ]
    },
    {
      "cell_type": "code",
      "execution_count": 91,
      "metadata": {},
      "outputs": [
        {
          "name": "stdout",
          "output_type": "stream",
          "text": [
            "🔍 Feature Importance 분석\n",
            "========================================\n",
            "📊 LightGBM Top 15 중요 Feature:\n",
            "                    feature   importance\n",
            "                        계약년 2.172763e+15\n",
            "                       전용면적 1.626740e+15\n",
            "nearest_middle_score_scaled 1.625094e+15\n",
            "                       건축년도 7.741068e+14\n",
            "                          구 5.117061e+14\n",
            "                       강남여부 3.362049e+14\n",
            "avg_school_score_1km_scaled 2.352791e+14\n",
            "                          동 1.739367e+14\n",
            "                      k-연면적 1.095472e+14\n",
            "                       아파트명 8.041052e+13\n",
            "  nearest_high_score_scaled 8.018505e+13\n",
            "                        역세권 5.898817e+13\n",
            "    nearest_high_진학률_scaled 5.557341e+13\n",
            "                          층 5.232113e+13\n",
            "                    k-전체세대수 4.748309e+13\n",
            "\n",
            "🌳 RandomForest Top 15 중요 Feature:\n",
            "                    feature  importance\n",
            "                        계약년    0.238673\n",
            "                       전용면적    0.150396\n",
            "nearest_middle_score_scaled    0.079881\n",
            "                       건축년도    0.068325\n",
            "avg_school_score_1km_scaled    0.049351\n",
            "                          구    0.047422\n",
            "                       강남여부    0.029933\n",
            "                   k-주거전용면적    0.023192\n",
            "                       아파트명    0.022493\n",
            "                      k-연면적    0.020656\n",
            "                    k-전체세대수    0.019204\n",
            "                       신축여부    0.018654\n",
            "                  k-관리비부과면적    0.018483\n",
            "     k-전용면적별세대현황(60㎡~85㎡이하)    0.013539\n",
            "  nearest_high_score_scaled    0.013351\n",
            "\n",
            "⚡ XGBoost Top 15 중요 Feature:\n",
            "                    feature  importance\n",
            "nearest_middle_score_scaled    0.186122\n",
            "                       강남여부    0.170200\n",
            "                        계약년    0.067266\n",
            "                       신축여부    0.055785\n",
            "                          구    0.050898\n",
            "                       전용면적    0.046253\n",
            "avg_school_score_1km_scaled    0.037089\n",
            "               k-세대타입(분양형태)    0.031665\n",
            "                        역세권    0.026399\n",
            "                      k-연면적    0.025833\n",
            "                       건축년도    0.024285\n",
            "                          동    0.022480\n",
            "  nearest_high_score_scaled    0.019822\n",
            "                    k-전체세대수    0.014941\n",
            "                     중개사소재지    0.014711\n",
            "\n",
            "🎯 3개 모델 공통 중요 Feature (7개):\n",
            "  - avg_school_score_1km_scaled\n",
            "  - k-연면적\n",
            "  - nearest_middle_score_scaled\n",
            "  - 강남여부\n",
            "  - 계약년\n",
            "  - 구\n",
            "  - 전용면적\n"
          ]
        }
      ],
      "source": [
        "# Feature Importance 분석\n",
        "print(\"🔍 Feature Importance 분석\")\n",
        "print(\"=\" * 40)\n",
        "\n",
        "# LightGBM Feature Importance\n",
        "lgb_importance = pd.DataFrame({\n",
        "    'feature': X_train.columns,\n",
        "    'importance': lgb_model.feature_importance(importance_type='gain')\n",
        "}).sort_values('importance', ascending=False)\n",
        "\n",
        "print(\"📊 LightGBM Top 15 중요 Feature:\")\n",
        "print(lgb_importance.head(15).to_string(index=False))\n",
        "\n",
        "# RandomForest Feature Importance  \n",
        "rf_importance = pd.DataFrame({\n",
        "    'feature': X_train.columns,\n",
        "    'importance': rf_model.feature_importances_\n",
        "}).sort_values('importance', ascending=False)\n",
        "\n",
        "print(\"\\n🌳 RandomForest Top 15 중요 Feature:\")\n",
        "print(rf_importance.head(15).to_string(index=False))\n",
        "\n",
        "# XGBoost Feature Importance\n",
        "xgb_importance = pd.DataFrame({\n",
        "    'feature': X_train.columns,\n",
        "    'importance': xgb_model.feature_importances_\n",
        "}).sort_values('importance', ascending=False)\n",
        "\n",
        "print(\"\\n⚡ XGBoost Top 15 중요 Feature:\")\n",
        "print(xgb_importance.head(15).to_string(index=False))\n",
        "\n",
        "# 공통적으로 중요한 Feature 찾기\n",
        "top_features_lgb = set(lgb_importance.head(10)['feature'])\n",
        "top_features_rf = set(rf_importance.head(10)['feature'])\n",
        "top_features_xgb = set(xgb_importance.head(10)['feature'])\n",
        "\n",
        "common_features = top_features_lgb.intersection(top_features_rf).intersection(top_features_xgb)\n",
        "print(f\"\\n🎯 3개 모델 공통 중요 Feature ({len(common_features)}개):\")\n",
        "for feature in sorted(common_features):\n",
        "    print(f\"  - {feature}\")\n"
      ]
    }
  ],
  "metadata": {
    "colab": {
      "provenance": []
    },
    "kernelspec": {
      "display_name": "regression",
      "language": "python",
      "name": "python3"
    },
    "language_info": {
      "codemirror_mode": {
        "name": "ipython",
        "version": 3
      },
      "file_extension": ".py",
      "mimetype": "text/x-python",
      "name": "python",
      "nbconvert_exporter": "python",
      "pygments_lexer": "ipython3",
      "version": "3.11.0rc1"
    }
  },
  "nbformat": 4,
  "nbformat_minor": 0
}
